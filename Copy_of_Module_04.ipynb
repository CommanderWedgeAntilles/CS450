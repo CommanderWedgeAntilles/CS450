{
  "nbformat": 4,
  "nbformat_minor": 0,
  "metadata": {
    "colab": {
      "name": "Copy of Module-04.ipynb",
      "provenance": [],
      "collapsed_sections": [],
      "include_colab_link": true
    },
    "kernelspec": {
      "name": "python3",
      "display_name": "Python 3"
    }
  },
  "cells": [
    {
      "cell_type": "markdown",
      "metadata": {
        "id": "view-in-github",
        "colab_type": "text"
      },
      "source": [
        "<a href=\"https://colab.research.google.com/github/CommanderWedgeAntilles/CS450/blob/master/Copy_of_Module_04.ipynb\" target=\"_parent\"><img src=\"https://colab.research.google.com/assets/colab-badge.svg\" alt=\"Open In Colab\"/></a>"
      ]
    },
    {
      "cell_type": "markdown",
      "metadata": {
        "id": "-y7EUtW-XiFh"
      },
      "source": [
        "# Predicting Flops"
      ]
    },
    {
      "cell_type": "code",
      "metadata": {
        "id": "mA0HPVmIBT4C"
      },
      "source": [
        "import pandas as pd\n",
        "\n",
        "spotify = pd.read_csv('https://raw.githubusercontent.com/byui-cse/cse450-course/master/data/spotify/data.csv')"
      ],
      "execution_count": null,
      "outputs": []
    },
    {
      "cell_type": "markdown",
      "metadata": {
        "id": "WsGBR1LnXstG"
      },
      "source": [
        "First, let's look at the boxplot of the \"popularity\" column to determine the value for flops:"
      ]
    },
    {
      "cell_type": "code",
      "metadata": {
        "id": "StiU5QcPPxqQ",
        "outputId": "6cc07967-6b00-4e6d-e471-c51865d51675",
        "colab": {
          "base_uri": "https://localhost:8080/",
          "height": 282
        }
      },
      "source": [
        "spotify.boxplot(column=\"popularity\")"
      ],
      "execution_count": null,
      "outputs": [
        {
          "output_type": "execute_result",
          "data": {
            "text/plain": [
              "<matplotlib.axes._subplots.AxesSubplot at 0x7f0ec90a9780>"
            ]
          },
          "metadata": {
            "tags": []
          },
          "execution_count": 5
        },
        {
          "output_type": "display_data",
          "data": {
            "image/png": "[encoded data removed]",
            "text/plain": [
              "<Figure size 432x288 with 1 Axes>"
            ]
          },
          "metadata": {
            "tags": [],
            "needs_background": "light"
          }
        }
      ]
    },
    {
      "cell_type": "code",
      "metadata": {
        "id": "9f6kmdvJYBNe",
        "outputId": "0316f183-1b14-4326-baf8-5080cb3da4f0",
        "colab": {
          "base_uri": "https://localhost:8080/"
        }
      },
      "source": [
        "spotify.popularity.describe()"
      ],
      "execution_count": null,
      "outputs": [
        {
          "output_type": "execute_result",
          "data": {
            "text/plain": [
              "count    169909.000000\n",
              "mean         31.556610\n",
              "std          21.582614\n",
              "min           0.000000\n",
              "25%          12.000000\n",
              "50%          33.000000\n",
              "75%          48.000000\n",
              "max         100.000000\n",
              "Name: popularity, dtype: float64"
            ]
          },
          "metadata": {
            "tags": []
          },
          "execution_count": 7
        }
      ]
    },
    {
      "cell_type": "markdown",
      "metadata": {
        "id": "6GUoswt3ZruI"
      },
      "source": [
        "It looks like values that are less than 12 are definitely flops (in the 1st quartile). So let's create a column based on this value being a flop."
      ]
    },
    {
      "cell_type": "code",
      "metadata": {
        "id": "ALLMN63FPyEQ",
        "outputId": "5c5fb357-7752-427b-9a5f-c2c5f6c93f28",
        "colab": {
          "base_uri": "https://localhost:8080/",
          "height": 758
        }
      },
      "source": [
        "#Let's create a new column where we would know if somebody was contacted before or not\n",
        "f = lambda x: \"Yes\" if (x <= 12) else \"No\"\n",
        "spotify[\"flop\"] = list(map(f,spotify[\"popularity\"]))\n",
        "spotify"
      ],
      "execution_count": null,
      "outputs": [
        {
          "output_type": "execute_result",
          "data": {
            "text/html": [
              "<div>\n",
              "<style scoped>\n",
              "    .dataframe tbody tr th:only-of-type {\n",
              "        vertical-align: middle;\n",
              "    }\n",
              "\n",
              "    .dataframe tbody tr th {\n",
              "        vertical-align: top;\n",
              "    }\n",
              "\n",
              "    .dataframe thead th {\n",
              "        text-align: right;\n",
              "    }\n",
              "</style>\n",
              "<table border=\"1\" class=\"dataframe\">\n",
              "  <thead>\n",
              "    <tr style=\"text-align: right;\">\n",
              "      <th></th>\n",
              "      <th>acousticness</th>\n",
              "      <th>artists</th>\n",
              "      <th>danceability</th>\n",
              "      <th>duration_ms</th>\n",
              "      <th>energy</th>\n",
              "      <th>explicit</th>\n",
              "      <th>id</th>\n",
              "      <th>instrumentalness</th>\n",
              "      <th>key</th>\n",
              "      <th>liveness</th>\n",
              "      <th>loudness</th>\n",
              "      <th>mode</th>\n",
              "      <th>name</th>\n",
              "      <th>popularity</th>\n",
              "      <th>release_date</th>\n",
              "      <th>speechiness</th>\n",
              "      <th>tempo</th>\n",
              "      <th>valence</th>\n",
              "      <th>year</th>\n",
              "      <th>flop</th>\n",
              "    </tr>\n",
              "  </thead>\n",
              "  <tbody>\n",
              "    <tr>\n",
              "      <th>0</th>\n",
              "      <td>0.9950</td>\n",
              "      <td>['Carl Woitschach']</td>\n",
              "      <td>0.708</td>\n",
              "      <td>158648</td>\n",
              "      <td>0.1950</td>\n",
              "      <td>0</td>\n",
              "      <td>6KbQ3uYMLKb5jDxLF7wYDD</td>\n",
              "      <td>0.563000</td>\n",
              "      <td>10</td>\n",
              "      <td>0.1510</td>\n",
              "      <td>-12.428</td>\n",
              "      <td>1</td>\n",
              "      <td>Singende Bataillone 1. Teil</td>\n",
              "      <td>0</td>\n",
              "      <td>1928</td>\n",
              "      <td>0.0506</td>\n",
              "      <td>118.469</td>\n",
              "      <td>0.7790</td>\n",
              "      <td>1928</td>\n",
              "      <td>Yes</td>\n",
              "    </tr>\n",
              "    <tr>\n",
              "      <th>1</th>\n",
              "      <td>0.9940</td>\n",
              "      <td>['Robert Schumann', 'Vladimir Horowitz']</td>\n",
              "      <td>0.379</td>\n",
              "      <td>282133</td>\n",
              "      <td>0.0135</td>\n",
              "      <td>0</td>\n",
              "      <td>6KuQTIu1KoTTkLXKrwlLPV</td>\n",
              "      <td>0.901000</td>\n",
              "      <td>8</td>\n",
              "      <td>0.0763</td>\n",
              "      <td>-28.454</td>\n",
              "      <td>1</td>\n",
              "      <td>Fantasiestücke, Op. 111: Più tosto lento</td>\n",
              "      <td>0</td>\n",
              "      <td>1928</td>\n",
              "      <td>0.0462</td>\n",
              "      <td>83.972</td>\n",
              "      <td>0.0767</td>\n",
              "      <td>1928</td>\n",
              "      <td>Yes</td>\n",
              "    </tr>\n",
              "    <tr>\n",
              "      <th>2</th>\n",
              "      <td>0.6040</td>\n",
              "      <td>['Seweryn Goszczyński']</td>\n",
              "      <td>0.749</td>\n",
              "      <td>104300</td>\n",
              "      <td>0.2200</td>\n",
              "      <td>0</td>\n",
              "      <td>6L63VW0PibdM1HDSBoqnoM</td>\n",
              "      <td>0.000000</td>\n",
              "      <td>5</td>\n",
              "      <td>0.1190</td>\n",
              "      <td>-19.924</td>\n",
              "      <td>0</td>\n",
              "      <td>Chapter 1.18 - Zamek kaniowski</td>\n",
              "      <td>0</td>\n",
              "      <td>1928</td>\n",
              "      <td>0.9290</td>\n",
              "      <td>107.177</td>\n",
              "      <td>0.8800</td>\n",
              "      <td>1928</td>\n",
              "      <td>Yes</td>\n",
              "    </tr>\n",
              "    <tr>\n",
              "      <th>3</th>\n",
              "      <td>0.9950</td>\n",
              "      <td>['Francisco Canaro']</td>\n",
              "      <td>0.781</td>\n",
              "      <td>180760</td>\n",
              "      <td>0.1300</td>\n",
              "      <td>0</td>\n",
              "      <td>6M94FkXd15sOAOQYRnWPN8</td>\n",
              "      <td>0.887000</td>\n",
              "      <td>1</td>\n",
              "      <td>0.1110</td>\n",
              "      <td>-14.734</td>\n",
              "      <td>0</td>\n",
              "      <td>Bebamos Juntos - Instrumental (Remasterizado)</td>\n",
              "      <td>0</td>\n",
              "      <td>1928-09-25</td>\n",
              "      <td>0.0926</td>\n",
              "      <td>108.003</td>\n",
              "      <td>0.7200</td>\n",
              "      <td>1928</td>\n",
              "      <td>Yes</td>\n",
              "    </tr>\n",
              "    <tr>\n",
              "      <th>4</th>\n",
              "      <td>0.9900</td>\n",
              "      <td>['Frédéric Chopin', 'Vladimir Horowitz']</td>\n",
              "      <td>0.210</td>\n",
              "      <td>687733</td>\n",
              "      <td>0.2040</td>\n",
              "      <td>0</td>\n",
              "      <td>6N6tiFZ9vLTSOIxkj8qKrd</td>\n",
              "      <td>0.908000</td>\n",
              "      <td>11</td>\n",
              "      <td>0.0980</td>\n",
              "      <td>-16.829</td>\n",
              "      <td>1</td>\n",
              "      <td>Polonaise-Fantaisie in A-Flat Major, Op. 61</td>\n",
              "      <td>1</td>\n",
              "      <td>1928</td>\n",
              "      <td>0.0424</td>\n",
              "      <td>62.149</td>\n",
              "      <td>0.0693</td>\n",
              "      <td>1928</td>\n",
              "      <td>Yes</td>\n",
              "    </tr>\n",
              "    <tr>\n",
              "      <th>...</th>\n",
              "      <td>...</td>\n",
              "      <td>...</td>\n",
              "      <td>...</td>\n",
              "      <td>...</td>\n",
              "      <td>...</td>\n",
              "      <td>...</td>\n",
              "      <td>...</td>\n",
              "      <td>...</td>\n",
              "      <td>...</td>\n",
              "      <td>...</td>\n",
              "      <td>...</td>\n",
              "      <td>...</td>\n",
              "      <td>...</td>\n",
              "      <td>...</td>\n",
              "      <td>...</td>\n",
              "      <td>...</td>\n",
              "      <td>...</td>\n",
              "      <td>...</td>\n",
              "      <td>...</td>\n",
              "      <td>...</td>\n",
              "    </tr>\n",
              "    <tr>\n",
              "      <th>169904</th>\n",
              "      <td>0.1730</td>\n",
              "      <td>['DripReport', 'Tyga']</td>\n",
              "      <td>0.875</td>\n",
              "      <td>163800</td>\n",
              "      <td>0.4430</td>\n",
              "      <td>1</td>\n",
              "      <td>4KppkflX7I3vJQk7urOJaS</td>\n",
              "      <td>0.000032</td>\n",
              "      <td>1</td>\n",
              "      <td>0.0891</td>\n",
              "      <td>-7.461</td>\n",
              "      <td>1</td>\n",
              "      <td>Skechers (feat. Tyga) - Remix</td>\n",
              "      <td>75</td>\n",
              "      <td>2020-05-15</td>\n",
              "      <td>0.1430</td>\n",
              "      <td>100.012</td>\n",
              "      <td>0.3060</td>\n",
              "      <td>2020</td>\n",
              "      <td>No</td>\n",
              "    </tr>\n",
              "    <tr>\n",
              "      <th>169905</th>\n",
              "      <td>0.0167</td>\n",
              "      <td>['Leon Bridges', 'Terrace Martin']</td>\n",
              "      <td>0.719</td>\n",
              "      <td>167468</td>\n",
              "      <td>0.3850</td>\n",
              "      <td>0</td>\n",
              "      <td>1ehhGlTvjtHo2e4xJFB0SZ</td>\n",
              "      <td>0.031300</td>\n",
              "      <td>8</td>\n",
              "      <td>0.1110</td>\n",
              "      <td>-10.907</td>\n",
              "      <td>1</td>\n",
              "      <td>Sweeter (feat. Terrace Martin)</td>\n",
              "      <td>64</td>\n",
              "      <td>2020-06-08</td>\n",
              "      <td>0.0403</td>\n",
              "      <td>128.000</td>\n",
              "      <td>0.2700</td>\n",
              "      <td>2020</td>\n",
              "      <td>No</td>\n",
              "    </tr>\n",
              "    <tr>\n",
              "      <th>169906</th>\n",
              "      <td>0.5380</td>\n",
              "      <td>['Kygo', 'Oh Wonder']</td>\n",
              "      <td>0.514</td>\n",
              "      <td>180700</td>\n",
              "      <td>0.5390</td>\n",
              "      <td>0</td>\n",
              "      <td>52eycxprLhK3lPcRLbQiVk</td>\n",
              "      <td>0.002330</td>\n",
              "      <td>7</td>\n",
              "      <td>0.1080</td>\n",
              "      <td>-9.332</td>\n",
              "      <td>1</td>\n",
              "      <td>How Would I Know</td>\n",
              "      <td>70</td>\n",
              "      <td>2020-05-29</td>\n",
              "      <td>0.1050</td>\n",
              "      <td>123.700</td>\n",
              "      <td>0.1530</td>\n",
              "      <td>2020</td>\n",
              "      <td>No</td>\n",
              "    </tr>\n",
              "    <tr>\n",
              "      <th>169907</th>\n",
              "      <td>0.0714</td>\n",
              "      <td>['Cash Cash', 'Andy Grammer']</td>\n",
              "      <td>0.646</td>\n",
              "      <td>167308</td>\n",
              "      <td>0.7610</td>\n",
              "      <td>0</td>\n",
              "      <td>3wYOGJYD31sLRmBgCvWxa4</td>\n",
              "      <td>0.000000</td>\n",
              "      <td>1</td>\n",
              "      <td>0.2220</td>\n",
              "      <td>-2.557</td>\n",
              "      <td>1</td>\n",
              "      <td>I Found You</td>\n",
              "      <td>70</td>\n",
              "      <td>2020-02-28</td>\n",
              "      <td>0.0385</td>\n",
              "      <td>129.916</td>\n",
              "      <td>0.4720</td>\n",
              "      <td>2020</td>\n",
              "      <td>No</td>\n",
              "    </tr>\n",
              "    <tr>\n",
              "      <th>169908</th>\n",
              "      <td>0.1090</td>\n",
              "      <td>['Ingrid Andress']</td>\n",
              "      <td>0.512</td>\n",
              "      <td>214787</td>\n",
              "      <td>0.4280</td>\n",
              "      <td>0</td>\n",
              "      <td>60RFlt48hm0l4Fu0JoccOl</td>\n",
              "      <td>0.000000</td>\n",
              "      <td>0</td>\n",
              "      <td>0.1050</td>\n",
              "      <td>-7.387</td>\n",
              "      <td>1</td>\n",
              "      <td>More Hearts Than Mine</td>\n",
              "      <td>65</td>\n",
              "      <td>2020-03-27</td>\n",
              "      <td>0.0271</td>\n",
              "      <td>80.588</td>\n",
              "      <td>0.3660</td>\n",
              "      <td>2020</td>\n",
              "      <td>No</td>\n",
              "    </tr>\n",
              "  </tbody>\n",
              "</table>\n",
              "<p>169909 rows × 20 columns</p>\n",
              "</div>"
            ],
            "text/plain": [
              "        acousticness                                   artists  ...  year  flop\n",
              "0             0.9950                       ['Carl Woitschach']  ...  1928   Yes\n",
              "1             0.9940  ['Robert Schumann', 'Vladimir Horowitz']  ...  1928   Yes\n",
              "2             0.6040                   ['Seweryn Goszczyński']  ...  1928   Yes\n",
              "3             0.9950                      ['Francisco Canaro']  ...  1928   Yes\n",
              "4             0.9900  ['Frédéric Chopin', 'Vladimir Horowitz']  ...  1928   Yes\n",
              "...              ...                                       ...  ...   ...   ...\n",
              "169904        0.1730                    ['DripReport', 'Tyga']  ...  2020    No\n",
              "169905        0.0167        ['Leon Bridges', 'Terrace Martin']  ...  2020    No\n",
              "169906        0.5380                     ['Kygo', 'Oh Wonder']  ...  2020    No\n",
              "169907        0.0714             ['Cash Cash', 'Andy Grammer']  ...  2020    No\n",
              "169908        0.1090                        ['Ingrid Andress']  ...  2020    No\n",
              "\n",
              "[169909 rows x 20 columns]"
            ]
          },
          "metadata": {
            "tags": []
          },
          "execution_count": 8
        }
      ]
    },
    {
      "cell_type": "markdown",
      "metadata": {
        "id": "cIxR33kwbGuK"
      },
      "source": [
        "Now let's check if our data is balanced:"
      ]
    },
    {
      "cell_type": "code",
      "metadata": {
        "id": "RnGBwGVZPyyh",
        "outputId": "df0485a9-417f-4cd5-deff-f8ef94baf484",
        "colab": {
          "base_uri": "https://localhost:8080/"
        }
      },
      "source": [
        "spotify.flop.value_counts()"
      ],
      "execution_count": null,
      "outputs": [
        {
          "output_type": "execute_result",
          "data": {
            "text/plain": [
              "No     126960\n",
              "Yes     42949\n",
              "Name: flop, dtype: int64"
            ]
          },
          "metadata": {
            "tags": []
          },
          "execution_count": 16
        }
      ]
    },
    {
      "cell_type": "code",
      "metadata": {
        "id": "CVSfaqgKPzE2",
        "outputId": "f30fb7cb-d973-4e63-8b8f-ee1389bb5d44",
        "colab": {
          "base_uri": "https://localhost:8080/"
        }
      },
      "source": [
        "126960/(126960+42949)"
      ],
      "execution_count": null,
      "outputs": [
        {
          "output_type": "execute_result",
          "data": {
            "text/plain": [
              "0.7472235137632497"
            ]
          },
          "metadata": {
            "tags": []
          },
          "execution_count": 10
        }
      ]
    },
    {
      "cell_type": "markdown",
      "metadata": {
        "id": "tVmoDeONbXcx"
      },
      "source": [
        "It is not, 75% of our target value says \"No\", so let's balance our data:"
      ]
    },
    {
      "cell_type": "code",
      "metadata": {
        "id": "Jlr_p0Qsbm9u",
        "outputId": "93267a17-3a6e-49c5-cd34-3a6e9eb00ebb",
        "colab": {
          "base_uri": "https://localhost:8080/"
        }
      },
      "source": [
        "spotify.info()"
      ],
      "execution_count": null,
      "outputs": [
        {
          "output_type": "stream",
          "text": [
            "<class 'pandas.core.frame.DataFrame'>\n",
            "RangeIndex: 169909 entries, 0 to 169908\n",
            "Data columns (total 20 columns):\n",
            " #   Column            Non-Null Count   Dtype  \n",
            "---  ------            --------------   -----  \n",
            " 0   acousticness      169909 non-null  float64\n",
            " 1   artists           169909 non-null  object \n",
            " 2   danceability      169909 non-null  float64\n",
            " 3   duration_ms       169909 non-null  int64  \n",
            " 4   energy            169909 non-null  float64\n",
            " 5   explicit          169909 non-null  int64  \n",
            " 6   id                169909 non-null  object \n",
            " 7   instrumentalness  169909 non-null  float64\n",
            " 8   key               169909 non-null  int64  \n",
            " 9   liveness          169909 non-null  float64\n",
            " 10  loudness          169909 non-null  float64\n",
            " 11  mode              169909 non-null  int64  \n",
            " 12  name              169909 non-null  object \n",
            " 13  popularity        169909 non-null  int64  \n",
            " 14  release_date      169909 non-null  object \n",
            " 15  speechiness       169909 non-null  float64\n",
            " 16  tempo             169909 non-null  float64\n",
            " 17  valence           169909 non-null  float64\n",
            " 18  year              169909 non-null  int64  \n",
            " 19  flop              169909 non-null  object \n",
            "dtypes: float64(9), int64(6), object(5)\n",
            "memory usage: 25.9+ MB\n"
          ],
          "name": "stdout"
        }
      ]
    },
    {
      "cell_type": "code",
      "metadata": {
        "id": "i1LaqMrzbdfJ",
        "outputId": "ce9c65d1-659b-42fc-ff65-053e5b152ccf",
        "colab": {
          "base_uri": "https://localhost:8080/"
        }
      },
      "source": [
        "from imblearn.over_sampling import RandomOverSampler\n",
        "# https://imbalanced-learn.readthedocs.io/en/stable/user_guide.html\n",
        "\n",
        "\n",
        "# Let's over sample the minority class, which samples with replacement until the\n",
        "# majority (no) and the minority (yes) are equal\n",
        "ro = RandomOverSampler()\n",
        "\n",
        "# Decide which features to use\n",
        "features = ['acousticness', 'artists', 'danceability', 'duration_ms', 'energy',\n",
        "            'explicit', 'id', 'instrumentalness', 'key', 'liveness', 'loudness',\n",
        "            'mode', 'name', 'release_date', 'speechiness', 'tempo', 'valence', 'year'] \n",
        "\n",
        "X = spotify[features]\n",
        "y = spotify['flop']\n",
        "\n",
        "# Oversample, note that we oversample X and y at the same time in order to \n",
        "# make sure our features and targets stay synched.\n",
        "X_new, y_new = ro.fit_resample(X, y)\n",
        "\n",
        "# Convert this to a dataframe and check the counts, now they're equal, because\n",
        "# we have a bunch of duplicate survivors\n",
        "\n",
        "balanced_spotify = pd.DataFrame(data=X_new, columns= ['acousticness', 'artists', 'danceability', 'duration_ms', 'energy',\n",
        "            'explicit', 'id', 'instrumentalness', 'key', 'liveness', 'loudness',\n",
        "            'mode', 'name', 'release_date', 'speechiness', 'tempo', 'valence', 'year'] )\n",
        "balanced_spotify['flop'] = y_new \n",
        "balanced_spotify.flop.value_counts()"
      ],
      "execution_count": null,
      "outputs": [
        {
          "output_type": "stream",
          "text": [
            "/usr/local/lib/python3.6/dist-packages/sklearn/utils/deprecation.py:87: FutureWarning: Function safe_indexing is deprecated; safe_indexing is deprecated in version 0.22 and will be removed in version 0.24.\n",
            "  warnings.warn(msg, category=FutureWarning)\n"
          ],
          "name": "stderr"
        },
        {
          "output_type": "execute_result",
          "data": {
            "text/plain": [
              "Yes    126960\n",
              "No     126960\n",
              "Name: flop, dtype: int64"
            ]
          },
          "metadata": {
            "tags": []
          },
          "execution_count": 21
        }
      ]
    },
    {
      "cell_type": "markdown",
      "metadata": {
        "id": "pW7FreGndhrI"
      },
      "source": [
        "Now that we have 50% \"Yes\" and 50% \"No\" (balanced data), let's check if all the values are still the correct type."
      ]
    },
    {
      "cell_type": "code",
      "metadata": {
        "id": "asSZ5Qe9dzQr",
        "outputId": "5bf5a3bf-b221-471f-c0c1-b1ac4fb412cd",
        "colab": {
          "base_uri": "https://localhost:8080/"
        }
      },
      "source": [
        "spotify.info()"
      ],
      "execution_count": null,
      "outputs": [
        {
          "output_type": "stream",
          "text": [
            "<class 'pandas.core.frame.DataFrame'>\n",
            "RangeIndex: 169909 entries, 0 to 169908\n",
            "Data columns (total 20 columns):\n",
            " #   Column            Non-Null Count   Dtype  \n",
            "---  ------            --------------   -----  \n",
            " 0   acousticness      169909 non-null  float64\n",
            " 1   artists           169909 non-null  object \n",
            " 2   danceability      169909 non-null  float64\n",
            " 3   duration_ms       169909 non-null  int64  \n",
            " 4   energy            169909 non-null  float64\n",
            " 5   explicit          169909 non-null  int64  \n",
            " 6   id                169909 non-null  object \n",
            " 7   instrumentalness  169909 non-null  float64\n",
            " 8   key               169909 non-null  int64  \n",
            " 9   liveness          169909 non-null  float64\n",
            " 10  loudness          169909 non-null  float64\n",
            " 11  mode              169909 non-null  int64  \n",
            " 12  name              169909 non-null  object \n",
            " 13  popularity        169909 non-null  int64  \n",
            " 14  release_date      169909 non-null  object \n",
            " 15  speechiness       169909 non-null  float64\n",
            " 16  tempo             169909 non-null  float64\n",
            " 17  valence           169909 non-null  float64\n",
            " 18  year              169909 non-null  int64  \n",
            " 19  flop              169909 non-null  object \n",
            "dtypes: float64(9), int64(6), object(5)\n",
            "memory usage: 25.9+ MB\n"
          ],
          "name": "stdout"
        }
      ]
    },
    {
      "cell_type": "code",
      "metadata": {
        "id": "1qH4OiZJd_FR",
        "outputId": "5bd037eb-a810-4408-950e-5f02e536c39e",
        "colab": {
          "base_uri": "https://localhost:8080/"
        }
      },
      "source": [
        "balanced_spotify.info()"
      ],
      "execution_count": null,
      "outputs": [
        {
          "output_type": "stream",
          "text": [
            "<class 'pandas.core.frame.DataFrame'>\n",
            "RangeIndex: 253920 entries, 0 to 253919\n",
            "Data columns (total 19 columns):\n",
            " #   Column            Non-Null Count   Dtype \n",
            "---  ------            --------------   ----- \n",
            " 0   acousticness      253920 non-null  object\n",
            " 1   artists           253920 non-null  object\n",
            " 2   danceability      253920 non-null  object\n",
            " 3   duration_ms       253920 non-null  object\n",
            " 4   energy            253920 non-null  object\n",
            " 5   explicit          253920 non-null  object\n",
            " 6   id                253920 non-null  object\n",
            " 7   instrumentalness  253920 non-null  object\n",
            " 8   key               253920 non-null  object\n",
            " 9   liveness          253920 non-null  object\n",
            " 10  loudness          253920 non-null  object\n",
            " 11  mode              253920 non-null  object\n",
            " 12  name              253920 non-null  object\n",
            " 13  release_date      253920 non-null  object\n",
            " 14  speechiness       253920 non-null  object\n",
            " 15  tempo             253920 non-null  object\n",
            " 16  valence           253920 non-null  object\n",
            " 17  year              253920 non-null  object\n",
            " 18  flop              253920 non-null  object\n",
            "dtypes: object(19)\n",
            "memory usage: 36.8+ MB\n"
          ],
          "name": "stdout"
        }
      ]
    },
    {
      "cell_type": "markdown",
      "metadata": {
        "id": "FxwrrdfbeAx-"
      },
      "source": [
        "The types have changed, so let's change them back to what they were supposed to be:"
      ]
    },
    {
      "cell_type": "code",
      "metadata": {
        "id": "UQ_MNPEoeHzy",
        "outputId": "4420fb16-13a7-4980-c100-2a13810a5295",
        "colab": {
          "base_uri": "https://localhost:8080/"
        }
      },
      "source": [
        "balanced_spotify['acousticness'] = balanced_spotify['acousticness'].astype('float64')\n",
        "balanced_spotify['danceability'] = balanced_spotify['danceability'].astype('float64')\n",
        "balanced_spotify['duration_ms'] = balanced_spotify['duration_ms'].astype('int64')\n",
        "balanced_spotify['energy'] = balanced_spotify['energy'].astype('float64')\n",
        "balanced_spotify['explicit'] = balanced_spotify['explicit'].astype('int64')\n",
        "balanced_spotify['instrumentalness'] = balanced_spotify['instrumentalness'].astype('float64')\n",
        "balanced_spotify['key'] = balanced_spotify['key'].astype('int64')\n",
        "balanced_spotify['liveness'] = balanced_spotify['liveness'].astype('float64')\n",
        "balanced_spotify['loudness'] = balanced_spotify['loudness'].astype('float64')\n",
        "balanced_spotify['mode'] = balanced_spotify['mode'].astype('int64')\n",
        "balanced_spotify['speechiness'] = balanced_spotify['speechiness'].astype('float64')\n",
        "balanced_spotify['tempo'] = balanced_spotify['tempo'].astype('float64')\n",
        "balanced_spotify['valence'] = balanced_spotify['valence'].astype('float64')\n",
        "balanced_spotify['year'] = balanced_spotify['year'].astype('int64')\n",
        "\n",
        "balanced_spotify.info()"
      ],
      "execution_count": null,
      "outputs": [
        {
          "output_type": "stream",
          "text": [
            "<class 'pandas.core.frame.DataFrame'>\n",
            "RangeIndex: 253920 entries, 0 to 253919\n",
            "Data columns (total 19 columns):\n",
            " #   Column            Non-Null Count   Dtype  \n",
            "---  ------            --------------   -----  \n",
            " 0   acousticness      253920 non-null  float64\n",
            " 1   artists           253920 non-null  object \n",
            " 2   danceability      253920 non-null  float64\n",
            " 3   duration_ms       253920 non-null  int64  \n",
            " 4   energy            253920 non-null  float64\n",
            " 5   explicit          253920 non-null  int64  \n",
            " 6   id                253920 non-null  object \n",
            " 7   instrumentalness  253920 non-null  float64\n",
            " 8   key               253920 non-null  int64  \n",
            " 9   liveness          253920 non-null  float64\n",
            " 10  loudness          253920 non-null  float64\n",
            " 11  mode              253920 non-null  int64  \n",
            " 12  name              253920 non-null  object \n",
            " 13  release_date      253920 non-null  object \n",
            " 14  speechiness       253920 non-null  float64\n",
            " 15  tempo             253920 non-null  float64\n",
            " 16  valence           253920 non-null  float64\n",
            " 17  year              253920 non-null  int64  \n",
            " 18  flop              253920 non-null  object \n",
            "dtypes: float64(9), int64(5), object(5)\n",
            "memory usage: 36.8+ MB\n"
          ],
          "name": "stdout"
        }
      ]
    },
    {
      "cell_type": "markdown",
      "metadata": {
        "id": "_bwGqA3pfaZh"
      },
      "source": [
        "Now, let's create the Decision Tree:"
      ]
    },
    {
      "cell_type": "code",
      "metadata": {
        "id": "NqyfRUCMfkz3",
        "outputId": "a84c69b7-164c-432e-fcc9-19b5698d63ee",
        "colab": {
          "base_uri": "https://localhost:8080/"
        }
      },
      "source": [
        "from sklearn import tree\n",
        "from sklearn.tree import DecisionTreeClassifier\n",
        "from sklearn.preprocessing import OneHotEncoder\n",
        "from sklearn.model_selection import train_test_split\n",
        "\n",
        "# I am using only continuous features here because all the categorical don't really help us (like id, or artists)\n",
        "features = ['acousticness', 'danceability', 'duration_ms', 'energy',\n",
        "            'explicit', 'instrumentalness', 'key', 'liveness', 'loudness',\n",
        "            'mode', 'speechiness', 'tempo', 'valence', 'year']\n",
        "X = balanced_spotify[features]\n",
        "\n",
        "y = balanced_spotify.flop\n",
        "\n",
        "# Split our data into training and test data, with 30% reserved for testing\n",
        "X_train, X_test, y_train, y_test = train_test_split(X, y, test_size=0.30)\n",
        "\n",
        "# Build the decision tree\n",
        "clf = DecisionTreeClassifier(min_samples_leaf = 1, max_depth=25)\n",
        "\n",
        "# Train it\n",
        "clf.fit(X_train, y_train)\n",
        "\n",
        "# Test it \n",
        "clf.score(X_test, y_test)\n"
      ],
      "execution_count": null,
      "outputs": [
        {
          "output_type": "execute_result",
          "data": {
            "text/plain": [
              "0.9648839529510607"
            ]
          },
          "metadata": {
            "tags": []
          },
          "execution_count": 29
        }
      ]
    },
    {
      "cell_type": "code",
      "metadata": {
        "id": "SYgXzlbghCSv",
        "outputId": "6119c2a1-9836-4867-fa61-4dab3b98fba1",
        "colab": {
          "base_uri": "https://localhost:8080/",
          "height": 1000
        }
      },
      "source": [
        "# Let's visualize the tree\n",
        "import matplotlib.pyplot as plt\n",
        "\n",
        "fig, ax = plt.subplots(figsize=(20, 20))\n",
        "tree.plot_tree(clf, fontsize=10, feature_names=X.columns, max_depth=3)\n",
        "plt.show()"
      ],
      "execution_count": null,
      "outputs": [
        {
          "output_type": "display_data",
          "data": {
            "image/png": "[encoded data removed]",
            "text/plain": [
              "<Figure size 1440x1440 with 1 Axes>"
            ]
          },
          "metadata": {
            "tags": [],
            "needs_background": "light"
          }
        }
      ]
    }
  ]
}