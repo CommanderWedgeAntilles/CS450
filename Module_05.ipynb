{
  "nbformat": 4,
  "nbformat_minor": 0,
  "metadata": {
    "colab": {
      "name": "Module-05.ipynb",
      "provenance": [],
      "collapsed_sections": [],
      "include_colab_link": true
    },
    "kernelspec": {
      "name": "python3",
      "display_name": "Python 3"
    }
  },
  "cells": [
    {
      "cell_type": "markdown",
      "metadata": {
        "id": "view-in-github",
        "colab_type": "text"
      },
      "source": [
        "<a href=\"https://colab.research.google.com/github/CommanderWedgeAntilles/CS450/blob/master/Module_05.ipynb\" target=\"_parent\"><img src=\"https://colab.research.google.com/assets/colab-badge.svg\" alt=\"Open In Colab\"/></a>"
      ]
    },
    {
      "cell_type": "markdown",
      "metadata": {
        "id": "2Hl_80q3ksHG"
      },
      "source": [
        "# Building a neural network that can predict the number of bicycle rentals for a given day"
      ]
    },
    {
      "cell_type": "markdown",
      "metadata": {
        "id": "xHbcCRJ6MtWj"
      },
      "source": [
        "### Import data"
      ]
    },
    {
      "cell_type": "code",
      "metadata": {
        "id": "mA0HPVmIBT4C"
      },
      "source": [
        "import pandas as pd\n",
        "import tensorflow as tf\n",
        "from tensorflow import keras\n",
        "from tensorflow.keras import layers\n",
        "\n",
        "bikes = pd.read_csv('https://raw.githubusercontent.com/byui-cse/cse450-course/master/data/bikes.csv')"
      ],
      "execution_count": null,
      "outputs": []
    },
    {
      "cell_type": "code",
      "metadata": {
        "id": "StiU5QcPPxqQ",
        "colab": {
          "base_uri": "https://localhost:8080/"
        },
        "outputId": "26563b42-45cd-4f3c-82f4-90ee316e9785"
      },
      "source": [
        "bikes.tail(10)"
      ],
      "execution_count": null,
      "outputs": [
        {
          "output_type": "execute_result",
          "data": {
            "text/html": [
              "<div>\n",
              "<style scoped>\n",
              "    .dataframe tbody tr th:only-of-type {\n",
              "        vertical-align: middle;\n",
              "    }\n",
              "\n",
              "    .dataframe tbody tr th {\n",
              "        vertical-align: top;\n",
              "    }\n",
              "\n",
              "    .dataframe thead th {\n",
              "        text-align: right;\n",
              "    }\n",
              "</style>\n",
              "<table border=\"1\" class=\"dataframe\">\n",
              "  <thead>\n",
              "    <tr style=\"text-align: right;\">\n",
              "      <th></th>\n",
              "      <th>Unnamed: 0</th>\n",
              "      <th>instant</th>\n",
              "      <th>dteday</th>\n",
              "      <th>season</th>\n",
              "      <th>hr</th>\n",
              "      <th>holiday</th>\n",
              "      <th>workingday</th>\n",
              "      <th>weathersit</th>\n",
              "      <th>hum</th>\n",
              "      <th>windspeed</th>\n",
              "      <th>temp_c</th>\n",
              "      <th>feels_like_c</th>\n",
              "      <th>casual</th>\n",
              "      <th>registered</th>\n",
              "    </tr>\n",
              "  </thead>\n",
              "  <tbody>\n",
              "    <tr>\n",
              "      <th>17369</th>\n",
              "      <td>17369</td>\n",
              "      <td>17370</td>\n",
              "      <td>12/31/12</td>\n",
              "      <td>1</td>\n",
              "      <td>14</td>\n",
              "      <td>0</td>\n",
              "      <td>1</td>\n",
              "      <td>2</td>\n",
              "      <td>0.45</td>\n",
              "      <td>15</td>\n",
              "      <td>5.16</td>\n",
              "      <td>1.9982</td>\n",
              "      <td>62</td>\n",
              "      <td>185</td>\n",
              "    </tr>\n",
              "    <tr>\n",
              "      <th>17370</th>\n",
              "      <td>17370</td>\n",
              "      <td>17371</td>\n",
              "      <td>12/31/12</td>\n",
              "      <td>1</td>\n",
              "      <td>15</td>\n",
              "      <td>0</td>\n",
              "      <td>1</td>\n",
              "      <td>2</td>\n",
              "      <td>0.45</td>\n",
              "      <td>9</td>\n",
              "      <td>5.16</td>\n",
              "      <td>3.0014</td>\n",
              "      <td>69</td>\n",
              "      <td>246</td>\n",
              "    </tr>\n",
              "    <tr>\n",
              "      <th>17371</th>\n",
              "      <td>17371</td>\n",
              "      <td>17372</td>\n",
              "      <td>12/31/12</td>\n",
              "      <td>1</td>\n",
              "      <td>16</td>\n",
              "      <td>0</td>\n",
              "      <td>1</td>\n",
              "      <td>2</td>\n",
              "      <td>0.48</td>\n",
              "      <td>13</td>\n",
              "      <td>4.22</td>\n",
              "      <td>1.0016</td>\n",
              "      <td>30</td>\n",
              "      <td>184</td>\n",
              "    </tr>\n",
              "    <tr>\n",
              "      <th>17372</th>\n",
              "      <td>17372</td>\n",
              "      <td>17373</td>\n",
              "      <td>12/31/12</td>\n",
              "      <td>1</td>\n",
              "      <td>17</td>\n",
              "      <td>0</td>\n",
              "      <td>1</td>\n",
              "      <td>2</td>\n",
              "      <td>0.48</td>\n",
              "      <td>6</td>\n",
              "      <td>4.22</td>\n",
              "      <td>3.0014</td>\n",
              "      <td>14</td>\n",
              "      <td>150</td>\n",
              "    </tr>\n",
              "    <tr>\n",
              "      <th>17373</th>\n",
              "      <td>17373</td>\n",
              "      <td>17374</td>\n",
              "      <td>12/31/12</td>\n",
              "      <td>1</td>\n",
              "      <td>18</td>\n",
              "      <td>0</td>\n",
              "      <td>1</td>\n",
              "      <td>2</td>\n",
              "      <td>0.48</td>\n",
              "      <td>9</td>\n",
              "      <td>4.22</td>\n",
              "      <td>1.9982</td>\n",
              "      <td>10</td>\n",
              "      <td>112</td>\n",
              "    </tr>\n",
              "    <tr>\n",
              "      <th>17374</th>\n",
              "      <td>17374</td>\n",
              "      <td>17375</td>\n",
              "      <td>12/31/12</td>\n",
              "      <td>1</td>\n",
              "      <td>19</td>\n",
              "      <td>0</td>\n",
              "      <td>1</td>\n",
              "      <td>2</td>\n",
              "      <td>0.60</td>\n",
              "      <td>11</td>\n",
              "      <td>4.22</td>\n",
              "      <td>1.0016</td>\n",
              "      <td>11</td>\n",
              "      <td>108</td>\n",
              "    </tr>\n",
              "    <tr>\n",
              "      <th>17375</th>\n",
              "      <td>17375</td>\n",
              "      <td>17376</td>\n",
              "      <td>12/31/12</td>\n",
              "      <td>1</td>\n",
              "      <td>20</td>\n",
              "      <td>0</td>\n",
              "      <td>1</td>\n",
              "      <td>2</td>\n",
              "      <td>0.60</td>\n",
              "      <td>11</td>\n",
              "      <td>4.22</td>\n",
              "      <td>1.0016</td>\n",
              "      <td>8</td>\n",
              "      <td>81</td>\n",
              "    </tr>\n",
              "    <tr>\n",
              "      <th>17376</th>\n",
              "      <td>17376</td>\n",
              "      <td>17377</td>\n",
              "      <td>12/31/12</td>\n",
              "      <td>1</td>\n",
              "      <td>21</td>\n",
              "      <td>0</td>\n",
              "      <td>1</td>\n",
              "      <td>1</td>\n",
              "      <td>0.60</td>\n",
              "      <td>11</td>\n",
              "      <td>4.22</td>\n",
              "      <td>1.0016</td>\n",
              "      <td>7</td>\n",
              "      <td>83</td>\n",
              "    </tr>\n",
              "    <tr>\n",
              "      <th>17377</th>\n",
              "      <td>17377</td>\n",
              "      <td>17378</td>\n",
              "      <td>12/31/12</td>\n",
              "      <td>1</td>\n",
              "      <td>22</td>\n",
              "      <td>0</td>\n",
              "      <td>1</td>\n",
              "      <td>1</td>\n",
              "      <td>0.56</td>\n",
              "      <td>9</td>\n",
              "      <td>4.22</td>\n",
              "      <td>1.9982</td>\n",
              "      <td>13</td>\n",
              "      <td>48</td>\n",
              "    </tr>\n",
              "    <tr>\n",
              "      <th>17378</th>\n",
              "      <td>17378</td>\n",
              "      <td>17379</td>\n",
              "      <td>12/31/12</td>\n",
              "      <td>1</td>\n",
              "      <td>23</td>\n",
              "      <td>0</td>\n",
              "      <td>1</td>\n",
              "      <td>1</td>\n",
              "      <td>0.65</td>\n",
              "      <td>9</td>\n",
              "      <td>4.22</td>\n",
              "      <td>1.9982</td>\n",
              "      <td>12</td>\n",
              "      <td>37</td>\n",
              "    </tr>\n",
              "  </tbody>\n",
              "</table>\n",
              "</div>"
            ],
            "text/plain": [
              "       Unnamed: 0  instant    dteday  ...  feels_like_c  casual  registered\n",
              "17369       17369    17370  12/31/12  ...        1.9982      62         185\n",
              "17370       17370    17371  12/31/12  ...        3.0014      69         246\n",
              "17371       17371    17372  12/31/12  ...        1.0016      30         184\n",
              "17372       17372    17373  12/31/12  ...        3.0014      14         150\n",
              "17373       17373    17374  12/31/12  ...        1.9982      10         112\n",
              "17374       17374    17375  12/31/12  ...        1.0016      11         108\n",
              "17375       17375    17376  12/31/12  ...        1.0016       8          81\n",
              "17376       17376    17377  12/31/12  ...        1.0016       7          83\n",
              "17377       17377    17378  12/31/12  ...        1.9982      13          48\n",
              "17378       17378    17379  12/31/12  ...        1.9982      12          37\n",
              "\n",
              "[10 rows x 14 columns]"
            ]
          },
          "metadata": {
            "tags": []
          },
          "execution_count": 3
        }
      ]
    },
    {
      "cell_type": "code",
      "metadata": {
        "id": "ALLMN63FPyEQ",
        "colab": {
          "base_uri": "https://localhost:8080/"
        },
        "outputId": "db353d0a-4fe7-4c59-8dd9-3519d0941dbb"
      },
      "source": [
        "bikes.info()"
      ],
      "execution_count": null,
      "outputs": [
        {
          "output_type": "stream",
          "text": [
            "<class 'pandas.core.frame.DataFrame'>\n",
            "RangeIndex: 17379 entries, 0 to 17378\n",
            "Data columns (total 14 columns):\n",
            " #   Column        Non-Null Count  Dtype  \n",
            "---  ------        --------------  -----  \n",
            " 0   Unnamed: 0    17379 non-null  int64  \n",
            " 1   instant       17379 non-null  int64  \n",
            " 2   dteday        17379 non-null  object \n",
            " 3   season        17379 non-null  int64  \n",
            " 4   hr            17379 non-null  int64  \n",
            " 5   holiday       17379 non-null  int64  \n",
            " 6   workingday    17379 non-null  int64  \n",
            " 7   weathersit    17379 non-null  int64  \n",
            " 8   hum           17379 non-null  float64\n",
            " 9   windspeed     17379 non-null  int64  \n",
            " 10  temp_c        17379 non-null  float64\n",
            " 11  feels_like_c  17379 non-null  float64\n",
            " 12  casual        17379 non-null  int64  \n",
            " 13  registered    17379 non-null  int64  \n",
            "dtypes: float64(3), int64(10), object(1)\n",
            "memory usage: 1.9+ MB\n"
          ],
          "name": "stdout"
        }
      ]
    },
    {
      "cell_type": "markdown",
      "metadata": {
        "id": "skpzyDd2n216"
      },
      "source": [
        "# **Basics with Keras**"
      ]
    },
    {
      "cell_type": "markdown",
      "metadata": {
        "id": "9S0jQh9yniUo"
      },
      "source": [
        "# *Regression*"
      ]
    },
    {
      "cell_type": "markdown",
      "metadata": {
        "id": "yzhE7458Mz_r"
      },
      "source": [
        "### Import the libraries"
      ]
    },
    {
      "cell_type": "code",
      "metadata": {
        "id": "RnGBwGVZPyyh"
      },
      "source": [
        "# Use seaborn for pairplot\n",
        "!pip install -q seaborn"
      ],
      "execution_count": null,
      "outputs": []
    },
    {
      "cell_type": "code",
      "metadata": {
        "id": "CVSfaqgKPzE2"
      },
      "source": [
        "import matplotlib.pyplot as plt\n",
        "import numpy as np\n",
        "import pandas as pd\n",
        "import seaborn as sns\n",
        "\n",
        "\n",
        "# Make numpy printouts easier to read.\n",
        "np.set_printoptions(precision=3, suppress=True)"
      ],
      "execution_count": null,
      "outputs": []
    },
    {
      "cell_type": "markdown",
      "metadata": {
        "id": "s8VV_M3FpT0q"
      },
      "source": [
        "### Clean the data:"
      ]
    },
    {
      "cell_type": "markdown",
      "metadata": {
        "id": "vtW4ZFSSQ-e8"
      },
      "source": [
        "#### Check for NAs"
      ]
    },
    {
      "cell_type": "code",
      "metadata": {
        "id": "TWuq3d3hov4x",
        "colab": {
          "base_uri": "https://localhost:8080/"
        },
        "outputId": "48946e51-758a-475a-ea8f-f93a0a29310f"
      },
      "source": [
        "bikes.isna().sum()"
      ],
      "execution_count": null,
      "outputs": [
        {
          "output_type": "execute_result",
          "data": {
            "text/plain": [
              "Unnamed: 0      0\n",
              "instant         0\n",
              "dteday          0\n",
              "season          0\n",
              "hr              0\n",
              "holiday         0\n",
              "workingday      0\n",
              "weathersit      0\n",
              "hum             0\n",
              "windspeed       0\n",
              "temp_c          0\n",
              "feels_like_c    0\n",
              "casual          0\n",
              "registered      0\n",
              "dtype: int64"
            ]
          },
          "metadata": {
            "tags": []
          },
          "execution_count": 7
        }
      ]
    },
    {
      "cell_type": "code",
      "metadata": {
        "id": "g_MO6_6Po8tJ"
      },
      "source": [
        "# dataset = bikes.dropna()\n",
        "# bikes.info()"
      ],
      "execution_count": null,
      "outputs": []
    },
    {
      "cell_type": "markdown",
      "metadata": {
        "id": "gnMZUJshpEyA"
      },
      "source": [
        "No NAs in dataset.\n"
      ]
    },
    {
      "cell_type": "markdown",
      "metadata": {
        "id": "TOIaZ0ooRDNW"
      },
      "source": [
        "#### Create new columns"
      ]
    },
    {
      "cell_type": "markdown",
      "metadata": {
        "id": "eer0ddVOpqTZ"
      },
      "source": [
        "The \"dteday\" column is really categorical, not numeric. Let's create a more useful column from it and encode it."
      ]
    },
    {
      "cell_type": "code",
      "metadata": {
        "id": "U7UWTm8qs7OS",
        "colab": {
          "base_uri": "https://localhost:8080/"
        },
        "outputId": "866eaf80-04bb-469c-af58-39d4d96e555e"
      },
      "source": [
        "#Convert dteday column into time\n",
        "bikes['dteday'] = pd.to_datetime(bikes['dteday'])\n",
        "bikes.head()"
      ],
      "execution_count": null,
      "outputs": [
        {
          "output_type": "execute_result",
          "data": {
            "text/html": [
              "<div>\n",
              "<style scoped>\n",
              "    .dataframe tbody tr th:only-of-type {\n",
              "        vertical-align: middle;\n",
              "    }\n",
              "\n",
              "    .dataframe tbody tr th {\n",
              "        vertical-align: top;\n",
              "    }\n",
              "\n",
              "    .dataframe thead th {\n",
              "        text-align: right;\n",
              "    }\n",
              "</style>\n",
              "<table border=\"1\" class=\"dataframe\">\n",
              "  <thead>\n",
              "    <tr style=\"text-align: right;\">\n",
              "      <th></th>\n",
              "      <th>Unnamed: 0</th>\n",
              "      <th>instant</th>\n",
              "      <th>dteday</th>\n",
              "      <th>season</th>\n",
              "      <th>hr</th>\n",
              "      <th>holiday</th>\n",
              "      <th>workingday</th>\n",
              "      <th>weathersit</th>\n",
              "      <th>hum</th>\n",
              "      <th>windspeed</th>\n",
              "      <th>temp_c</th>\n",
              "      <th>feels_like_c</th>\n",
              "      <th>casual</th>\n",
              "      <th>registered</th>\n",
              "    </tr>\n",
              "  </thead>\n",
              "  <tbody>\n",
              "    <tr>\n",
              "      <th>0</th>\n",
              "      <td>0</td>\n",
              "      <td>1</td>\n",
              "      <td>2011-01-01</td>\n",
              "      <td>1</td>\n",
              "      <td>0</td>\n",
              "      <td>0</td>\n",
              "      <td>0</td>\n",
              "      <td>1</td>\n",
              "      <td>0.81</td>\n",
              "      <td>0</td>\n",
              "      <td>3.28</td>\n",
              "      <td>3.0014</td>\n",
              "      <td>3</td>\n",
              "      <td>13</td>\n",
              "    </tr>\n",
              "    <tr>\n",
              "      <th>1</th>\n",
              "      <td>1</td>\n",
              "      <td>2</td>\n",
              "      <td>2011-01-01</td>\n",
              "      <td>1</td>\n",
              "      <td>1</td>\n",
              "      <td>0</td>\n",
              "      <td>0</td>\n",
              "      <td>1</td>\n",
              "      <td>0.80</td>\n",
              "      <td>0</td>\n",
              "      <td>2.34</td>\n",
              "      <td>1.9982</td>\n",
              "      <td>8</td>\n",
              "      <td>32</td>\n",
              "    </tr>\n",
              "    <tr>\n",
              "      <th>2</th>\n",
              "      <td>2</td>\n",
              "      <td>3</td>\n",
              "      <td>2011-01-01</td>\n",
              "      <td>1</td>\n",
              "      <td>2</td>\n",
              "      <td>0</td>\n",
              "      <td>0</td>\n",
              "      <td>1</td>\n",
              "      <td>0.80</td>\n",
              "      <td>0</td>\n",
              "      <td>2.34</td>\n",
              "      <td>1.9982</td>\n",
              "      <td>5</td>\n",
              "      <td>27</td>\n",
              "    </tr>\n",
              "    <tr>\n",
              "      <th>3</th>\n",
              "      <td>3</td>\n",
              "      <td>4</td>\n",
              "      <td>2011-01-01</td>\n",
              "      <td>1</td>\n",
              "      <td>3</td>\n",
              "      <td>0</td>\n",
              "      <td>0</td>\n",
              "      <td>1</td>\n",
              "      <td>0.75</td>\n",
              "      <td>0</td>\n",
              "      <td>3.28</td>\n",
              "      <td>3.0014</td>\n",
              "      <td>3</td>\n",
              "      <td>10</td>\n",
              "    </tr>\n",
              "    <tr>\n",
              "      <th>4</th>\n",
              "      <td>4</td>\n",
              "      <td>5</td>\n",
              "      <td>2011-01-01</td>\n",
              "      <td>1</td>\n",
              "      <td>4</td>\n",
              "      <td>0</td>\n",
              "      <td>0</td>\n",
              "      <td>1</td>\n",
              "      <td>0.75</td>\n",
              "      <td>0</td>\n",
              "      <td>3.28</td>\n",
              "      <td>3.0014</td>\n",
              "      <td>0</td>\n",
              "      <td>1</td>\n",
              "    </tr>\n",
              "  </tbody>\n",
              "</table>\n",
              "</div>"
            ],
            "text/plain": [
              "   Unnamed: 0  instant     dteday  ...  feels_like_c  casual  registered\n",
              "0           0        1 2011-01-01  ...        3.0014       3          13\n",
              "1           1        2 2011-01-01  ...        1.9982       8          32\n",
              "2           2        3 2011-01-01  ...        1.9982       5          27\n",
              "3           3        4 2011-01-01  ...        3.0014       3          10\n",
              "4           4        5 2011-01-01  ...        3.0014       0           1\n",
              "\n",
              "[5 rows x 14 columns]"
            ]
          },
          "metadata": {
            "tags": []
          },
          "execution_count": 9
        }
      ]
    },
    {
      "cell_type": "code",
      "metadata": {
        "id": "DaQxKMoFvFMt",
        "colab": {
          "base_uri": "https://localhost:8080/"
        },
        "outputId": "cae0b827-ba28-49e8-9d2b-a64d77151d28"
      },
      "source": [
        "bikes.info()"
      ],
      "execution_count": null,
      "outputs": [
        {
          "output_type": "stream",
          "text": [
            "<class 'pandas.core.frame.DataFrame'>\n",
            "RangeIndex: 17379 entries, 0 to 17378\n",
            "Data columns (total 14 columns):\n",
            " #   Column        Non-Null Count  Dtype         \n",
            "---  ------        --------------  -----         \n",
            " 0   Unnamed: 0    17379 non-null  int64         \n",
            " 1   instant       17379 non-null  int64         \n",
            " 2   dteday        17379 non-null  datetime64[ns]\n",
            " 3   season        17379 non-null  int64         \n",
            " 4   hr            17379 non-null  int64         \n",
            " 5   holiday       17379 non-null  int64         \n",
            " 6   workingday    17379 non-null  int64         \n",
            " 7   weathersit    17379 non-null  int64         \n",
            " 8   hum           17379 non-null  float64       \n",
            " 9   windspeed     17379 non-null  int64         \n",
            " 10  temp_c        17379 non-null  float64       \n",
            " 11  feels_like_c  17379 non-null  float64       \n",
            " 12  casual        17379 non-null  int64         \n",
            " 13  registered    17379 non-null  int64         \n",
            "dtypes: datetime64[ns](1), float64(3), int64(10)\n",
            "memory usage: 1.9 MB\n"
          ],
          "name": "stdout"
        }
      ]
    },
    {
      "cell_type": "markdown",
      "metadata": {
        "id": "UAwvwHO-RK-F"
      },
      "source": [
        "##### Create Day of Week Column"
      ]
    },
    {
      "cell_type": "code",
      "metadata": {
        "id": "QFOQgfqG-vtJ",
        "colab": {
          "base_uri": "https://localhost:8080/"
        },
        "outputId": "a877f3c5-49dd-434f-f7e0-52379eb495a0"
      },
      "source": [
        "#Create day of week column\n",
        "bikes['day_of_week'] = bikes['dteday'].dt.day_name()\n",
        "bikes"
      ],
      "execution_count": null,
      "outputs": [
        {
          "output_type": "execute_result",
          "data": {
            "text/html": [
              "<div>\n",
              "<style scoped>\n",
              "    .dataframe tbody tr th:only-of-type {\n",
              "        vertical-align: middle;\n",
              "    }\n",
              "\n",
              "    .dataframe tbody tr th {\n",
              "        vertical-align: top;\n",
              "    }\n",
              "\n",
              "    .dataframe thead th {\n",
              "        text-align: right;\n",
              "    }\n",
              "</style>\n",
              "<table border=\"1\" class=\"dataframe\">\n",
              "  <thead>\n",
              "    <tr style=\"text-align: right;\">\n",
              "      <th></th>\n",
              "      <th>Unnamed: 0</th>\n",
              "      <th>instant</th>\n",
              "      <th>dteday</th>\n",
              "      <th>season</th>\n",
              "      <th>hr</th>\n",
              "      <th>holiday</th>\n",
              "      <th>workingday</th>\n",
              "      <th>weathersit</th>\n",
              "      <th>hum</th>\n",
              "      <th>windspeed</th>\n",
              "      <th>temp_c</th>\n",
              "      <th>feels_like_c</th>\n",
              "      <th>casual</th>\n",
              "      <th>registered</th>\n",
              "      <th>day_of_week</th>\n",
              "    </tr>\n",
              "  </thead>\n",
              "  <tbody>\n",
              "    <tr>\n",
              "      <th>0</th>\n",
              "      <td>0</td>\n",
              "      <td>1</td>\n",
              "      <td>2011-01-01</td>\n",
              "      <td>1</td>\n",
              "      <td>0</td>\n",
              "      <td>0</td>\n",
              "      <td>0</td>\n",
              "      <td>1</td>\n",
              "      <td>0.81</td>\n",
              "      <td>0</td>\n",
              "      <td>3.28</td>\n",
              "      <td>3.0014</td>\n",
              "      <td>3</td>\n",
              "      <td>13</td>\n",
              "      <td>Saturday</td>\n",
              "    </tr>\n",
              "    <tr>\n",
              "      <th>1</th>\n",
              "      <td>1</td>\n",
              "      <td>2</td>\n",
              "      <td>2011-01-01</td>\n",
              "      <td>1</td>\n",
              "      <td>1</td>\n",
              "      <td>0</td>\n",
              "      <td>0</td>\n",
              "      <td>1</td>\n",
              "      <td>0.80</td>\n",
              "      <td>0</td>\n",
              "      <td>2.34</td>\n",
              "      <td>1.9982</td>\n",
              "      <td>8</td>\n",
              "      <td>32</td>\n",
              "      <td>Saturday</td>\n",
              "    </tr>\n",
              "    <tr>\n",
              "      <th>2</th>\n",
              "      <td>2</td>\n",
              "      <td>3</td>\n",
              "      <td>2011-01-01</td>\n",
              "      <td>1</td>\n",
              "      <td>2</td>\n",
              "      <td>0</td>\n",
              "      <td>0</td>\n",
              "      <td>1</td>\n",
              "      <td>0.80</td>\n",
              "      <td>0</td>\n",
              "      <td>2.34</td>\n",
              "      <td>1.9982</td>\n",
              "      <td>5</td>\n",
              "      <td>27</td>\n",
              "      <td>Saturday</td>\n",
              "    </tr>\n",
              "    <tr>\n",
              "      <th>3</th>\n",
              "      <td>3</td>\n",
              "      <td>4</td>\n",
              "      <td>2011-01-01</td>\n",
              "      <td>1</td>\n",
              "      <td>3</td>\n",
              "      <td>0</td>\n",
              "      <td>0</td>\n",
              "      <td>1</td>\n",
              "      <td>0.75</td>\n",
              "      <td>0</td>\n",
              "      <td>3.28</td>\n",
              "      <td>3.0014</td>\n",
              "      <td>3</td>\n",
              "      <td>10</td>\n",
              "      <td>Saturday</td>\n",
              "    </tr>\n",
              "    <tr>\n",
              "      <th>4</th>\n",
              "      <td>4</td>\n",
              "      <td>5</td>\n",
              "      <td>2011-01-01</td>\n",
              "      <td>1</td>\n",
              "      <td>4</td>\n",
              "      <td>0</td>\n",
              "      <td>0</td>\n",
              "      <td>1</td>\n",
              "      <td>0.75</td>\n",
              "      <td>0</td>\n",
              "      <td>3.28</td>\n",
              "      <td>3.0014</td>\n",
              "      <td>0</td>\n",
              "      <td>1</td>\n",
              "      <td>Saturday</td>\n",
              "    </tr>\n",
              "    <tr>\n",
              "      <th>...</th>\n",
              "      <td>...</td>\n",
              "      <td>...</td>\n",
              "      <td>...</td>\n",
              "      <td>...</td>\n",
              "      <td>...</td>\n",
              "      <td>...</td>\n",
              "      <td>...</td>\n",
              "      <td>...</td>\n",
              "      <td>...</td>\n",
              "      <td>...</td>\n",
              "      <td>...</td>\n",
              "      <td>...</td>\n",
              "      <td>...</td>\n",
              "      <td>...</td>\n",
              "      <td>...</td>\n",
              "    </tr>\n",
              "    <tr>\n",
              "      <th>17374</th>\n",
              "      <td>17374</td>\n",
              "      <td>17375</td>\n",
              "      <td>2012-12-31</td>\n",
              "      <td>1</td>\n",
              "      <td>19</td>\n",
              "      <td>0</td>\n",
              "      <td>1</td>\n",
              "      <td>2</td>\n",
              "      <td>0.60</td>\n",
              "      <td>11</td>\n",
              "      <td>4.22</td>\n",
              "      <td>1.0016</td>\n",
              "      <td>11</td>\n",
              "      <td>108</td>\n",
              "      <td>Monday</td>\n",
              "    </tr>\n",
              "    <tr>\n",
              "      <th>17375</th>\n",
              "      <td>17375</td>\n",
              "      <td>17376</td>\n",
              "      <td>2012-12-31</td>\n",
              "      <td>1</td>\n",
              "      <td>20</td>\n",
              "      <td>0</td>\n",
              "      <td>1</td>\n",
              "      <td>2</td>\n",
              "      <td>0.60</td>\n",
              "      <td>11</td>\n",
              "      <td>4.22</td>\n",
              "      <td>1.0016</td>\n",
              "      <td>8</td>\n",
              "      <td>81</td>\n",
              "      <td>Monday</td>\n",
              "    </tr>\n",
              "    <tr>\n",
              "      <th>17376</th>\n",
              "      <td>17376</td>\n",
              "      <td>17377</td>\n",
              "      <td>2012-12-31</td>\n",
              "      <td>1</td>\n",
              "      <td>21</td>\n",
              "      <td>0</td>\n",
              "      <td>1</td>\n",
              "      <td>1</td>\n",
              "      <td>0.60</td>\n",
              "      <td>11</td>\n",
              "      <td>4.22</td>\n",
              "      <td>1.0016</td>\n",
              "      <td>7</td>\n",
              "      <td>83</td>\n",
              "      <td>Monday</td>\n",
              "    </tr>\n",
              "    <tr>\n",
              "      <th>17377</th>\n",
              "      <td>17377</td>\n",
              "      <td>17378</td>\n",
              "      <td>2012-12-31</td>\n",
              "      <td>1</td>\n",
              "      <td>22</td>\n",
              "      <td>0</td>\n",
              "      <td>1</td>\n",
              "      <td>1</td>\n",
              "      <td>0.56</td>\n",
              "      <td>9</td>\n",
              "      <td>4.22</td>\n",
              "      <td>1.9982</td>\n",
              "      <td>13</td>\n",
              "      <td>48</td>\n",
              "      <td>Monday</td>\n",
              "    </tr>\n",
              "    <tr>\n",
              "      <th>17378</th>\n",
              "      <td>17378</td>\n",
              "      <td>17379</td>\n",
              "      <td>2012-12-31</td>\n",
              "      <td>1</td>\n",
              "      <td>23</td>\n",
              "      <td>0</td>\n",
              "      <td>1</td>\n",
              "      <td>1</td>\n",
              "      <td>0.65</td>\n",
              "      <td>9</td>\n",
              "      <td>4.22</td>\n",
              "      <td>1.9982</td>\n",
              "      <td>12</td>\n",
              "      <td>37</td>\n",
              "      <td>Monday</td>\n",
              "    </tr>\n",
              "  </tbody>\n",
              "</table>\n",
              "<p>17379 rows × 15 columns</p>\n",
              "</div>"
            ],
            "text/plain": [
              "       Unnamed: 0  instant     dteday  ...  casual  registered  day_of_week\n",
              "0               0        1 2011-01-01  ...       3          13     Saturday\n",
              "1               1        2 2011-01-01  ...       8          32     Saturday\n",
              "2               2        3 2011-01-01  ...       5          27     Saturday\n",
              "3               3        4 2011-01-01  ...       3          10     Saturday\n",
              "4               4        5 2011-01-01  ...       0           1     Saturday\n",
              "...           ...      ...        ...  ...     ...         ...          ...\n",
              "17374       17374    17375 2012-12-31  ...      11         108       Monday\n",
              "17375       17375    17376 2012-12-31  ...       8          81       Monday\n",
              "17376       17376    17377 2012-12-31  ...       7          83       Monday\n",
              "17377       17377    17378 2012-12-31  ...      13          48       Monday\n",
              "17378       17378    17379 2012-12-31  ...      12          37       Monday\n",
              "\n",
              "[17379 rows x 15 columns]"
            ]
          },
          "metadata": {
            "tags": []
          },
          "execution_count": 11
        }
      ]
    },
    {
      "cell_type": "code",
      "metadata": {
        "id": "t9-VCEVUvvyo",
        "colab": {
          "base_uri": "https://localhost:8080/"
        },
        "outputId": "751b8a39-4aec-4543-fa66-8ed1cdcb73d4"
      },
      "source": [
        "#make dteday column as a string instead of datetime64 type to be able to use str. functions later\n",
        "bikes[\"dteday\"] = bikes['dteday'].astype(str)\n",
        "bikes.info()"
      ],
      "execution_count": null,
      "outputs": [
        {
          "output_type": "stream",
          "text": [
            "<class 'pandas.core.frame.DataFrame'>\n",
            "RangeIndex: 17379 entries, 0 to 17378\n",
            "Data columns (total 15 columns):\n",
            " #   Column        Non-Null Count  Dtype  \n",
            "---  ------        --------------  -----  \n",
            " 0   Unnamed: 0    17379 non-null  int64  \n",
            " 1   instant       17379 non-null  int64  \n",
            " 2   dteday        17379 non-null  object \n",
            " 3   season        17379 non-null  int64  \n",
            " 4   hr            17379 non-null  int64  \n",
            " 5   holiday       17379 non-null  int64  \n",
            " 6   workingday    17379 non-null  int64  \n",
            " 7   weathersit    17379 non-null  int64  \n",
            " 8   hum           17379 non-null  float64\n",
            " 9   windspeed     17379 non-null  int64  \n",
            " 10  temp_c        17379 non-null  float64\n",
            " 11  feels_like_c  17379 non-null  float64\n",
            " 12  casual        17379 non-null  int64  \n",
            " 13  registered    17379 non-null  int64  \n",
            " 14  day_of_week   17379 non-null  object \n",
            "dtypes: float64(3), int64(10), object(2)\n",
            "memory usage: 2.0+ MB\n"
          ],
          "name": "stdout"
        }
      ]
    },
    {
      "cell_type": "markdown",
      "metadata": {
        "id": "mdX3T9W3RUWs"
      },
      "source": [
        "##### Create Year Column"
      ]
    },
    {
      "cell_type": "code",
      "metadata": {
        "id": "GgSY3r1LumEp",
        "colab": {
          "base_uri": "https://localhost:8080/"
        },
        "outputId": "a1054041-7a29-46c8-b5ab-d1e54927fb0c"
      },
      "source": [
        "#Create Year column\n",
        "bikes[\"year\"] = bikes[\"dteday\"].str.split(\"-\").str.get(0)\n",
        "bikes.tail(10)"
      ],
      "execution_count": null,
      "outputs": [
        {
          "output_type": "execute_result",
          "data": {
            "text/html": [
              "<div>\n",
              "<style scoped>\n",
              "    .dataframe tbody tr th:only-of-type {\n",
              "        vertical-align: middle;\n",
              "    }\n",
              "\n",
              "    .dataframe tbody tr th {\n",
              "        vertical-align: top;\n",
              "    }\n",
              "\n",
              "    .dataframe thead th {\n",
              "        text-align: right;\n",
              "    }\n",
              "</style>\n",
              "<table border=\"1\" class=\"dataframe\">\n",
              "  <thead>\n",
              "    <tr style=\"text-align: right;\">\n",
              "      <th></th>\n",
              "      <th>Unnamed: 0</th>\n",
              "      <th>instant</th>\n",
              "      <th>dteday</th>\n",
              "      <th>season</th>\n",
              "      <th>hr</th>\n",
              "      <th>holiday</th>\n",
              "      <th>workingday</th>\n",
              "      <th>weathersit</th>\n",
              "      <th>hum</th>\n",
              "      <th>windspeed</th>\n",
              "      <th>temp_c</th>\n",
              "      <th>feels_like_c</th>\n",
              "      <th>casual</th>\n",
              "      <th>registered</th>\n",
              "      <th>day_of_week</th>\n",
              "      <th>year</th>\n",
              "    </tr>\n",
              "  </thead>\n",
              "  <tbody>\n",
              "    <tr>\n",
              "      <th>17369</th>\n",
              "      <td>17369</td>\n",
              "      <td>17370</td>\n",
              "      <td>2012-12-31</td>\n",
              "      <td>1</td>\n",
              "      <td>14</td>\n",
              "      <td>0</td>\n",
              "      <td>1</td>\n",
              "      <td>2</td>\n",
              "      <td>0.45</td>\n",
              "      <td>15</td>\n",
              "      <td>5.16</td>\n",
              "      <td>1.9982</td>\n",
              "      <td>62</td>\n",
              "      <td>185</td>\n",
              "      <td>Monday</td>\n",
              "      <td>2012</td>\n",
              "    </tr>\n",
              "    <tr>\n",
              "      <th>17370</th>\n",
              "      <td>17370</td>\n",
              "      <td>17371</td>\n",
              "      <td>2012-12-31</td>\n",
              "      <td>1</td>\n",
              "      <td>15</td>\n",
              "      <td>0</td>\n",
              "      <td>1</td>\n",
              "      <td>2</td>\n",
              "      <td>0.45</td>\n",
              "      <td>9</td>\n",
              "      <td>5.16</td>\n",
              "      <td>3.0014</td>\n",
              "      <td>69</td>\n",
              "      <td>246</td>\n",
              "      <td>Monday</td>\n",
              "      <td>2012</td>\n",
              "    </tr>\n",
              "    <tr>\n",
              "      <th>17371</th>\n",
              "      <td>17371</td>\n",
              "      <td>17372</td>\n",
              "      <td>2012-12-31</td>\n",
              "      <td>1</td>\n",
              "      <td>16</td>\n",
              "      <td>0</td>\n",
              "      <td>1</td>\n",
              "      <td>2</td>\n",
              "      <td>0.48</td>\n",
              "      <td>13</td>\n",
              "      <td>4.22</td>\n",
              "      <td>1.0016</td>\n",
              "      <td>30</td>\n",
              "      <td>184</td>\n",
              "      <td>Monday</td>\n",
              "      <td>2012</td>\n",
              "    </tr>\n",
              "    <tr>\n",
              "      <th>17372</th>\n",
              "      <td>17372</td>\n",
              "      <td>17373</td>\n",
              "      <td>2012-12-31</td>\n",
              "      <td>1</td>\n",
              "      <td>17</td>\n",
              "      <td>0</td>\n",
              "      <td>1</td>\n",
              "      <td>2</td>\n",
              "      <td>0.48</td>\n",
              "      <td>6</td>\n",
              "      <td>4.22</td>\n",
              "      <td>3.0014</td>\n",
              "      <td>14</td>\n",
              "      <td>150</td>\n",
              "      <td>Monday</td>\n",
              "      <td>2012</td>\n",
              "    </tr>\n",
              "    <tr>\n",
              "      <th>17373</th>\n",
              "      <td>17373</td>\n",
              "      <td>17374</td>\n",
              "      <td>2012-12-31</td>\n",
              "      <td>1</td>\n",
              "      <td>18</td>\n",
              "      <td>0</td>\n",
              "      <td>1</td>\n",
              "      <td>2</td>\n",
              "      <td>0.48</td>\n",
              "      <td>9</td>\n",
              "      <td>4.22</td>\n",
              "      <td>1.9982</td>\n",
              "      <td>10</td>\n",
              "      <td>112</td>\n",
              "      <td>Monday</td>\n",
              "      <td>2012</td>\n",
              "    </tr>\n",
              "    <tr>\n",
              "      <th>17374</th>\n",
              "      <td>17374</td>\n",
              "      <td>17375</td>\n",
              "      <td>2012-12-31</td>\n",
              "      <td>1</td>\n",
              "      <td>19</td>\n",
              "      <td>0</td>\n",
              "      <td>1</td>\n",
              "      <td>2</td>\n",
              "      <td>0.60</td>\n",
              "      <td>11</td>\n",
              "      <td>4.22</td>\n",
              "      <td>1.0016</td>\n",
              "      <td>11</td>\n",
              "      <td>108</td>\n",
              "      <td>Monday</td>\n",
              "      <td>2012</td>\n",
              "    </tr>\n",
              "    <tr>\n",
              "      <th>17375</th>\n",
              "      <td>17375</td>\n",
              "      <td>17376</td>\n",
              "      <td>2012-12-31</td>\n",
              "      <td>1</td>\n",
              "      <td>20</td>\n",
              "      <td>0</td>\n",
              "      <td>1</td>\n",
              "      <td>2</td>\n",
              "      <td>0.60</td>\n",
              "      <td>11</td>\n",
              "      <td>4.22</td>\n",
              "      <td>1.0016</td>\n",
              "      <td>8</td>\n",
              "      <td>81</td>\n",
              "      <td>Monday</td>\n",
              "      <td>2012</td>\n",
              "    </tr>\n",
              "    <tr>\n",
              "      <th>17376</th>\n",
              "      <td>17376</td>\n",
              "      <td>17377</td>\n",
              "      <td>2012-12-31</td>\n",
              "      <td>1</td>\n",
              "      <td>21</td>\n",
              "      <td>0</td>\n",
              "      <td>1</td>\n",
              "      <td>1</td>\n",
              "      <td>0.60</td>\n",
              "      <td>11</td>\n",
              "      <td>4.22</td>\n",
              "      <td>1.0016</td>\n",
              "      <td>7</td>\n",
              "      <td>83</td>\n",
              "      <td>Monday</td>\n",
              "      <td>2012</td>\n",
              "    </tr>\n",
              "    <tr>\n",
              "      <th>17377</th>\n",
              "      <td>17377</td>\n",
              "      <td>17378</td>\n",
              "      <td>2012-12-31</td>\n",
              "      <td>1</td>\n",
              "      <td>22</td>\n",
              "      <td>0</td>\n",
              "      <td>1</td>\n",
              "      <td>1</td>\n",
              "      <td>0.56</td>\n",
              "      <td>9</td>\n",
              "      <td>4.22</td>\n",
              "      <td>1.9982</td>\n",
              "      <td>13</td>\n",
              "      <td>48</td>\n",
              "      <td>Monday</td>\n",
              "      <td>2012</td>\n",
              "    </tr>\n",
              "    <tr>\n",
              "      <th>17378</th>\n",
              "      <td>17378</td>\n",
              "      <td>17379</td>\n",
              "      <td>2012-12-31</td>\n",
              "      <td>1</td>\n",
              "      <td>23</td>\n",
              "      <td>0</td>\n",
              "      <td>1</td>\n",
              "      <td>1</td>\n",
              "      <td>0.65</td>\n",
              "      <td>9</td>\n",
              "      <td>4.22</td>\n",
              "      <td>1.9982</td>\n",
              "      <td>12</td>\n",
              "      <td>37</td>\n",
              "      <td>Monday</td>\n",
              "      <td>2012</td>\n",
              "    </tr>\n",
              "  </tbody>\n",
              "</table>\n",
              "</div>"
            ],
            "text/plain": [
              "       Unnamed: 0  instant      dteday  ...  registered  day_of_week  year\n",
              "17369       17369    17370  2012-12-31  ...         185       Monday  2012\n",
              "17370       17370    17371  2012-12-31  ...         246       Monday  2012\n",
              "17371       17371    17372  2012-12-31  ...         184       Monday  2012\n",
              "17372       17372    17373  2012-12-31  ...         150       Monday  2012\n",
              "17373       17373    17374  2012-12-31  ...         112       Monday  2012\n",
              "17374       17374    17375  2012-12-31  ...         108       Monday  2012\n",
              "17375       17375    17376  2012-12-31  ...          81       Monday  2012\n",
              "17376       17376    17377  2012-12-31  ...          83       Monday  2012\n",
              "17377       17377    17378  2012-12-31  ...          48       Monday  2012\n",
              "17378       17378    17379  2012-12-31  ...          37       Monday  2012\n",
              "\n",
              "[10 rows x 16 columns]"
            ]
          },
          "metadata": {
            "tags": []
          },
          "execution_count": 13
        }
      ]
    },
    {
      "cell_type": "markdown",
      "metadata": {
        "id": "sjLE11c9RZIh"
      },
      "source": [
        "##### Create Month column"
      ]
    },
    {
      "cell_type": "code",
      "metadata": {
        "id": "A6IKxVwcwRg4",
        "colab": {
          "base_uri": "https://localhost:8080/"
        },
        "outputId": "34d8db28-f75b-45bd-aef5-59164eaf4319"
      },
      "source": [
        "#Create month column\n",
        "bikes[\"month\"] = bikes[\"dteday\"].str.split(\"-\").str.get(1)\n",
        "bikes"
      ],
      "execution_count": null,
      "outputs": [
        {
          "output_type": "execute_result",
          "data": {
            "text/html": [
              "<div>\n",
              "<style scoped>\n",
              "    .dataframe tbody tr th:only-of-type {\n",
              "        vertical-align: middle;\n",
              "    }\n",
              "\n",
              "    .dataframe tbody tr th {\n",
              "        vertical-align: top;\n",
              "    }\n",
              "\n",
              "    .dataframe thead th {\n",
              "        text-align: right;\n",
              "    }\n",
              "</style>\n",
              "<table border=\"1\" class=\"dataframe\">\n",
              "  <thead>\n",
              "    <tr style=\"text-align: right;\">\n",
              "      <th></th>\n",
              "      <th>Unnamed: 0</th>\n",
              "      <th>instant</th>\n",
              "      <th>dteday</th>\n",
              "      <th>season</th>\n",
              "      <th>hr</th>\n",
              "      <th>holiday</th>\n",
              "      <th>workingday</th>\n",
              "      <th>weathersit</th>\n",
              "      <th>hum</th>\n",
              "      <th>windspeed</th>\n",
              "      <th>temp_c</th>\n",
              "      <th>feels_like_c</th>\n",
              "      <th>casual</th>\n",
              "      <th>registered</th>\n",
              "      <th>day_of_week</th>\n",
              "      <th>year</th>\n",
              "      <th>month</th>\n",
              "    </tr>\n",
              "  </thead>\n",
              "  <tbody>\n",
              "    <tr>\n",
              "      <th>0</th>\n",
              "      <td>0</td>\n",
              "      <td>1</td>\n",
              "      <td>2011-01-01</td>\n",
              "      <td>1</td>\n",
              "      <td>0</td>\n",
              "      <td>0</td>\n",
              "      <td>0</td>\n",
              "      <td>1</td>\n",
              "      <td>0.81</td>\n",
              "      <td>0</td>\n",
              "      <td>3.28</td>\n",
              "      <td>3.0014</td>\n",
              "      <td>3</td>\n",
              "      <td>13</td>\n",
              "      <td>Saturday</td>\n",
              "      <td>2011</td>\n",
              "      <td>01</td>\n",
              "    </tr>\n",
              "    <tr>\n",
              "      <th>1</th>\n",
              "      <td>1</td>\n",
              "      <td>2</td>\n",
              "      <td>2011-01-01</td>\n",
              "      <td>1</td>\n",
              "      <td>1</td>\n",
              "      <td>0</td>\n",
              "      <td>0</td>\n",
              "      <td>1</td>\n",
              "      <td>0.80</td>\n",
              "      <td>0</td>\n",
              "      <td>2.34</td>\n",
              "      <td>1.9982</td>\n",
              "      <td>8</td>\n",
              "      <td>32</td>\n",
              "      <td>Saturday</td>\n",
              "      <td>2011</td>\n",
              "      <td>01</td>\n",
              "    </tr>\n",
              "    <tr>\n",
              "      <th>2</th>\n",
              "      <td>2</td>\n",
              "      <td>3</td>\n",
              "      <td>2011-01-01</td>\n",
              "      <td>1</td>\n",
              "      <td>2</td>\n",
              "      <td>0</td>\n",
              "      <td>0</td>\n",
              "      <td>1</td>\n",
              "      <td>0.80</td>\n",
              "      <td>0</td>\n",
              "      <td>2.34</td>\n",
              "      <td>1.9982</td>\n",
              "      <td>5</td>\n",
              "      <td>27</td>\n",
              "      <td>Saturday</td>\n",
              "      <td>2011</td>\n",
              "      <td>01</td>\n",
              "    </tr>\n",
              "    <tr>\n",
              "      <th>3</th>\n",
              "      <td>3</td>\n",
              "      <td>4</td>\n",
              "      <td>2011-01-01</td>\n",
              "      <td>1</td>\n",
              "      <td>3</td>\n",
              "      <td>0</td>\n",
              "      <td>0</td>\n",
              "      <td>1</td>\n",
              "      <td>0.75</td>\n",
              "      <td>0</td>\n",
              "      <td>3.28</td>\n",
              "      <td>3.0014</td>\n",
              "      <td>3</td>\n",
              "      <td>10</td>\n",
              "      <td>Saturday</td>\n",
              "      <td>2011</td>\n",
              "      <td>01</td>\n",
              "    </tr>\n",
              "    <tr>\n",
              "      <th>4</th>\n",
              "      <td>4</td>\n",
              "      <td>5</td>\n",
              "      <td>2011-01-01</td>\n",
              "      <td>1</td>\n",
              "      <td>4</td>\n",
              "      <td>0</td>\n",
              "      <td>0</td>\n",
              "      <td>1</td>\n",
              "      <td>0.75</td>\n",
              "      <td>0</td>\n",
              "      <td>3.28</td>\n",
              "      <td>3.0014</td>\n",
              "      <td>0</td>\n",
              "      <td>1</td>\n",
              "      <td>Saturday</td>\n",
              "      <td>2011</td>\n",
              "      <td>01</td>\n",
              "    </tr>\n",
              "    <tr>\n",
              "      <th>...</th>\n",
              "      <td>...</td>\n",
              "      <td>...</td>\n",
              "      <td>...</td>\n",
              "      <td>...</td>\n",
              "      <td>...</td>\n",
              "      <td>...</td>\n",
              "      <td>...</td>\n",
              "      <td>...</td>\n",
              "      <td>...</td>\n",
              "      <td>...</td>\n",
              "      <td>...</td>\n",
              "      <td>...</td>\n",
              "      <td>...</td>\n",
              "      <td>...</td>\n",
              "      <td>...</td>\n",
              "      <td>...</td>\n",
              "      <td>...</td>\n",
              "    </tr>\n",
              "    <tr>\n",
              "      <th>17374</th>\n",
              "      <td>17374</td>\n",
              "      <td>17375</td>\n",
              "      <td>2012-12-31</td>\n",
              "      <td>1</td>\n",
              "      <td>19</td>\n",
              "      <td>0</td>\n",
              "      <td>1</td>\n",
              "      <td>2</td>\n",
              "      <td>0.60</td>\n",
              "      <td>11</td>\n",
              "      <td>4.22</td>\n",
              "      <td>1.0016</td>\n",
              "      <td>11</td>\n",
              "      <td>108</td>\n",
              "      <td>Monday</td>\n",
              "      <td>2012</td>\n",
              "      <td>12</td>\n",
              "    </tr>\n",
              "    <tr>\n",
              "      <th>17375</th>\n",
              "      <td>17375</td>\n",
              "      <td>17376</td>\n",
              "      <td>2012-12-31</td>\n",
              "      <td>1</td>\n",
              "      <td>20</td>\n",
              "      <td>0</td>\n",
              "      <td>1</td>\n",
              "      <td>2</td>\n",
              "      <td>0.60</td>\n",
              "      <td>11</td>\n",
              "      <td>4.22</td>\n",
              "      <td>1.0016</td>\n",
              "      <td>8</td>\n",
              "      <td>81</td>\n",
              "      <td>Monday</td>\n",
              "      <td>2012</td>\n",
              "      <td>12</td>\n",
              "    </tr>\n",
              "    <tr>\n",
              "      <th>17376</th>\n",
              "      <td>17376</td>\n",
              "      <td>17377</td>\n",
              "      <td>2012-12-31</td>\n",
              "      <td>1</td>\n",
              "      <td>21</td>\n",
              "      <td>0</td>\n",
              "      <td>1</td>\n",
              "      <td>1</td>\n",
              "      <td>0.60</td>\n",
              "      <td>11</td>\n",
              "      <td>4.22</td>\n",
              "      <td>1.0016</td>\n",
              "      <td>7</td>\n",
              "      <td>83</td>\n",
              "      <td>Monday</td>\n",
              "      <td>2012</td>\n",
              "      <td>12</td>\n",
              "    </tr>\n",
              "    <tr>\n",
              "      <th>17377</th>\n",
              "      <td>17377</td>\n",
              "      <td>17378</td>\n",
              "      <td>2012-12-31</td>\n",
              "      <td>1</td>\n",
              "      <td>22</td>\n",
              "      <td>0</td>\n",
              "      <td>1</td>\n",
              "      <td>1</td>\n",
              "      <td>0.56</td>\n",
              "      <td>9</td>\n",
              "      <td>4.22</td>\n",
              "      <td>1.9982</td>\n",
              "      <td>13</td>\n",
              "      <td>48</td>\n",
              "      <td>Monday</td>\n",
              "      <td>2012</td>\n",
              "      <td>12</td>\n",
              "    </tr>\n",
              "    <tr>\n",
              "      <th>17378</th>\n",
              "      <td>17378</td>\n",
              "      <td>17379</td>\n",
              "      <td>2012-12-31</td>\n",
              "      <td>1</td>\n",
              "      <td>23</td>\n",
              "      <td>0</td>\n",
              "      <td>1</td>\n",
              "      <td>1</td>\n",
              "      <td>0.65</td>\n",
              "      <td>9</td>\n",
              "      <td>4.22</td>\n",
              "      <td>1.9982</td>\n",
              "      <td>12</td>\n",
              "      <td>37</td>\n",
              "      <td>Monday</td>\n",
              "      <td>2012</td>\n",
              "      <td>12</td>\n",
              "    </tr>\n",
              "  </tbody>\n",
              "</table>\n",
              "<p>17379 rows × 17 columns</p>\n",
              "</div>"
            ],
            "text/plain": [
              "       Unnamed: 0  instant      dteday  ...  day_of_week  year  month\n",
              "0               0        1  2011-01-01  ...     Saturday  2011     01\n",
              "1               1        2  2011-01-01  ...     Saturday  2011     01\n",
              "2               2        3  2011-01-01  ...     Saturday  2011     01\n",
              "3               3        4  2011-01-01  ...     Saturday  2011     01\n",
              "4               4        5  2011-01-01  ...     Saturday  2011     01\n",
              "...           ...      ...         ...  ...          ...   ...    ...\n",
              "17374       17374    17375  2012-12-31  ...       Monday  2012     12\n",
              "17375       17375    17376  2012-12-31  ...       Monday  2012     12\n",
              "17376       17376    17377  2012-12-31  ...       Monday  2012     12\n",
              "17377       17377    17378  2012-12-31  ...       Monday  2012     12\n",
              "17378       17378    17379  2012-12-31  ...       Monday  2012     12\n",
              "\n",
              "[17379 rows x 17 columns]"
            ]
          },
          "metadata": {
            "tags": []
          },
          "execution_count": 14
        }
      ]
    },
    {
      "cell_type": "code",
      "metadata": {
        "id": "EaJjAcFg3IHq",
        "colab": {
          "base_uri": "https://localhost:8080/"
        },
        "outputId": "ab2704a7-becd-494e-fab7-0960d80b33a1"
      },
      "source": [
        "bikes.info()"
      ],
      "execution_count": null,
      "outputs": [
        {
          "output_type": "stream",
          "text": [
            "<class 'pandas.core.frame.DataFrame'>\n",
            "RangeIndex: 17379 entries, 0 to 17378\n",
            "Data columns (total 17 columns):\n",
            " #   Column        Non-Null Count  Dtype  \n",
            "---  ------        --------------  -----  \n",
            " 0   Unnamed: 0    17379 non-null  int64  \n",
            " 1   instant       17379 non-null  int64  \n",
            " 2   dteday        17379 non-null  object \n",
            " 3   season        17379 non-null  int64  \n",
            " 4   hr            17379 non-null  int64  \n",
            " 5   holiday       17379 non-null  int64  \n",
            " 6   workingday    17379 non-null  int64  \n",
            " 7   weathersit    17379 non-null  int64  \n",
            " 8   hum           17379 non-null  float64\n",
            " 9   windspeed     17379 non-null  int64  \n",
            " 10  temp_c        17379 non-null  float64\n",
            " 11  feels_like_c  17379 non-null  float64\n",
            " 12  casual        17379 non-null  int64  \n",
            " 13  registered    17379 non-null  int64  \n",
            " 14  day_of_week   17379 non-null  object \n",
            " 15  year          17379 non-null  object \n",
            " 16  month         17379 non-null  object \n",
            "dtypes: float64(3), int64(10), object(4)\n",
            "memory usage: 2.3+ MB\n"
          ],
          "name": "stdout"
        }
      ]
    },
    {
      "cell_type": "code",
      "metadata": {
        "id": "2cRw1p9GxtMF",
        "colab": {
          "base_uri": "https://localhost:8080/"
        },
        "outputId": "aa8c30e5-078f-49f3-dec5-1f6a51300b5f"
      },
      "source": [
        "#Get rid of 0 at the beginning of the numbers\n",
        "f = lambda x: x if (x[0] != '0') else x[1]\n",
        "bikes[\"month\"] = list(map(f,bikes[\"month\"]))\n",
        "bikes.month.value_counts()"
      ],
      "execution_count": null,
      "outputs": [
        {
          "output_type": "execute_result",
          "data": {
            "text/plain": [
              "7     1488\n",
              "5     1488\n",
              "12    1483\n",
              "8     1475\n",
              "3     1473\n",
              "10    1451\n",
              "6     1440\n",
              "4     1437\n",
              "11    1437\n",
              "9     1437\n",
              "1     1429\n",
              "2     1341\n",
              "Name: month, dtype: int64"
            ]
          },
          "metadata": {
            "tags": []
          },
          "execution_count": 16
        }
      ]
    },
    {
      "cell_type": "markdown",
      "metadata": {
        "id": "jUWsMhfuRtjU"
      },
      "source": [
        ""
      ]
    },
    {
      "cell_type": "markdown",
      "metadata": {
        "id": "R8OrjWewSter"
      },
      "source": [
        "##### Create Target Column"
      ]
    },
    {
      "cell_type": "code",
      "metadata": {
        "id": "P3NC5z3BSwIT",
        "colab": {
          "base_uri": "https://localhost:8080/"
        },
        "outputId": "bea4a400-0501-4bd2-b9dd-aebe65d18088"
      },
      "source": [
        "#first let's create the target column (casual + registered users)\n",
        "#Get rid of 0 at the beginning of the numbers\n",
        "f = lambda x,y: x + y\n",
        "bikes[\"target\"] = list(map(f,bikes[\"casual\"],bikes[\"registered\"]))\n",
        "bikes"
      ],
      "execution_count": null,
      "outputs": [
        {
          "output_type": "execute_result",
          "data": {
            "text/html": [
              "<div>\n",
              "<style scoped>\n",
              "    .dataframe tbody tr th:only-of-type {\n",
              "        vertical-align: middle;\n",
              "    }\n",
              "\n",
              "    .dataframe tbody tr th {\n",
              "        vertical-align: top;\n",
              "    }\n",
              "\n",
              "    .dataframe thead th {\n",
              "        text-align: right;\n",
              "    }\n",
              "</style>\n",
              "<table border=\"1\" class=\"dataframe\">\n",
              "  <thead>\n",
              "    <tr style=\"text-align: right;\">\n",
              "      <th></th>\n",
              "      <th>Unnamed: 0</th>\n",
              "      <th>instant</th>\n",
              "      <th>dteday</th>\n",
              "      <th>season</th>\n",
              "      <th>hr</th>\n",
              "      <th>holiday</th>\n",
              "      <th>workingday</th>\n",
              "      <th>weathersit</th>\n",
              "      <th>hum</th>\n",
              "      <th>windspeed</th>\n",
              "      <th>temp_c</th>\n",
              "      <th>feels_like_c</th>\n",
              "      <th>casual</th>\n",
              "      <th>registered</th>\n",
              "      <th>day_of_week</th>\n",
              "      <th>year</th>\n",
              "      <th>month</th>\n",
              "      <th>target</th>\n",
              "    </tr>\n",
              "  </thead>\n",
              "  <tbody>\n",
              "    <tr>\n",
              "      <th>0</th>\n",
              "      <td>0</td>\n",
              "      <td>1</td>\n",
              "      <td>2011-01-01</td>\n",
              "      <td>1</td>\n",
              "      <td>0</td>\n",
              "      <td>0</td>\n",
              "      <td>0</td>\n",
              "      <td>1</td>\n",
              "      <td>0.81</td>\n",
              "      <td>0</td>\n",
              "      <td>3.28</td>\n",
              "      <td>3.0014</td>\n",
              "      <td>3</td>\n",
              "      <td>13</td>\n",
              "      <td>Saturday</td>\n",
              "      <td>2011</td>\n",
              "      <td>1</td>\n",
              "      <td>16</td>\n",
              "    </tr>\n",
              "    <tr>\n",
              "      <th>1</th>\n",
              "      <td>1</td>\n",
              "      <td>2</td>\n",
              "      <td>2011-01-01</td>\n",
              "      <td>1</td>\n",
              "      <td>1</td>\n",
              "      <td>0</td>\n",
              "      <td>0</td>\n",
              "      <td>1</td>\n",
              "      <td>0.80</td>\n",
              "      <td>0</td>\n",
              "      <td>2.34</td>\n",
              "      <td>1.9982</td>\n",
              "      <td>8</td>\n",
              "      <td>32</td>\n",
              "      <td>Saturday</td>\n",
              "      <td>2011</td>\n",
              "      <td>1</td>\n",
              "      <td>40</td>\n",
              "    </tr>\n",
              "    <tr>\n",
              "      <th>2</th>\n",
              "      <td>2</td>\n",
              "      <td>3</td>\n",
              "      <td>2011-01-01</td>\n",
              "      <td>1</td>\n",
              "      <td>2</td>\n",
              "      <td>0</td>\n",
              "      <td>0</td>\n",
              "      <td>1</td>\n",
              "      <td>0.80</td>\n",
              "      <td>0</td>\n",
              "      <td>2.34</td>\n",
              "      <td>1.9982</td>\n",
              "      <td>5</td>\n",
              "      <td>27</td>\n",
              "      <td>Saturday</td>\n",
              "      <td>2011</td>\n",
              "      <td>1</td>\n",
              "      <td>32</td>\n",
              "    </tr>\n",
              "    <tr>\n",
              "      <th>3</th>\n",
              "      <td>3</td>\n",
              "      <td>4</td>\n",
              "      <td>2011-01-01</td>\n",
              "      <td>1</td>\n",
              "      <td>3</td>\n",
              "      <td>0</td>\n",
              "      <td>0</td>\n",
              "      <td>1</td>\n",
              "      <td>0.75</td>\n",
              "      <td>0</td>\n",
              "      <td>3.28</td>\n",
              "      <td>3.0014</td>\n",
              "      <td>3</td>\n",
              "      <td>10</td>\n",
              "      <td>Saturday</td>\n",
              "      <td>2011</td>\n",
              "      <td>1</td>\n",
              "      <td>13</td>\n",
              "    </tr>\n",
              "    <tr>\n",
              "      <th>4</th>\n",
              "      <td>4</td>\n",
              "      <td>5</td>\n",
              "      <td>2011-01-01</td>\n",
              "      <td>1</td>\n",
              "      <td>4</td>\n",
              "      <td>0</td>\n",
              "      <td>0</td>\n",
              "      <td>1</td>\n",
              "      <td>0.75</td>\n",
              "      <td>0</td>\n",
              "      <td>3.28</td>\n",
              "      <td>3.0014</td>\n",
              "      <td>0</td>\n",
              "      <td>1</td>\n",
              "      <td>Saturday</td>\n",
              "      <td>2011</td>\n",
              "      <td>1</td>\n",
              "      <td>1</td>\n",
              "    </tr>\n",
              "    <tr>\n",
              "      <th>...</th>\n",
              "      <td>...</td>\n",
              "      <td>...</td>\n",
              "      <td>...</td>\n",
              "      <td>...</td>\n",
              "      <td>...</td>\n",
              "      <td>...</td>\n",
              "      <td>...</td>\n",
              "      <td>...</td>\n",
              "      <td>...</td>\n",
              "      <td>...</td>\n",
              "      <td>...</td>\n",
              "      <td>...</td>\n",
              "      <td>...</td>\n",
              "      <td>...</td>\n",
              "      <td>...</td>\n",
              "      <td>...</td>\n",
              "      <td>...</td>\n",
              "      <td>...</td>\n",
              "    </tr>\n",
              "    <tr>\n",
              "      <th>17374</th>\n",
              "      <td>17374</td>\n",
              "      <td>17375</td>\n",
              "      <td>2012-12-31</td>\n",
              "      <td>1</td>\n",
              "      <td>19</td>\n",
              "      <td>0</td>\n",
              "      <td>1</td>\n",
              "      <td>2</td>\n",
              "      <td>0.60</td>\n",
              "      <td>11</td>\n",
              "      <td>4.22</td>\n",
              "      <td>1.0016</td>\n",
              "      <td>11</td>\n",
              "      <td>108</td>\n",
              "      <td>Monday</td>\n",
              "      <td>2012</td>\n",
              "      <td>12</td>\n",
              "      <td>119</td>\n",
              "    </tr>\n",
              "    <tr>\n",
              "      <th>17375</th>\n",
              "      <td>17375</td>\n",
              "      <td>17376</td>\n",
              "      <td>2012-12-31</td>\n",
              "      <td>1</td>\n",
              "      <td>20</td>\n",
              "      <td>0</td>\n",
              "      <td>1</td>\n",
              "      <td>2</td>\n",
              "      <td>0.60</td>\n",
              "      <td>11</td>\n",
              "      <td>4.22</td>\n",
              "      <td>1.0016</td>\n",
              "      <td>8</td>\n",
              "      <td>81</td>\n",
              "      <td>Monday</td>\n",
              "      <td>2012</td>\n",
              "      <td>12</td>\n",
              "      <td>89</td>\n",
              "    </tr>\n",
              "    <tr>\n",
              "      <th>17376</th>\n",
              "      <td>17376</td>\n",
              "      <td>17377</td>\n",
              "      <td>2012-12-31</td>\n",
              "      <td>1</td>\n",
              "      <td>21</td>\n",
              "      <td>0</td>\n",
              "      <td>1</td>\n",
              "      <td>1</td>\n",
              "      <td>0.60</td>\n",
              "      <td>11</td>\n",
              "      <td>4.22</td>\n",
              "      <td>1.0016</td>\n",
              "      <td>7</td>\n",
              "      <td>83</td>\n",
              "      <td>Monday</td>\n",
              "      <td>2012</td>\n",
              "      <td>12</td>\n",
              "      <td>90</td>\n",
              "    </tr>\n",
              "    <tr>\n",
              "      <th>17377</th>\n",
              "      <td>17377</td>\n",
              "      <td>17378</td>\n",
              "      <td>2012-12-31</td>\n",
              "      <td>1</td>\n",
              "      <td>22</td>\n",
              "      <td>0</td>\n",
              "      <td>1</td>\n",
              "      <td>1</td>\n",
              "      <td>0.56</td>\n",
              "      <td>9</td>\n",
              "      <td>4.22</td>\n",
              "      <td>1.9982</td>\n",
              "      <td>13</td>\n",
              "      <td>48</td>\n",
              "      <td>Monday</td>\n",
              "      <td>2012</td>\n",
              "      <td>12</td>\n",
              "      <td>61</td>\n",
              "    </tr>\n",
              "    <tr>\n",
              "      <th>17378</th>\n",
              "      <td>17378</td>\n",
              "      <td>17379</td>\n",
              "      <td>2012-12-31</td>\n",
              "      <td>1</td>\n",
              "      <td>23</td>\n",
              "      <td>0</td>\n",
              "      <td>1</td>\n",
              "      <td>1</td>\n",
              "      <td>0.65</td>\n",
              "      <td>9</td>\n",
              "      <td>4.22</td>\n",
              "      <td>1.9982</td>\n",
              "      <td>12</td>\n",
              "      <td>37</td>\n",
              "      <td>Monday</td>\n",
              "      <td>2012</td>\n",
              "      <td>12</td>\n",
              "      <td>49</td>\n",
              "    </tr>\n",
              "  </tbody>\n",
              "</table>\n",
              "<p>17379 rows × 18 columns</p>\n",
              "</div>"
            ],
            "text/plain": [
              "       Unnamed: 0  instant      dteday  season  ...  day_of_week  year  month  target\n",
              "0               0        1  2011-01-01       1  ...     Saturday  2011      1      16\n",
              "1               1        2  2011-01-01       1  ...     Saturday  2011      1      40\n",
              "2               2        3  2011-01-01       1  ...     Saturday  2011      1      32\n",
              "3               3        4  2011-01-01       1  ...     Saturday  2011      1      13\n",
              "4               4        5  2011-01-01       1  ...     Saturday  2011      1       1\n",
              "...           ...      ...         ...     ...  ...          ...   ...    ...     ...\n",
              "17374       17374    17375  2012-12-31       1  ...       Monday  2012     12     119\n",
              "17375       17375    17376  2012-12-31       1  ...       Monday  2012     12      89\n",
              "17376       17376    17377  2012-12-31       1  ...       Monday  2012     12      90\n",
              "17377       17377    17378  2012-12-31       1  ...       Monday  2012     12      61\n",
              "17378       17378    17379  2012-12-31       1  ...       Monday  2012     12      49\n",
              "\n",
              "[17379 rows x 18 columns]"
            ]
          },
          "metadata": {
            "tags": []
          },
          "execution_count": 17
        }
      ]
    },
    {
      "cell_type": "markdown",
      "metadata": {
        "id": "wih34rsIR1z2"
      },
      "source": [
        "#### Encode categorical features"
      ]
    },
    {
      "cell_type": "code",
      "metadata": {
        "id": "nJqyIbc-7vhj",
        "colab": {
          "base_uri": "https://localhost:8080/"
        },
        "outputId": "bbfb2172-e6c0-4ddd-afbc-32f124245421"
      },
      "source": [
        "#both day_of_week, year and month are objects, will have to make them integers\n",
        "bikes['year'] = bikes['year'].astype('int64')\n",
        "bikes['month'] = bikes['month'].astype('int64')\n",
        "\n",
        "# #Su = 0\n",
        "# #Mo = 1\n",
        "# #Tue = 2\n",
        "# #Wed = 3\n",
        "# #Thur = 4\n",
        "# #Fri = 5\n",
        "# #Sa = 6\n",
        "# bikes[\"day_of_week_numeric\"] = bikes[\"day_of_week\"].map({'Sunday': 0,  \n",
        "#                                                          'Monday': 1, \n",
        "#                                                          'Tuesday': 2, \n",
        "#                                                          'Wednesday': 3, \n",
        "#                                                          'Thursday': 4, \n",
        "#                                                          'Friday': 5,\n",
        "#                                                          'Saturday': 6})\n",
        "bikes.info()"
      ],
      "execution_count": null,
      "outputs": [
        {
          "output_type": "stream",
          "text": [
            "<class 'pandas.core.frame.DataFrame'>\n",
            "RangeIndex: 17379 entries, 0 to 17378\n",
            "Data columns (total 18 columns):\n",
            " #   Column        Non-Null Count  Dtype  \n",
            "---  ------        --------------  -----  \n",
            " 0   Unnamed: 0    17379 non-null  int64  \n",
            " 1   instant       17379 non-null  int64  \n",
            " 2   dteday        17379 non-null  object \n",
            " 3   season        17379 non-null  int64  \n",
            " 4   hr            17379 non-null  int64  \n",
            " 5   holiday       17379 non-null  int64  \n",
            " 6   workingday    17379 non-null  int64  \n",
            " 7   weathersit    17379 non-null  int64  \n",
            " 8   hum           17379 non-null  float64\n",
            " 9   windspeed     17379 non-null  int64  \n",
            " 10  temp_c        17379 non-null  float64\n",
            " 11  feels_like_c  17379 non-null  float64\n",
            " 12  casual        17379 non-null  int64  \n",
            " 13  registered    17379 non-null  int64  \n",
            " 14  day_of_week   17379 non-null  object \n",
            " 15  year          17379 non-null  int64  \n",
            " 16  month         17379 non-null  int64  \n",
            " 17  target        17379 non-null  int64  \n",
            "dtypes: float64(3), int64(13), object(2)\n",
            "memory usage: 2.4+ MB\n"
          ],
          "name": "stdout"
        }
      ]
    },
    {
      "cell_type": "code",
      "metadata": {
        "id": "KctwBUMRCUXB",
        "colab": {
          "base_uri": "https://localhost:8080/"
        },
        "outputId": "f4ef6558-82ec-4bd2-baae-4ab2473c237e"
      },
      "source": [
        "bikes"
      ],
      "execution_count": null,
      "outputs": [
        {
          "output_type": "execute_result",
          "data": {
            "text/html": [
              "<div>\n",
              "<style scoped>\n",
              "    .dataframe tbody tr th:only-of-type {\n",
              "        vertical-align: middle;\n",
              "    }\n",
              "\n",
              "    .dataframe tbody tr th {\n",
              "        vertical-align: top;\n",
              "    }\n",
              "\n",
              "    .dataframe thead th {\n",
              "        text-align: right;\n",
              "    }\n",
              "</style>\n",
              "<table border=\"1\" class=\"dataframe\">\n",
              "  <thead>\n",
              "    <tr style=\"text-align: right;\">\n",
              "      <th></th>\n",
              "      <th>Unnamed: 0</th>\n",
              "      <th>instant</th>\n",
              "      <th>dteday</th>\n",
              "      <th>season</th>\n",
              "      <th>hr</th>\n",
              "      <th>holiday</th>\n",
              "      <th>workingday</th>\n",
              "      <th>weathersit</th>\n",
              "      <th>hum</th>\n",
              "      <th>windspeed</th>\n",
              "      <th>temp_c</th>\n",
              "      <th>feels_like_c</th>\n",
              "      <th>casual</th>\n",
              "      <th>registered</th>\n",
              "      <th>day_of_week</th>\n",
              "      <th>year</th>\n",
              "      <th>month</th>\n",
              "      <th>target</th>\n",
              "    </tr>\n",
              "  </thead>\n",
              "  <tbody>\n",
              "    <tr>\n",
              "      <th>0</th>\n",
              "      <td>0</td>\n",
              "      <td>1</td>\n",
              "      <td>2011-01-01</td>\n",
              "      <td>1</td>\n",
              "      <td>0</td>\n",
              "      <td>0</td>\n",
              "      <td>0</td>\n",
              "      <td>1</td>\n",
              "      <td>0.81</td>\n",
              "      <td>0</td>\n",
              "      <td>3.28</td>\n",
              "      <td>3.0014</td>\n",
              "      <td>3</td>\n",
              "      <td>13</td>\n",
              "      <td>Saturday</td>\n",
              "      <td>2011</td>\n",
              "      <td>1</td>\n",
              "      <td>16</td>\n",
              "    </tr>\n",
              "    <tr>\n",
              "      <th>1</th>\n",
              "      <td>1</td>\n",
              "      <td>2</td>\n",
              "      <td>2011-01-01</td>\n",
              "      <td>1</td>\n",
              "      <td>1</td>\n",
              "      <td>0</td>\n",
              "      <td>0</td>\n",
              "      <td>1</td>\n",
              "      <td>0.80</td>\n",
              "      <td>0</td>\n",
              "      <td>2.34</td>\n",
              "      <td>1.9982</td>\n",
              "      <td>8</td>\n",
              "      <td>32</td>\n",
              "      <td>Saturday</td>\n",
              "      <td>2011</td>\n",
              "      <td>1</td>\n",
              "      <td>40</td>\n",
              "    </tr>\n",
              "    <tr>\n",
              "      <th>2</th>\n",
              "      <td>2</td>\n",
              "      <td>3</td>\n",
              "      <td>2011-01-01</td>\n",
              "      <td>1</td>\n",
              "      <td>2</td>\n",
              "      <td>0</td>\n",
              "      <td>0</td>\n",
              "      <td>1</td>\n",
              "      <td>0.80</td>\n",
              "      <td>0</td>\n",
              "      <td>2.34</td>\n",
              "      <td>1.9982</td>\n",
              "      <td>5</td>\n",
              "      <td>27</td>\n",
              "      <td>Saturday</td>\n",
              "      <td>2011</td>\n",
              "      <td>1</td>\n",
              "      <td>32</td>\n",
              "    </tr>\n",
              "    <tr>\n",
              "      <th>3</th>\n",
              "      <td>3</td>\n",
              "      <td>4</td>\n",
              "      <td>2011-01-01</td>\n",
              "      <td>1</td>\n",
              "      <td>3</td>\n",
              "      <td>0</td>\n",
              "      <td>0</td>\n",
              "      <td>1</td>\n",
              "      <td>0.75</td>\n",
              "      <td>0</td>\n",
              "      <td>3.28</td>\n",
              "      <td>3.0014</td>\n",
              "      <td>3</td>\n",
              "      <td>10</td>\n",
              "      <td>Saturday</td>\n",
              "      <td>2011</td>\n",
              "      <td>1</td>\n",
              "      <td>13</td>\n",
              "    </tr>\n",
              "    <tr>\n",
              "      <th>4</th>\n",
              "      <td>4</td>\n",
              "      <td>5</td>\n",
              "      <td>2011-01-01</td>\n",
              "      <td>1</td>\n",
              "      <td>4</td>\n",
              "      <td>0</td>\n",
              "      <td>0</td>\n",
              "      <td>1</td>\n",
              "      <td>0.75</td>\n",
              "      <td>0</td>\n",
              "      <td>3.28</td>\n",
              "      <td>3.0014</td>\n",
              "      <td>0</td>\n",
              "      <td>1</td>\n",
              "      <td>Saturday</td>\n",
              "      <td>2011</td>\n",
              "      <td>1</td>\n",
              "      <td>1</td>\n",
              "    </tr>\n",
              "    <tr>\n",
              "      <th>...</th>\n",
              "      <td>...</td>\n",
              "      <td>...</td>\n",
              "      <td>...</td>\n",
              "      <td>...</td>\n",
              "      <td>...</td>\n",
              "      <td>...</td>\n",
              "      <td>...</td>\n",
              "      <td>...</td>\n",
              "      <td>...</td>\n",
              "      <td>...</td>\n",
              "      <td>...</td>\n",
              "      <td>...</td>\n",
              "      <td>...</td>\n",
              "      <td>...</td>\n",
              "      <td>...</td>\n",
              "      <td>...</td>\n",
              "      <td>...</td>\n",
              "      <td>...</td>\n",
              "    </tr>\n",
              "    <tr>\n",
              "      <th>17374</th>\n",
              "      <td>17374</td>\n",
              "      <td>17375</td>\n",
              "      <td>2012-12-31</td>\n",
              "      <td>1</td>\n",
              "      <td>19</td>\n",
              "      <td>0</td>\n",
              "      <td>1</td>\n",
              "      <td>2</td>\n",
              "      <td>0.60</td>\n",
              "      <td>11</td>\n",
              "      <td>4.22</td>\n",
              "      <td>1.0016</td>\n",
              "      <td>11</td>\n",
              "      <td>108</td>\n",
              "      <td>Monday</td>\n",
              "      <td>2012</td>\n",
              "      <td>12</td>\n",
              "      <td>119</td>\n",
              "    </tr>\n",
              "    <tr>\n",
              "      <th>17375</th>\n",
              "      <td>17375</td>\n",
              "      <td>17376</td>\n",
              "      <td>2012-12-31</td>\n",
              "      <td>1</td>\n",
              "      <td>20</td>\n",
              "      <td>0</td>\n",
              "      <td>1</td>\n",
              "      <td>2</td>\n",
              "      <td>0.60</td>\n",
              "      <td>11</td>\n",
              "      <td>4.22</td>\n",
              "      <td>1.0016</td>\n",
              "      <td>8</td>\n",
              "      <td>81</td>\n",
              "      <td>Monday</td>\n",
              "      <td>2012</td>\n",
              "      <td>12</td>\n",
              "      <td>89</td>\n",
              "    </tr>\n",
              "    <tr>\n",
              "      <th>17376</th>\n",
              "      <td>17376</td>\n",
              "      <td>17377</td>\n",
              "      <td>2012-12-31</td>\n",
              "      <td>1</td>\n",
              "      <td>21</td>\n",
              "      <td>0</td>\n",
              "      <td>1</td>\n",
              "      <td>1</td>\n",
              "      <td>0.60</td>\n",
              "      <td>11</td>\n",
              "      <td>4.22</td>\n",
              "      <td>1.0016</td>\n",
              "      <td>7</td>\n",
              "      <td>83</td>\n",
              "      <td>Monday</td>\n",
              "      <td>2012</td>\n",
              "      <td>12</td>\n",
              "      <td>90</td>\n",
              "    </tr>\n",
              "    <tr>\n",
              "      <th>17377</th>\n",
              "      <td>17377</td>\n",
              "      <td>17378</td>\n",
              "      <td>2012-12-31</td>\n",
              "      <td>1</td>\n",
              "      <td>22</td>\n",
              "      <td>0</td>\n",
              "      <td>1</td>\n",
              "      <td>1</td>\n",
              "      <td>0.56</td>\n",
              "      <td>9</td>\n",
              "      <td>4.22</td>\n",
              "      <td>1.9982</td>\n",
              "      <td>13</td>\n",
              "      <td>48</td>\n",
              "      <td>Monday</td>\n",
              "      <td>2012</td>\n",
              "      <td>12</td>\n",
              "      <td>61</td>\n",
              "    </tr>\n",
              "    <tr>\n",
              "      <th>17378</th>\n",
              "      <td>17378</td>\n",
              "      <td>17379</td>\n",
              "      <td>2012-12-31</td>\n",
              "      <td>1</td>\n",
              "      <td>23</td>\n",
              "      <td>0</td>\n",
              "      <td>1</td>\n",
              "      <td>1</td>\n",
              "      <td>0.65</td>\n",
              "      <td>9</td>\n",
              "      <td>4.22</td>\n",
              "      <td>1.9982</td>\n",
              "      <td>12</td>\n",
              "      <td>37</td>\n",
              "      <td>Monday</td>\n",
              "      <td>2012</td>\n",
              "      <td>12</td>\n",
              "      <td>49</td>\n",
              "    </tr>\n",
              "  </tbody>\n",
              "</table>\n",
              "<p>17379 rows × 18 columns</p>\n",
              "</div>"
            ],
            "text/plain": [
              "       Unnamed: 0  instant      dteday  season  ...  day_of_week  year  month  target\n",
              "0               0        1  2011-01-01       1  ...     Saturday  2011      1      16\n",
              "1               1        2  2011-01-01       1  ...     Saturday  2011      1      40\n",
              "2               2        3  2011-01-01       1  ...     Saturday  2011      1      32\n",
              "3               3        4  2011-01-01       1  ...     Saturday  2011      1      13\n",
              "4               4        5  2011-01-01       1  ...     Saturday  2011      1       1\n",
              "...           ...      ...         ...     ...  ...          ...   ...    ...     ...\n",
              "17374       17374    17375  2012-12-31       1  ...       Monday  2012     12     119\n",
              "17375       17375    17376  2012-12-31       1  ...       Monday  2012     12      89\n",
              "17376       17376    17377  2012-12-31       1  ...       Monday  2012     12      90\n",
              "17377       17377    17378  2012-12-31       1  ...       Monday  2012     12      61\n",
              "17378       17378    17379  2012-12-31       1  ...       Monday  2012     12      49\n",
              "\n",
              "[17379 rows x 18 columns]"
            ]
          },
          "metadata": {
            "tags": []
          },
          "execution_count": 19
        }
      ]
    },
    {
      "cell_type": "code",
      "metadata": {
        "id": "xXUvYeiMEbYm",
        "colab": {
          "base_uri": "https://localhost:8080/"
        },
        "outputId": "b6b5c46f-b70a-4191-b3c1-531fcd17f457"
      },
      "source": [
        "list(bikes.columns) "
      ],
      "execution_count": null,
      "outputs": [
        {
          "output_type": "execute_result",
          "data": {
            "text/plain": [
              "['Unnamed: 0',\n",
              " 'instant',\n",
              " 'dteday',\n",
              " 'season',\n",
              " 'hr',\n",
              " 'holiday',\n",
              " 'workingday',\n",
              " 'weathersit',\n",
              " 'hum',\n",
              " 'windspeed',\n",
              " 'temp_c',\n",
              " 'feels_like_c',\n",
              " 'casual',\n",
              " 'registered',\n",
              " 'day_of_week',\n",
              " 'year',\n",
              " 'month',\n",
              " 'target']"
            ]
          },
          "metadata": {
            "tags": []
          },
          "execution_count": 20
        }
      ]
    },
    {
      "cell_type": "markdown",
      "metadata": {
        "id": "e-5LWk2aSDjd"
      },
      "source": [
        "#### Create data frame with useful features for predictions"
      ]
    },
    {
      "cell_type": "code",
      "metadata": {
        "id": "sDPOQR0-DaRh",
        "colab": {
          "base_uri": "https://localhost:8080/",
          "height": 399
        },
        "outputId": "8ea29691-8639-4437-88f1-1c13fa79cc29"
      },
      "source": [
        "#create data frame where only useful features for Neural Networks are left\n",
        "useful_bikes = bikes[['season',\n",
        " 'hr',\n",
        " 'holiday',\n",
        " 'workingday',\n",
        " 'weathersit',\n",
        " 'hum',\n",
        " 'windspeed',\n",
        " 'temp_c',\n",
        " 'feels_like_c',\n",
        " 'casual',\n",
        " 'registered',\n",
        " 'day_of_week',\n",
        " 'year',\n",
        " 'month',\n",
        " 'target']]\n",
        "\n",
        "useful_bikes"
      ],
      "execution_count": null,
      "outputs": [
        {
          "output_type": "execute_result",
          "data": {
            "text/html": [
              "<div>\n",
              "<style scoped>\n",
              "    .dataframe tbody tr th:only-of-type {\n",
              "        vertical-align: middle;\n",
              "    }\n",
              "\n",
              "    .dataframe tbody tr th {\n",
              "        vertical-align: top;\n",
              "    }\n",
              "\n",
              "    .dataframe thead th {\n",
              "        text-align: right;\n",
              "    }\n",
              "</style>\n",
              "<table border=\"1\" class=\"dataframe\">\n",
              "  <thead>\n",
              "    <tr style=\"text-align: right;\">\n",
              "      <th></th>\n",
              "      <th>season</th>\n",
              "      <th>hr</th>\n",
              "      <th>holiday</th>\n",
              "      <th>workingday</th>\n",
              "      <th>weathersit</th>\n",
              "      <th>hum</th>\n",
              "      <th>windspeed</th>\n",
              "      <th>temp_c</th>\n",
              "      <th>feels_like_c</th>\n",
              "      <th>casual</th>\n",
              "      <th>registered</th>\n",
              "      <th>day_of_week</th>\n",
              "      <th>year</th>\n",
              "      <th>month</th>\n",
              "      <th>target</th>\n",
              "    </tr>\n",
              "  </thead>\n",
              "  <tbody>\n",
              "    <tr>\n",
              "      <th>0</th>\n",
              "      <td>1</td>\n",
              "      <td>0</td>\n",
              "      <td>0</td>\n",
              "      <td>0</td>\n",
              "      <td>1</td>\n",
              "      <td>0.81</td>\n",
              "      <td>0</td>\n",
              "      <td>3.28</td>\n",
              "      <td>3.0014</td>\n",
              "      <td>3</td>\n",
              "      <td>13</td>\n",
              "      <td>Saturday</td>\n",
              "      <td>2011</td>\n",
              "      <td>1</td>\n",
              "      <td>16</td>\n",
              "    </tr>\n",
              "    <tr>\n",
              "      <th>1</th>\n",
              "      <td>1</td>\n",
              "      <td>1</td>\n",
              "      <td>0</td>\n",
              "      <td>0</td>\n",
              "      <td>1</td>\n",
              "      <td>0.80</td>\n",
              "      <td>0</td>\n",
              "      <td>2.34</td>\n",
              "      <td>1.9982</td>\n",
              "      <td>8</td>\n",
              "      <td>32</td>\n",
              "      <td>Saturday</td>\n",
              "      <td>2011</td>\n",
              "      <td>1</td>\n",
              "      <td>40</td>\n",
              "    </tr>\n",
              "    <tr>\n",
              "      <th>2</th>\n",
              "      <td>1</td>\n",
              "      <td>2</td>\n",
              "      <td>0</td>\n",
              "      <td>0</td>\n",
              "      <td>1</td>\n",
              "      <td>0.80</td>\n",
              "      <td>0</td>\n",
              "      <td>2.34</td>\n",
              "      <td>1.9982</td>\n",
              "      <td>5</td>\n",
              "      <td>27</td>\n",
              "      <td>Saturday</td>\n",
              "      <td>2011</td>\n",
              "      <td>1</td>\n",
              "      <td>32</td>\n",
              "    </tr>\n",
              "    <tr>\n",
              "      <th>3</th>\n",
              "      <td>1</td>\n",
              "      <td>3</td>\n",
              "      <td>0</td>\n",
              "      <td>0</td>\n",
              "      <td>1</td>\n",
              "      <td>0.75</td>\n",
              "      <td>0</td>\n",
              "      <td>3.28</td>\n",
              "      <td>3.0014</td>\n",
              "      <td>3</td>\n",
              "      <td>10</td>\n",
              "      <td>Saturday</td>\n",
              "      <td>2011</td>\n",
              "      <td>1</td>\n",
              "      <td>13</td>\n",
              "    </tr>\n",
              "    <tr>\n",
              "      <th>4</th>\n",
              "      <td>1</td>\n",
              "      <td>4</td>\n",
              "      <td>0</td>\n",
              "      <td>0</td>\n",
              "      <td>1</td>\n",
              "      <td>0.75</td>\n",
              "      <td>0</td>\n",
              "      <td>3.28</td>\n",
              "      <td>3.0014</td>\n",
              "      <td>0</td>\n",
              "      <td>1</td>\n",
              "      <td>Saturday</td>\n",
              "      <td>2011</td>\n",
              "      <td>1</td>\n",
              "      <td>1</td>\n",
              "    </tr>\n",
              "    <tr>\n",
              "      <th>...</th>\n",
              "      <td>...</td>\n",
              "      <td>...</td>\n",
              "      <td>...</td>\n",
              "      <td>...</td>\n",
              "      <td>...</td>\n",
              "      <td>...</td>\n",
              "      <td>...</td>\n",
              "      <td>...</td>\n",
              "      <td>...</td>\n",
              "      <td>...</td>\n",
              "      <td>...</td>\n",
              "      <td>...</td>\n",
              "      <td>...</td>\n",
              "      <td>...</td>\n",
              "      <td>...</td>\n",
              "    </tr>\n",
              "    <tr>\n",
              "      <th>17374</th>\n",
              "      <td>1</td>\n",
              "      <td>19</td>\n",
              "      <td>0</td>\n",
              "      <td>1</td>\n",
              "      <td>2</td>\n",
              "      <td>0.60</td>\n",
              "      <td>11</td>\n",
              "      <td>4.22</td>\n",
              "      <td>1.0016</td>\n",
              "      <td>11</td>\n",
              "      <td>108</td>\n",
              "      <td>Monday</td>\n",
              "      <td>2012</td>\n",
              "      <td>12</td>\n",
              "      <td>119</td>\n",
              "    </tr>\n",
              "    <tr>\n",
              "      <th>17375</th>\n",
              "      <td>1</td>\n",
              "      <td>20</td>\n",
              "      <td>0</td>\n",
              "      <td>1</td>\n",
              "      <td>2</td>\n",
              "      <td>0.60</td>\n",
              "      <td>11</td>\n",
              "      <td>4.22</td>\n",
              "      <td>1.0016</td>\n",
              "      <td>8</td>\n",
              "      <td>81</td>\n",
              "      <td>Monday</td>\n",
              "      <td>2012</td>\n",
              "      <td>12</td>\n",
              "      <td>89</td>\n",
              "    </tr>\n",
              "    <tr>\n",
              "      <th>17376</th>\n",
              "      <td>1</td>\n",
              "      <td>21</td>\n",
              "      <td>0</td>\n",
              "      <td>1</td>\n",
              "      <td>1</td>\n",
              "      <td>0.60</td>\n",
              "      <td>11</td>\n",
              "      <td>4.22</td>\n",
              "      <td>1.0016</td>\n",
              "      <td>7</td>\n",
              "      <td>83</td>\n",
              "      <td>Monday</td>\n",
              "      <td>2012</td>\n",
              "      <td>12</td>\n",
              "      <td>90</td>\n",
              "    </tr>\n",
              "    <tr>\n",
              "      <th>17377</th>\n",
              "      <td>1</td>\n",
              "      <td>22</td>\n",
              "      <td>0</td>\n",
              "      <td>1</td>\n",
              "      <td>1</td>\n",
              "      <td>0.56</td>\n",
              "      <td>9</td>\n",
              "      <td>4.22</td>\n",
              "      <td>1.9982</td>\n",
              "      <td>13</td>\n",
              "      <td>48</td>\n",
              "      <td>Monday</td>\n",
              "      <td>2012</td>\n",
              "      <td>12</td>\n",
              "      <td>61</td>\n",
              "    </tr>\n",
              "    <tr>\n",
              "      <th>17378</th>\n",
              "      <td>1</td>\n",
              "      <td>23</td>\n",
              "      <td>0</td>\n",
              "      <td>1</td>\n",
              "      <td>1</td>\n",
              "      <td>0.65</td>\n",
              "      <td>9</td>\n",
              "      <td>4.22</td>\n",
              "      <td>1.9982</td>\n",
              "      <td>12</td>\n",
              "      <td>37</td>\n",
              "      <td>Monday</td>\n",
              "      <td>2012</td>\n",
              "      <td>12</td>\n",
              "      <td>49</td>\n",
              "    </tr>\n",
              "  </tbody>\n",
              "</table>\n",
              "<p>17379 rows × 15 columns</p>\n",
              "</div>"
            ],
            "text/plain": [
              "       season  hr  holiday  workingday  ...  day_of_week  year  month  target\n",
              "0           1   0        0           0  ...     Saturday  2011      1      16\n",
              "1           1   1        0           0  ...     Saturday  2011      1      40\n",
              "2           1   2        0           0  ...     Saturday  2011      1      32\n",
              "3           1   3        0           0  ...     Saturday  2011      1      13\n",
              "4           1   4        0           0  ...     Saturday  2011      1       1\n",
              "...       ...  ..      ...         ...  ...          ...   ...    ...     ...\n",
              "17374       1  19        0           1  ...       Monday  2012     12     119\n",
              "17375       1  20        0           1  ...       Monday  2012     12      89\n",
              "17376       1  21        0           1  ...       Monday  2012     12      90\n",
              "17377       1  22        0           1  ...       Monday  2012     12      61\n",
              "17378       1  23        0           1  ...       Monday  2012     12      49\n",
              "\n",
              "[17379 rows x 15 columns]"
            ]
          },
          "metadata": {
            "tags": []
          },
          "execution_count": 21
        }
      ]
    },
    {
      "cell_type": "code",
      "metadata": {
        "id": "RtF6YLc8Hnk8",
        "colab": {
          "base_uri": "https://localhost:8080/",
          "height": 399
        },
        "outputId": "b0d99c48-caef-490a-e6e1-26e1127ee213"
      },
      "source": [
        "useful_bikes = pd.get_dummies(useful_bikes, prefix='', prefix_sep='', drop_first=True)\n",
        "useful_bikes['year_encoded'] = pd.get_dummies(useful_bikes.year, prefix='', prefix_sep='', drop_first=True)\n",
        "#useful_bikes['month_encoded'] = pd.get_dummies(useful_bikes.month, prefix='', prefix_sep='', drop_first=True)\n",
        "useful_bikes"
      ],
      "execution_count": null,
      "outputs": [
        {
          "output_type": "execute_result",
          "data": {
            "text/html": [
              "<div>\n",
              "<style scoped>\n",
              "    .dataframe tbody tr th:only-of-type {\n",
              "        vertical-align: middle;\n",
              "    }\n",
              "\n",
              "    .dataframe tbody tr th {\n",
              "        vertical-align: top;\n",
              "    }\n",
              "\n",
              "    .dataframe thead th {\n",
              "        text-align: right;\n",
              "    }\n",
              "</style>\n",
              "<table border=\"1\" class=\"dataframe\">\n",
              "  <thead>\n",
              "    <tr style=\"text-align: right;\">\n",
              "      <th></th>\n",
              "      <th>season</th>\n",
              "      <th>hr</th>\n",
              "      <th>holiday</th>\n",
              "      <th>workingday</th>\n",
              "      <th>weathersit</th>\n",
              "      <th>hum</th>\n",
              "      <th>windspeed</th>\n",
              "      <th>temp_c</th>\n",
              "      <th>feels_like_c</th>\n",
              "      <th>casual</th>\n",
              "      <th>registered</th>\n",
              "      <th>year</th>\n",
              "      <th>month</th>\n",
              "      <th>target</th>\n",
              "      <th>Monday</th>\n",
              "      <th>Saturday</th>\n",
              "      <th>Sunday</th>\n",
              "      <th>Thursday</th>\n",
              "      <th>Tuesday</th>\n",
              "      <th>Wednesday</th>\n",
              "      <th>year_encoded</th>\n",
              "    </tr>\n",
              "  </thead>\n",
              "  <tbody>\n",
              "    <tr>\n",
              "      <th>0</th>\n",
              "      <td>1</td>\n",
              "      <td>0</td>\n",
              "      <td>0</td>\n",
              "      <td>0</td>\n",
              "      <td>1</td>\n",
              "      <td>0.81</td>\n",
              "      <td>0</td>\n",
              "      <td>3.28</td>\n",
              "      <td>3.0014</td>\n",
              "      <td>3</td>\n",
              "      <td>13</td>\n",
              "      <td>2011</td>\n",
              "      <td>1</td>\n",
              "      <td>16</td>\n",
              "      <td>0</td>\n",
              "      <td>1</td>\n",
              "      <td>0</td>\n",
              "      <td>0</td>\n",
              "      <td>0</td>\n",
              "      <td>0</td>\n",
              "      <td>0</td>\n",
              "    </tr>\n",
              "    <tr>\n",
              "      <th>1</th>\n",
              "      <td>1</td>\n",
              "      <td>1</td>\n",
              "      <td>0</td>\n",
              "      <td>0</td>\n",
              "      <td>1</td>\n",
              "      <td>0.80</td>\n",
              "      <td>0</td>\n",
              "      <td>2.34</td>\n",
              "      <td>1.9982</td>\n",
              "      <td>8</td>\n",
              "      <td>32</td>\n",
              "      <td>2011</td>\n",
              "      <td>1</td>\n",
              "      <td>40</td>\n",
              "      <td>0</td>\n",
              "      <td>1</td>\n",
              "      <td>0</td>\n",
              "      <td>0</td>\n",
              "      <td>0</td>\n",
              "      <td>0</td>\n",
              "      <td>0</td>\n",
              "    </tr>\n",
              "    <tr>\n",
              "      <th>2</th>\n",
              "      <td>1</td>\n",
              "      <td>2</td>\n",
              "      <td>0</td>\n",
              "      <td>0</td>\n",
              "      <td>1</td>\n",
              "      <td>0.80</td>\n",
              "      <td>0</td>\n",
              "      <td>2.34</td>\n",
              "      <td>1.9982</td>\n",
              "      <td>5</td>\n",
              "      <td>27</td>\n",
              "      <td>2011</td>\n",
              "      <td>1</td>\n",
              "      <td>32</td>\n",
              "      <td>0</td>\n",
              "      <td>1</td>\n",
              "      <td>0</td>\n",
              "      <td>0</td>\n",
              "      <td>0</td>\n",
              "      <td>0</td>\n",
              "      <td>0</td>\n",
              "    </tr>\n",
              "    <tr>\n",
              "      <th>3</th>\n",
              "      <td>1</td>\n",
              "      <td>3</td>\n",
              "      <td>0</td>\n",
              "      <td>0</td>\n",
              "      <td>1</td>\n",
              "      <td>0.75</td>\n",
              "      <td>0</td>\n",
              "      <td>3.28</td>\n",
              "      <td>3.0014</td>\n",
              "      <td>3</td>\n",
              "      <td>10</td>\n",
              "      <td>2011</td>\n",
              "      <td>1</td>\n",
              "      <td>13</td>\n",
              "      <td>0</td>\n",
              "      <td>1</td>\n",
              "      <td>0</td>\n",
              "      <td>0</td>\n",
              "      <td>0</td>\n",
              "      <td>0</td>\n",
              "      <td>0</td>\n",
              "    </tr>\n",
              "    <tr>\n",
              "      <th>4</th>\n",
              "      <td>1</td>\n",
              "      <td>4</td>\n",
              "      <td>0</td>\n",
              "      <td>0</td>\n",
              "      <td>1</td>\n",
              "      <td>0.75</td>\n",
              "      <td>0</td>\n",
              "      <td>3.28</td>\n",
              "      <td>3.0014</td>\n",
              "      <td>0</td>\n",
              "      <td>1</td>\n",
              "      <td>2011</td>\n",
              "      <td>1</td>\n",
              "      <td>1</td>\n",
              "      <td>0</td>\n",
              "      <td>1</td>\n",
              "      <td>0</td>\n",
              "      <td>0</td>\n",
              "      <td>0</td>\n",
              "      <td>0</td>\n",
              "      <td>0</td>\n",
              "    </tr>\n",
              "    <tr>\n",
              "      <th>...</th>\n",
              "      <td>...</td>\n",
              "      <td>...</td>\n",
              "      <td>...</td>\n",
              "      <td>...</td>\n",
              "      <td>...</td>\n",
              "      <td>...</td>\n",
              "      <td>...</td>\n",
              "      <td>...</td>\n",
              "      <td>...</td>\n",
              "      <td>...</td>\n",
              "      <td>...</td>\n",
              "      <td>...</td>\n",
              "      <td>...</td>\n",
              "      <td>...</td>\n",
              "      <td>...</td>\n",
              "      <td>...</td>\n",
              "      <td>...</td>\n",
              "      <td>...</td>\n",
              "      <td>...</td>\n",
              "      <td>...</td>\n",
              "      <td>...</td>\n",
              "    </tr>\n",
              "    <tr>\n",
              "      <th>17374</th>\n",
              "      <td>1</td>\n",
              "      <td>19</td>\n",
              "      <td>0</td>\n",
              "      <td>1</td>\n",
              "      <td>2</td>\n",
              "      <td>0.60</td>\n",
              "      <td>11</td>\n",
              "      <td>4.22</td>\n",
              "      <td>1.0016</td>\n",
              "      <td>11</td>\n",
              "      <td>108</td>\n",
              "      <td>2012</td>\n",
              "      <td>12</td>\n",
              "      <td>119</td>\n",
              "      <td>1</td>\n",
              "      <td>0</td>\n",
              "      <td>0</td>\n",
              "      <td>0</td>\n",
              "      <td>0</td>\n",
              "      <td>0</td>\n",
              "      <td>1</td>\n",
              "    </tr>\n",
              "    <tr>\n",
              "      <th>17375</th>\n",
              "      <td>1</td>\n",
              "      <td>20</td>\n",
              "      <td>0</td>\n",
              "      <td>1</td>\n",
              "      <td>2</td>\n",
              "      <td>0.60</td>\n",
              "      <td>11</td>\n",
              "      <td>4.22</td>\n",
              "      <td>1.0016</td>\n",
              "      <td>8</td>\n",
              "      <td>81</td>\n",
              "      <td>2012</td>\n",
              "      <td>12</td>\n",
              "      <td>89</td>\n",
              "      <td>1</td>\n",
              "      <td>0</td>\n",
              "      <td>0</td>\n",
              "      <td>0</td>\n",
              "      <td>0</td>\n",
              "      <td>0</td>\n",
              "      <td>1</td>\n",
              "    </tr>\n",
              "    <tr>\n",
              "      <th>17376</th>\n",
              "      <td>1</td>\n",
              "      <td>21</td>\n",
              "      <td>0</td>\n",
              "      <td>1</td>\n",
              "      <td>1</td>\n",
              "      <td>0.60</td>\n",
              "      <td>11</td>\n",
              "      <td>4.22</td>\n",
              "      <td>1.0016</td>\n",
              "      <td>7</td>\n",
              "      <td>83</td>\n",
              "      <td>2012</td>\n",
              "      <td>12</td>\n",
              "      <td>90</td>\n",
              "      <td>1</td>\n",
              "      <td>0</td>\n",
              "      <td>0</td>\n",
              "      <td>0</td>\n",
              "      <td>0</td>\n",
              "      <td>0</td>\n",
              "      <td>1</td>\n",
              "    </tr>\n",
              "    <tr>\n",
              "      <th>17377</th>\n",
              "      <td>1</td>\n",
              "      <td>22</td>\n",
              "      <td>0</td>\n",
              "      <td>1</td>\n",
              "      <td>1</td>\n",
              "      <td>0.56</td>\n",
              "      <td>9</td>\n",
              "      <td>4.22</td>\n",
              "      <td>1.9982</td>\n",
              "      <td>13</td>\n",
              "      <td>48</td>\n",
              "      <td>2012</td>\n",
              "      <td>12</td>\n",
              "      <td>61</td>\n",
              "      <td>1</td>\n",
              "      <td>0</td>\n",
              "      <td>0</td>\n",
              "      <td>0</td>\n",
              "      <td>0</td>\n",
              "      <td>0</td>\n",
              "      <td>1</td>\n",
              "    </tr>\n",
              "    <tr>\n",
              "      <th>17378</th>\n",
              "      <td>1</td>\n",
              "      <td>23</td>\n",
              "      <td>0</td>\n",
              "      <td>1</td>\n",
              "      <td>1</td>\n",
              "      <td>0.65</td>\n",
              "      <td>9</td>\n",
              "      <td>4.22</td>\n",
              "      <td>1.9982</td>\n",
              "      <td>12</td>\n",
              "      <td>37</td>\n",
              "      <td>2012</td>\n",
              "      <td>12</td>\n",
              "      <td>49</td>\n",
              "      <td>1</td>\n",
              "      <td>0</td>\n",
              "      <td>0</td>\n",
              "      <td>0</td>\n",
              "      <td>0</td>\n",
              "      <td>0</td>\n",
              "      <td>1</td>\n",
              "    </tr>\n",
              "  </tbody>\n",
              "</table>\n",
              "<p>17379 rows × 21 columns</p>\n",
              "</div>"
            ],
            "text/plain": [
              "       season  hr  holiday  ...  Tuesday  Wednesday  year_encoded\n",
              "0           1   0        0  ...        0          0             0\n",
              "1           1   1        0  ...        0          0             0\n",
              "2           1   2        0  ...        0          0             0\n",
              "3           1   3        0  ...        0          0             0\n",
              "4           1   4        0  ...        0          0             0\n",
              "...       ...  ..      ...  ...      ...        ...           ...\n",
              "17374       1  19        0  ...        0          0             1\n",
              "17375       1  20        0  ...        0          0             1\n",
              "17376       1  21        0  ...        0          0             1\n",
              "17377       1  22        0  ...        0          0             1\n",
              "17378       1  23        0  ...        0          0             1\n",
              "\n",
              "[17379 rows x 21 columns]"
            ]
          },
          "metadata": {
            "tags": []
          },
          "execution_count": 22
        }
      ]
    },
    {
      "cell_type": "markdown",
      "metadata": {
        "id": "fyLqEcvcJA87"
      },
      "source": [
        "### Split the data into train and test"
      ]
    },
    {
      "cell_type": "code",
      "metadata": {
        "id": "JphLzj0NJGIk",
        "colab": {
          "base_uri": "https://localhost:8080/"
        },
        "outputId": "9ce9d8ef-ad76-487d-c0e9-14c119f59627"
      },
      "source": [
        "train_dataset = useful_bikes.sample(frac=0.8, random_state=0)\n",
        "test_dataset = useful_bikes.drop(train_dataset.index)\n",
        "train_dataset.info()"
      ],
      "execution_count": null,
      "outputs": [
        {
          "output_type": "stream",
          "text": [
            "<class 'pandas.core.frame.DataFrame'>\n",
            "Int64Index: 13903 entries, 3439 to 4146\n",
            "Data columns (total 21 columns):\n",
            " #   Column        Non-Null Count  Dtype  \n",
            "---  ------        --------------  -----  \n",
            " 0   season        13903 non-null  int64  \n",
            " 1   hr            13903 non-null  int64  \n",
            " 2   holiday       13903 non-null  int64  \n",
            " 3   workingday    13903 non-null  int64  \n",
            " 4   weathersit    13903 non-null  int64  \n",
            " 5   hum           13903 non-null  float64\n",
            " 6   windspeed     13903 non-null  int64  \n",
            " 7   temp_c        13903 non-null  float64\n",
            " 8   feels_like_c  13903 non-null  float64\n",
            " 9   casual        13903 non-null  int64  \n",
            " 10  registered    13903 non-null  int64  \n",
            " 11  year          13903 non-null  int64  \n",
            " 12  month         13903 non-null  int64  \n",
            " 13  target        13903 non-null  int64  \n",
            " 14  Monday        13903 non-null  uint8  \n",
            " 15  Saturday      13903 non-null  uint8  \n",
            " 16  Sunday        13903 non-null  uint8  \n",
            " 17  Thursday      13903 non-null  uint8  \n",
            " 18  Tuesday       13903 non-null  uint8  \n",
            " 19  Wednesday     13903 non-null  uint8  \n",
            " 20  year_encoded  13903 non-null  uint8  \n",
            "dtypes: float64(3), int64(11), uint8(7)\n",
            "memory usage: 1.7 MB\n"
          ],
          "name": "stdout"
        }
      ]
    },
    {
      "cell_type": "markdown",
      "metadata": {
        "id": "kvfBHPDpKC_G"
      },
      "source": [
        "### Inspect the data"
      ]
    },
    {
      "cell_type": "code",
      "metadata": {
        "id": "W-NMSOyqKMB6",
        "colab": {
          "base_uri": "https://localhost:8080/"
        },
        "outputId": "1e46b3c5-8bfe-4125-a407-36a2456d591c"
      },
      "source": [
        "list(useful_bikes.columns) "
      ],
      "execution_count": null,
      "outputs": [
        {
          "output_type": "execute_result",
          "data": {
            "text/plain": [
              "['season',\n",
              " 'hr',\n",
              " 'holiday',\n",
              " 'workingday',\n",
              " 'weathersit',\n",
              " 'hum',\n",
              " 'windspeed',\n",
              " 'temp_c',\n",
              " 'feels_like_c',\n",
              " 'casual',\n",
              " 'registered',\n",
              " 'year',\n",
              " 'month',\n",
              " 'target',\n",
              " 'Monday',\n",
              " 'Saturday',\n",
              " 'Sunday',\n",
              " 'Thursday',\n",
              " 'Tuesday',\n",
              " 'Wednesday',\n",
              " 'year_encoded']"
            ]
          },
          "metadata": {
            "tags": []
          },
          "execution_count": 24
        }
      ]
    },
    {
      "cell_type": "code",
      "metadata": {
        "id": "v8KOSO6GKHq4",
        "colab": {
          "base_uri": "https://localhost:8080/",
          "height": 1000
        },
        "outputId": "e47dfa42-2389-4533-8be4-0e992101b16c"
      },
      "source": [
        "plt.figure(figsize=(16, 6))\n",
        "\n",
        "sns.pairplot(train_dataset[[\n",
        "#'season',\n",
        "#'hr',\n",
        "#'holiday',\n",
        "#'workingday',\n",
        "#'weathersit',\n",
        "#'hum',\n",
        "#'windspeed',\n",
        "'temp_c',\n",
        "#'feels_like_c',\n",
        "#'casual',\n",
        "#'registered',\n",
        "'year',\n",
        "'month',\n",
        "'Monday',\n",
        "'Saturday',\n",
        "'Sunday',\n",
        "'Thursday',\n",
        "'Tuesday',\n",
        "'Wednesday',\n",
        "#  'year_encoded',\n",
        "'target'\n",
        "]], diag_kind='kde')"
      ],
      "execution_count": null,
      "outputs": [
        {
          "output_type": "execute_result",
          "data": {
            "text/plain": [
              "<seaborn.axisgrid.PairGrid at 0x7fb0c0aab4e0>"
            ]
          },
          "metadata": {
            "tags": []
          },
          "execution_count": 75
        },
        {
          "output_type": "display_data",
          "data": {
            "text/plain": [
              "<Figure size 1152x432 with 0 Axes>"
            ]
          },
          "metadata": {
            "tags": []
          }
        },
        {
          "output_type": "display_data",
          "data": {
            "image/png": "[encoded data removed]",
            "text/plain": [
              "<Figure size 1800x1800 with 110 Axes>"
            ]
          },
          "metadata": {
            "tags": [],
            "needs_background": "light"
          }
        }
      ]
    },
    {
      "cell_type": "markdown",
      "metadata": {
        "id": "LrAqi0zUMfz0"
      },
      "source": [
        "### Split features from labels"
      ]
    },
    {
      "cell_type": "markdown",
      "metadata": {
        "id": "iKNmXgFGMjlf"
      },
      "source": [
        "Separate the target value, the \"label\", from the features. This label is the value that you will train the model to predict."
      ]
    },
    {
      "cell_type": "code",
      "metadata": {
        "id": "NvdxeyHhO4Fz"
      },
      "source": [
        "train_features = train_dataset.copy()\n",
        "test_features = test_dataset.copy()\n",
        "\n",
        "train_labels = train_features.pop('target')\n",
        "test_labels = test_features.pop('target')"
      ],
      "execution_count": null,
      "outputs": []
    },
    {
      "cell_type": "markdown",
      "metadata": {
        "id": "HrHMjbh2TZCq"
      },
      "source": [
        "### Normalization"
      ]
    },
    {
      "cell_type": "markdown",
      "metadata": {
        "id": "kku4dIlPTqQi"
      },
      "source": [
        "In the table of statistics it's easy to see how different the ranges of each feature are."
      ]
    },
    {
      "cell_type": "code",
      "metadata": {
        "id": "7GqmP1IITsd9",
        "colab": {
          "base_uri": "https://localhost:8080/"
        },
        "outputId": "13ec170a-1668-4aa6-97f5-545bc03928b4"
      },
      "source": [
        "train_dataset.describe().transpose()[['mean', 'std']]"
      ],
      "execution_count": null,
      "outputs": [
        {
          "output_type": "execute_result",
          "data": {
            "text/html": [
              "<div>\n",
              "<style scoped>\n",
              "    .dataframe tbody tr th:only-of-type {\n",
              "        vertical-align: middle;\n",
              "    }\n",
              "\n",
              "    .dataframe tbody tr th {\n",
              "        vertical-align: top;\n",
              "    }\n",
              "\n",
              "    .dataframe thead th {\n",
              "        text-align: right;\n",
              "    }\n",
              "</style>\n",
              "<table border=\"1\" class=\"dataframe\">\n",
              "  <thead>\n",
              "    <tr style=\"text-align: right;\">\n",
              "      <th></th>\n",
              "      <th>mean</th>\n",
              "      <th>std</th>\n",
              "    </tr>\n",
              "  </thead>\n",
              "  <tbody>\n",
              "    <tr>\n",
              "      <th>season</th>\n",
              "      <td>2.502410</td>\n",
              "      <td>1.107308</td>\n",
              "    </tr>\n",
              "    <tr>\n",
              "      <th>hr</th>\n",
              "      <td>11.567360</td>\n",
              "      <td>6.909993</td>\n",
              "    </tr>\n",
              "    <tr>\n",
              "      <th>holiday</th>\n",
              "      <td>0.028699</td>\n",
              "      <td>0.166965</td>\n",
              "    </tr>\n",
              "    <tr>\n",
              "      <th>workingday</th>\n",
              "      <td>0.682299</td>\n",
              "      <td>0.465599</td>\n",
              "    </tr>\n",
              "    <tr>\n",
              "      <th>weathersit</th>\n",
              "      <td>1.430555</td>\n",
              "      <td>0.642828</td>\n",
              "    </tr>\n",
              "    <tr>\n",
              "      <th>hum</th>\n",
              "      <td>0.628882</td>\n",
              "      <td>0.192952</td>\n",
              "    </tr>\n",
              "    <tr>\n",
              "      <th>windspeed</th>\n",
              "      <td>12.732504</td>\n",
              "      <td>8.211298</td>\n",
              "    </tr>\n",
              "    <tr>\n",
              "      <th>temp_c</th>\n",
              "      <td>15.346590</td>\n",
              "      <td>9.027290</td>\n",
              "    </tr>\n",
              "    <tr>\n",
              "      <th>feels_like_c</th>\n",
              "      <td>15.389231</td>\n",
              "      <td>11.310380</td>\n",
              "    </tr>\n",
              "    <tr>\n",
              "      <th>casual</th>\n",
              "      <td>35.711861</td>\n",
              "      <td>49.531112</td>\n",
              "    </tr>\n",
              "    <tr>\n",
              "      <th>registered</th>\n",
              "      <td>154.440840</td>\n",
              "      <td>151.702443</td>\n",
              "    </tr>\n",
              "    <tr>\n",
              "      <th>year</th>\n",
              "      <td>2011.506078</td>\n",
              "      <td>0.499981</td>\n",
              "    </tr>\n",
              "    <tr>\n",
              "      <th>month</th>\n",
              "      <td>6.537150</td>\n",
              "      <td>3.440542</td>\n",
              "    </tr>\n",
              "    <tr>\n",
              "      <th>target</th>\n",
              "      <td>190.152701</td>\n",
              "      <td>181.863587</td>\n",
              "    </tr>\n",
              "    <tr>\n",
              "      <th>Monday</th>\n",
              "      <td>0.143638</td>\n",
              "      <td>0.350735</td>\n",
              "    </tr>\n",
              "    <tr>\n",
              "      <th>Saturday</th>\n",
              "      <td>0.146012</td>\n",
              "      <td>0.353131</td>\n",
              "    </tr>\n",
              "    <tr>\n",
              "      <th>Sunday</th>\n",
              "      <td>0.142991</td>\n",
              "      <td>0.350076</td>\n",
              "    </tr>\n",
              "    <tr>\n",
              "      <th>Thursday</th>\n",
              "      <td>0.144285</td>\n",
              "      <td>0.351392</td>\n",
              "    </tr>\n",
              "    <tr>\n",
              "      <th>Tuesday</th>\n",
              "      <td>0.138963</td>\n",
              "      <td>0.345920</td>\n",
              "    </tr>\n",
              "    <tr>\n",
              "      <th>Wednesday</th>\n",
              "      <td>0.140977</td>\n",
              "      <td>0.348010</td>\n",
              "    </tr>\n",
              "    <tr>\n",
              "      <th>year_encoded</th>\n",
              "      <td>0.506078</td>\n",
              "      <td>0.499981</td>\n",
              "    </tr>\n",
              "  </tbody>\n",
              "</table>\n",
              "</div>"
            ],
            "text/plain": [
              "                     mean         std\n",
              "season           2.502410    1.107308\n",
              "hr              11.567360    6.909993\n",
              "holiday          0.028699    0.166965\n",
              "workingday       0.682299    0.465599\n",
              "weathersit       1.430555    0.642828\n",
              "hum              0.628882    0.192952\n",
              "windspeed       12.732504    8.211298\n",
              "temp_c          15.346590    9.027290\n",
              "feels_like_c    15.389231   11.310380\n",
              "casual          35.711861   49.531112\n",
              "registered     154.440840  151.702443\n",
              "year          2011.506078    0.499981\n",
              "month            6.537150    3.440542\n",
              "target         190.152701  181.863587\n",
              "Monday           0.143638    0.350735\n",
              "Saturday         0.146012    0.353131\n",
              "Sunday           0.142991    0.350076\n",
              "Thursday         0.144285    0.351392\n",
              "Tuesday          0.138963    0.345920\n",
              "Wednesday        0.140977    0.348010\n",
              "year_encoded     0.506078    0.499981"
            ]
          },
          "metadata": {
            "tags": []
          },
          "execution_count": 78
        }
      ]
    },
    {
      "cell_type": "markdown",
      "metadata": {
        "id": "frTwDCcyT-hT"
      },
      "source": [
        "#### The Normalization layer\n",
        "The preprocessing.Normalization layer is a clean and simple way to build that preprocessing into your model.\n",
        "\n",
        "The first step is to create the layer:"
      ]
    },
    {
      "cell_type": "code",
      "metadata": {
        "id": "Mx0aan2DUCdy"
      },
      "source": [
        "normalizer = tf.keras.layers.experimental.preprocessing.Normalization()"
      ],
      "execution_count": null,
      "outputs": []
    },
    {
      "cell_type": "markdown",
      "metadata": {
        "id": "3hnuwI1sUcba"
      },
      "source": [
        "Then .adapt() it to the data:"
      ]
    },
    {
      "cell_type": "code",
      "metadata": {
        "id": "mzGj_CypUgdM"
      },
      "source": [
        "normalizer.adapt(np.array(train_features))"
      ],
      "execution_count": null,
      "outputs": []
    },
    {
      "cell_type": "markdown",
      "metadata": {
        "id": "ng6KJRriUk2P"
      },
      "source": [
        "This calculates the mean and variance, and stores them in the layer."
      ]
    },
    {
      "cell_type": "code",
      "metadata": {
        "id": "A243z9KcUq2r",
        "colab": {
          "base_uri": "https://localhost:8080/"
        },
        "outputId": "e174e5a5-0b0a-4cec-ba03-938138560f96"
      },
      "source": [
        "train_features"
      ],
      "execution_count": null,
      "outputs": [
        {
          "output_type": "execute_result",
          "data": {
            "text/html": [
              "<div>\n",
              "<style scoped>\n",
              "    .dataframe tbody tr th:only-of-type {\n",
              "        vertical-align: middle;\n",
              "    }\n",
              "\n",
              "    .dataframe tbody tr th {\n",
              "        vertical-align: top;\n",
              "    }\n",
              "\n",
              "    .dataframe thead th {\n",
              "        text-align: right;\n",
              "    }\n",
              "</style>\n",
              "<table border=\"1\" class=\"dataframe\">\n",
              "  <thead>\n",
              "    <tr style=\"text-align: right;\">\n",
              "      <th></th>\n",
              "      <th>season</th>\n",
              "      <th>hr</th>\n",
              "      <th>holiday</th>\n",
              "      <th>workingday</th>\n",
              "      <th>weathersit</th>\n",
              "      <th>hum</th>\n",
              "      <th>windspeed</th>\n",
              "      <th>temp_c</th>\n",
              "      <th>feels_like_c</th>\n",
              "      <th>casual</th>\n",
              "      <th>registered</th>\n",
              "      <th>year</th>\n",
              "      <th>month</th>\n",
              "      <th>Monday</th>\n",
              "      <th>Saturday</th>\n",
              "      <th>Sunday</th>\n",
              "      <th>Thursday</th>\n",
              "      <th>Tuesday</th>\n",
              "      <th>Wednesday</th>\n",
              "      <th>year_encoded</th>\n",
              "    </tr>\n",
              "  </thead>\n",
              "  <tbody>\n",
              "    <tr>\n",
              "      <th>3439</th>\n",
              "      <td>2</td>\n",
              "      <td>5</td>\n",
              "      <td>0</td>\n",
              "      <td>0</td>\n",
              "      <td>1</td>\n",
              "      <td>0.88</td>\n",
              "      <td>15</td>\n",
              "      <td>18.32</td>\n",
              "      <td>18.9998</td>\n",
              "      <td>4</td>\n",
              "      <td>3</td>\n",
              "      <td>2011</td>\n",
              "      <td>5</td>\n",
              "      <td>0</td>\n",
              "      <td>1</td>\n",
              "      <td>0</td>\n",
              "      <td>0</td>\n",
              "      <td>0</td>\n",
              "      <td>0</td>\n",
              "      <td>0</td>\n",
              "    </tr>\n",
              "    <tr>\n",
              "      <th>6542</th>\n",
              "      <td>4</td>\n",
              "      <td>4</td>\n",
              "      <td>0</td>\n",
              "      <td>1</td>\n",
              "      <td>1</td>\n",
              "      <td>0.88</td>\n",
              "      <td>0</td>\n",
              "      <td>12.68</td>\n",
              "      <td>13.0004</td>\n",
              "      <td>1</td>\n",
              "      <td>4</td>\n",
              "      <td>2011</td>\n",
              "      <td>10</td>\n",
              "      <td>0</td>\n",
              "      <td>0</td>\n",
              "      <td>0</td>\n",
              "      <td>0</td>\n",
              "      <td>0</td>\n",
              "      <td>1</td>\n",
              "      <td>0</td>\n",
              "    </tr>\n",
              "    <tr>\n",
              "      <th>15470</th>\n",
              "      <td>4</td>\n",
              "      <td>19</td>\n",
              "      <td>0</td>\n",
              "      <td>1</td>\n",
              "      <td>1</td>\n",
              "      <td>0.51</td>\n",
              "      <td>9</td>\n",
              "      <td>12.68</td>\n",
              "      <td>13.0004</td>\n",
              "      <td>81</td>\n",
              "      <td>662</td>\n",
              "      <td>2012</td>\n",
              "      <td>10</td>\n",
              "      <td>0</td>\n",
              "      <td>0</td>\n",
              "      <td>0</td>\n",
              "      <td>1</td>\n",
              "      <td>0</td>\n",
              "      <td>0</td>\n",
              "      <td>1</td>\n",
              "    </tr>\n",
              "    <tr>\n",
              "      <th>9851</th>\n",
              "      <td>1</td>\n",
              "      <td>11</td>\n",
              "      <td>1</td>\n",
              "      <td>0</td>\n",
              "      <td>1</td>\n",
              "      <td>0.48</td>\n",
              "      <td>24</td>\n",
              "      <td>4.22</td>\n",
              "      <td>-0.9982</td>\n",
              "      <td>45</td>\n",
              "      <td>163</td>\n",
              "      <td>2012</td>\n",
              "      <td>2</td>\n",
              "      <td>1</td>\n",
              "      <td>0</td>\n",
              "      <td>0</td>\n",
              "      <td>0</td>\n",
              "      <td>0</td>\n",
              "      <td>0</td>\n",
              "      <td>1</td>\n",
              "    </tr>\n",
              "    <tr>\n",
              "      <th>12640</th>\n",
              "      <td>2</td>\n",
              "      <td>21</td>\n",
              "      <td>0</td>\n",
              "      <td>1</td>\n",
              "      <td>1</td>\n",
              "      <td>0.50</td>\n",
              "      <td>7</td>\n",
              "      <td>23.02</td>\n",
              "      <td>24.9992</td>\n",
              "      <td>83</td>\n",
              "      <td>250</td>\n",
              "      <td>2012</td>\n",
              "      <td>6</td>\n",
              "      <td>0</td>\n",
              "      <td>0</td>\n",
              "      <td>0</td>\n",
              "      <td>0</td>\n",
              "      <td>0</td>\n",
              "      <td>0</td>\n",
              "      <td>1</td>\n",
              "    </tr>\n",
              "    <tr>\n",
              "      <th>...</th>\n",
              "      <td>...</td>\n",
              "      <td>...</td>\n",
              "      <td>...</td>\n",
              "      <td>...</td>\n",
              "      <td>...</td>\n",
              "      <td>...</td>\n",
              "      <td>...</td>\n",
              "      <td>...</td>\n",
              "      <td>...</td>\n",
              "      <td>...</td>\n",
              "      <td>...</td>\n",
              "      <td>...</td>\n",
              "      <td>...</td>\n",
              "      <td>...</td>\n",
              "      <td>...</td>\n",
              "      <td>...</td>\n",
              "      <td>...</td>\n",
              "      <td>...</td>\n",
              "      <td>...</td>\n",
              "      <td>...</td>\n",
              "    </tr>\n",
              "    <tr>\n",
              "      <th>14538</th>\n",
              "      <td>3</td>\n",
              "      <td>23</td>\n",
              "      <td>0</td>\n",
              "      <td>0</td>\n",
              "      <td>3</td>\n",
              "      <td>0.89</td>\n",
              "      <td>6</td>\n",
              "      <td>23.02</td>\n",
              "      <td>22.9994</td>\n",
              "      <td>53</td>\n",
              "      <td>70</td>\n",
              "      <td>2012</td>\n",
              "      <td>9</td>\n",
              "      <td>0</td>\n",
              "      <td>0</td>\n",
              "      <td>1</td>\n",
              "      <td>0</td>\n",
              "      <td>0</td>\n",
              "      <td>0</td>\n",
              "      <td>1</td>\n",
              "    </tr>\n",
              "    <tr>\n",
              "      <th>9210</th>\n",
              "      <td>1</td>\n",
              "      <td>16</td>\n",
              "      <td>0</td>\n",
              "      <td>1</td>\n",
              "      <td>1</td>\n",
              "      <td>0.71</td>\n",
              "      <td>9</td>\n",
              "      <td>10.80</td>\n",
              "      <td>11.0006</td>\n",
              "      <td>35</td>\n",
              "      <td>243</td>\n",
              "      <td>2012</td>\n",
              "      <td>1</td>\n",
              "      <td>0</td>\n",
              "      <td>0</td>\n",
              "      <td>0</td>\n",
              "      <td>0</td>\n",
              "      <td>1</td>\n",
              "      <td>0</td>\n",
              "      <td>1</td>\n",
              "    </tr>\n",
              "    <tr>\n",
              "      <th>1436</th>\n",
              "      <td>1</td>\n",
              "      <td>3</td>\n",
              "      <td>0</td>\n",
              "      <td>0</td>\n",
              "      <td>2</td>\n",
              "      <td>0.87</td>\n",
              "      <td>13</td>\n",
              "      <td>6.10</td>\n",
              "      <td>3.0014</td>\n",
              "      <td>0</td>\n",
              "      <td>2</td>\n",
              "      <td>2011</td>\n",
              "      <td>3</td>\n",
              "      <td>0</td>\n",
              "      <td>1</td>\n",
              "      <td>0</td>\n",
              "      <td>0</td>\n",
              "      <td>0</td>\n",
              "      <td>0</td>\n",
              "      <td>0</td>\n",
              "    </tr>\n",
              "    <tr>\n",
              "      <th>177</th>\n",
              "      <td>1</td>\n",
              "      <td>16</td>\n",
              "      <td>0</td>\n",
              "      <td>0</td>\n",
              "      <td>1</td>\n",
              "      <td>0.29</td>\n",
              "      <td>30</td>\n",
              "      <td>0.46</td>\n",
              "      <td>-6.9976</td>\n",
              "      <td>8</td>\n",
              "      <td>68</td>\n",
              "      <td>2011</td>\n",
              "      <td>1</td>\n",
              "      <td>0</td>\n",
              "      <td>1</td>\n",
              "      <td>0</td>\n",
              "      <td>0</td>\n",
              "      <td>0</td>\n",
              "      <td>0</td>\n",
              "      <td>0</td>\n",
              "    </tr>\n",
              "    <tr>\n",
              "      <th>4146</th>\n",
              "      <td>3</td>\n",
              "      <td>16</td>\n",
              "      <td>0</td>\n",
              "      <td>0</td>\n",
              "      <td>1</td>\n",
              "      <td>0.42</td>\n",
              "      <td>13</td>\n",
              "      <td>26.78</td>\n",
              "      <td>28.0022</td>\n",
              "      <td>177</td>\n",
              "      <td>278</td>\n",
              "      <td>2011</td>\n",
              "      <td>6</td>\n",
              "      <td>0</td>\n",
              "      <td>0</td>\n",
              "      <td>1</td>\n",
              "      <td>0</td>\n",
              "      <td>0</td>\n",
              "      <td>0</td>\n",
              "      <td>0</td>\n",
              "    </tr>\n",
              "  </tbody>\n",
              "</table>\n",
              "<p>13903 rows × 20 columns</p>\n",
              "</div>"
            ],
            "text/plain": [
              "       season  hr  holiday  ...  Tuesday  Wednesday  year_encoded\n",
              "3439        2   5        0  ...        0          0             0\n",
              "6542        4   4        0  ...        0          1             0\n",
              "15470       4  19        0  ...        0          0             1\n",
              "9851        1  11        1  ...        0          0             1\n",
              "12640       2  21        0  ...        0          0             1\n",
              "...       ...  ..      ...  ...      ...        ...           ...\n",
              "14538       3  23        0  ...        0          0             1\n",
              "9210        1  16        0  ...        1          0             1\n",
              "1436        1   3        0  ...        0          0             0\n",
              "177         1  16        0  ...        0          0             0\n",
              "4146        3  16        0  ...        0          0             0\n",
              "\n",
              "[13903 rows x 20 columns]"
            ]
          },
          "metadata": {
            "tags": []
          },
          "execution_count": 81
        }
      ]
    },
    {
      "cell_type": "markdown",
      "metadata": {
        "id": "mGq7uuEJU-LQ"
      },
      "source": [
        "### Linear regression"
      ]
    },
    {
      "cell_type": "markdown",
      "metadata": {
        "id": "ICq5dWoFllKG"
      },
      "source": [
        "Before building a DNN model, start with a linear regression.\n",
        "\n"
      ]
    },
    {
      "cell_type": "markdown",
      "metadata": {
        "id": "oGjYYRtlk2NG"
      },
      "source": [
        "#### One Variable"
      ]
    },
    {
      "cell_type": "markdown",
      "metadata": {
        "id": "4L4QtXhIdM7t"
      },
      "source": [
        "Start with a single-variable linear regression, to predict 'target' from 'temp_c'.\n",
        "\n",
        "Training a model with tf.keras typically starts by defining the model architecture.\n",
        "\n",
        "In this case use a keras.Sequential model. This model represents a sequence of steps. In this case there are two steps:\n",
        "\n",
        "* Normalize the input temp_c.\n",
        "* Apply a linear transformation (y=mx+b) to produce 1 output using layers.Dense.\n",
        "The number of inputs can either be set by the input_shape argument, or automatically when the model is run for the first time.\n",
        "\n",
        "First create the 'temp_c' Normalization layer:"
      ]
    },
    {
      "cell_type": "code",
      "metadata": {
        "id": "oU0MgJiZfOTy"
      },
      "source": [
        "temp_c = np.array(train_features['temp_c'])\n",
        "\n",
        "temp_c_normalizer = tf.keras.layers.experimental.preprocessing.Normalization(input_shape=[1,])\n",
        "temp_c_normalizer.adapt(temp_c)"
      ],
      "execution_count": null,
      "outputs": []
    },
    {
      "cell_type": "markdown",
      "metadata": {
        "id": "FKIhQByTfj02"
      },
      "source": [
        "Build the sequential model:"
      ]
    },
    {
      "cell_type": "code",
      "metadata": {
        "id": "Rju34WIxflxI",
        "colab": {
          "base_uri": "https://localhost:8080/"
        },
        "outputId": "fccd1b42-da58-4981-83d1-8468b734f97b"
      },
      "source": [
        "temp_c_model = tf.keras.Sequential([\n",
        "    temp_c_normalizer,\n",
        "    layers.Dense(units=1)\n",
        "])\n",
        "\n",
        "temp_c_model.summary()"
      ],
      "execution_count": null,
      "outputs": [
        {
          "output_type": "stream",
          "text": [
            "Model: \"sequential_2\"\n",
            "_________________________________________________________________\n",
            "Layer (type)                 Output Shape              Param #   \n",
            "=================================================================\n",
            "normalization_2 (Normalizati (None, 1)                 3         \n",
            "_________________________________________________________________\n",
            "dense_2 (Dense)              (None, 1)                 2         \n",
            "=================================================================\n",
            "Total params: 5\n",
            "Trainable params: 2\n",
            "Non-trainable params: 3\n",
            "_________________________________________________________________\n"
          ],
          "name": "stdout"
        }
      ]
    },
    {
      "cell_type": "markdown",
      "metadata": {
        "id": "SMcGS859ftE-"
      },
      "source": [
        "This model will predict 'target' from 'temp_c'.\n",
        "\n",
        "Run the untrained model on the first 10 'temp_c' values. The output won't be good, but you'll see that it has the expected shape, (10,1):"
      ]
    },
    {
      "cell_type": "code",
      "metadata": {
        "id": "hrEl2Qt0f1Ez",
        "colab": {
          "base_uri": "https://localhost:8080/"
        },
        "outputId": "851a5e78-09a5-4d61-f44e-4a4c7464cfae"
      },
      "source": [
        "temp_c_model.predict(temp_c[:10])"
      ],
      "execution_count": null,
      "outputs": [
        {
          "output_type": "execute_result",
          "data": {
            "text/plain": [
              "array([[ 0.496],\n",
              "       [-0.445],\n",
              "       [-0.445],\n",
              "       [-1.857],\n",
              "       [ 1.281],\n",
              "       [-1.23 ],\n",
              "       [-1.544],\n",
              "       [ 1.595],\n",
              "       [ 0.026],\n",
              "       [-1.23 ]], dtype=float32)"
            ]
          },
          "metadata": {
            "tags": []
          },
          "execution_count": 66
        }
      ]
    },
    {
      "cell_type": "markdown",
      "metadata": {
        "id": "ss4E5Bp6gEhH"
      },
      "source": [
        "Once the model is built, configure the training procedure using the Model.compile() method. The most important arguments to compile are the loss and the optimizer since these define what will be optimized (mean_absolute_error) and how (using the optimizers.Adam)."
      ]
    },
    {
      "cell_type": "code",
      "metadata": {
        "id": "BfRsgEs1gLHd"
      },
      "source": [
        "temp_c_model.compile(\n",
        "    optimizer=tf.optimizers.Adam(learning_rate=0.1),\n",
        "    loss='mean_absolute_error')"
      ],
      "execution_count": null,
      "outputs": []
    },
    {
      "cell_type": "markdown",
      "metadata": {
        "id": "fTpEkxFvgPXl"
      },
      "source": [
        "Once the training is configured, use Model.fit() to execute the training:"
      ]
    },
    {
      "cell_type": "code",
      "metadata": {
        "id": "mi7148ApgRj_",
        "colab": {
          "base_uri": "https://localhost:8080/"
        },
        "outputId": "efa8c07c-b5e2-43d9-e820-6340fdf02e90"
      },
      "source": [
        "%%time\n",
        "history = temp_c_model.fit(\n",
        "    train_features['temp_c'], train_labels,\n",
        "    epochs=100,\n",
        "    # suppress logging\n",
        "    verbose=0,\n",
        "    # Calculate validation results on 20% of the training data\n",
        "    validation_split = 0.2)"
      ],
      "execution_count": null,
      "outputs": [
        {
          "output_type": "stream",
          "text": [
            "CPU times: user 30.2 s, sys: 3.03 s, total: 33.2 s\n",
            "Wall time: 24.8 s\n"
          ],
          "name": "stdout"
        }
      ]
    },
    {
      "cell_type": "markdown",
      "metadata": {
        "id": "55_4nrqOgZgd"
      },
      "source": [
        "Visualize the model's training progress using the stats stored in the history object."
      ]
    },
    {
      "cell_type": "code",
      "metadata": {
        "id": "sKj89AwpgdKG",
        "colab": {
          "base_uri": "https://localhost:8080/",
          "height": 194
        },
        "outputId": "60e7054c-648e-49ff-a46b-1df8e1137e9d"
      },
      "source": [
        "hist = pd.DataFrame(history.history)\n",
        "hist['epoch'] = history.epoch\n",
        "hist.tail()"
      ],
      "execution_count": null,
      "outputs": [
        {
          "output_type": "execute_result",
          "data": {
            "text/html": [
              "<div>\n",
              "<style scoped>\n",
              "    .dataframe tbody tr th:only-of-type {\n",
              "        vertical-align: middle;\n",
              "    }\n",
              "\n",
              "    .dataframe tbody tr th {\n",
              "        vertical-align: top;\n",
              "    }\n",
              "\n",
              "    .dataframe thead th {\n",
              "        text-align: right;\n",
              "    }\n",
              "</style>\n",
              "<table border=\"1\" class=\"dataframe\">\n",
              "  <thead>\n",
              "    <tr style=\"text-align: right;\">\n",
              "      <th></th>\n",
              "      <th>loss</th>\n",
              "      <th>val_loss</th>\n",
              "      <th>epoch</th>\n",
              "    </tr>\n",
              "  </thead>\n",
              "  <tbody>\n",
              "    <tr>\n",
              "      <th>95</th>\n",
              "      <td>121.612267</td>\n",
              "      <td>125.838966</td>\n",
              "      <td>95</td>\n",
              "    </tr>\n",
              "    <tr>\n",
              "      <th>96</th>\n",
              "      <td>121.610527</td>\n",
              "      <td>125.837524</td>\n",
              "      <td>96</td>\n",
              "    </tr>\n",
              "    <tr>\n",
              "      <th>97</th>\n",
              "      <td>121.615456</td>\n",
              "      <td>125.836266</td>\n",
              "      <td>97</td>\n",
              "    </tr>\n",
              "    <tr>\n",
              "      <th>98</th>\n",
              "      <td>121.615372</td>\n",
              "      <td>125.841850</td>\n",
              "      <td>98</td>\n",
              "    </tr>\n",
              "    <tr>\n",
              "      <th>99</th>\n",
              "      <td>121.614693</td>\n",
              "      <td>125.843376</td>\n",
              "      <td>99</td>\n",
              "    </tr>\n",
              "  </tbody>\n",
              "</table>\n",
              "</div>"
            ],
            "text/plain": [
              "          loss    val_loss  epoch\n",
              "95  121.612267  125.838966     95\n",
              "96  121.610527  125.837524     96\n",
              "97  121.615456  125.836266     97\n",
              "98  121.615372  125.841850     98\n",
              "99  121.614693  125.843376     99"
            ]
          },
          "metadata": {
            "tags": []
          },
          "execution_count": 69
        }
      ]
    },
    {
      "cell_type": "code",
      "metadata": {
        "id": "QL9TJTltgkQA"
      },
      "source": [
        "def plot_loss(history):\n",
        "  plt.plot(history.history['loss'], label='loss')\n",
        "  plt.plot(history.history['val_loss'], label='val_loss')\n",
        "  #plt.ylim([0, 10])\n",
        "  plt.xlabel('Epoch')\n",
        "  plt.ylabel('Error [temp_c]')\n",
        "  plt.legend()\n",
        "  plt.grid(True)"
      ],
      "execution_count": null,
      "outputs": []
    },
    {
      "cell_type": "code",
      "metadata": {
        "id": "0XvR8vBHgnvY",
        "colab": {
          "base_uri": "https://localhost:8080/",
          "height": 279
        },
        "outputId": "8dbfa9e1-7990-42ba-843c-9506958c6bf0"
      },
      "source": [
        "plot_loss(history)"
      ],
      "execution_count": null,
      "outputs": [
        {
          "output_type": "display_data",
          "data": {
            "image/png": "[encoded data removed]",
            "text/plain": [
              "<Figure size 432x288 with 1 Axes>"
            ]
          },
          "metadata": {
            "tags": [],
            "needs_background": "light"
          }
        }
      ]
    },
    {
      "cell_type": "markdown",
      "metadata": {
        "id": "MQ-pzn2Sg0MK"
      },
      "source": [
        "Collect the results on the test set, for later:"
      ]
    },
    {
      "cell_type": "code",
      "metadata": {
        "id": "ibj9anmGg2X2"
      },
      "source": [
        "test_results = {}\n",
        "\n",
        "test_results['temp_c_model'] = temp_c_model.evaluate(\n",
        "    test_features['temp_c'],\n",
        "    test_labels, verbose=0)"
      ],
      "execution_count": null,
      "outputs": []
    },
    {
      "cell_type": "markdown",
      "metadata": {
        "id": "MbvO6Nu0hWey"
      },
      "source": [
        "SInce this is a single variable regression it's easy to look at the model's predictions as a function of the input:"
      ]
    },
    {
      "cell_type": "code",
      "metadata": {
        "id": "xpezmGD3haBl"
      },
      "source": [
        "x = tf.linspace(0.0, 250, 251)\n",
        "y = temp_c_model.predict(x)"
      ],
      "execution_count": null,
      "outputs": []
    },
    {
      "cell_type": "code",
      "metadata": {
        "id": "dWioQmZ6hxEa"
      },
      "source": [
        "def plot_temp_c(x, y):\n",
        "  plt.scatter(train_features['temp_c'], train_labels, label='Data')\n",
        "  plt.plot(x, y, color='k', label='Predictions')\n",
        "  plt.xlabel('temp_c')\n",
        "  plt.ylabel('target')\n",
        "  plt.legend()"
      ],
      "execution_count": null,
      "outputs": []
    },
    {
      "cell_type": "code",
      "metadata": {
        "id": "ll-zSO3Rh56U",
        "colab": {
          "base_uri": "https://localhost:8080/",
          "height": 280
        },
        "outputId": "6cded293-3840-4d09-dcc1-5401eccbf5ca"
      },
      "source": [
        "plot_temp_c(x,y)"
      ],
      "execution_count": null,
      "outputs": [
        {
          "output_type": "display_data",
          "data": {
            "image/png": "[encoded data removed]",
            "text/plain": [
              "<Figure size 432x288 with 1 Axes>"
            ]
          },
          "metadata": {
            "tags": [],
            "needs_background": "light"
          }
        }
      ]
    },
    {
      "cell_type": "markdown",
      "metadata": {
        "id": "O2eZeDqmlpCw"
      },
      "source": [
        "#### Multiple inputs"
      ]
    },
    {
      "cell_type": "markdown",
      "metadata": {
        "id": "stg5n3wcluhI"
      },
      "source": [
        "You can use an almost identical setup to make predictions based on multiple inputs. This model still does the same  except that  is a matrix and  is a vector.\n",
        "\n",
        "This time use the Normalization layer that was adapted to the whole dataset."
      ]
    },
    {
      "cell_type": "code",
      "metadata": {
        "id": "zTvLPlD6lzfc"
      },
      "source": [
        "linear_model = tf.keras.Sequential([\n",
        "    normalizer,\n",
        "    layers.Dense(units=1)\n",
        "])"
      ],
      "execution_count": null,
      "outputs": []
    },
    {
      "cell_type": "markdown",
      "metadata": {
        "id": "FEMdbeQDl7fi"
      },
      "source": [
        "When you call this model on a batch of inputs, it produces units=1 outputs for each example."
      ]
    },
    {
      "cell_type": "code",
      "metadata": {
        "id": "WFaZ3MHLl9Q_",
        "colab": {
          "base_uri": "https://localhost:8080/"
        },
        "outputId": "5583ec9c-c525-4812-8715-41fd5f49c635"
      },
      "source": [
        "linear_model.predict(train_features[:10])"
      ],
      "execution_count": null,
      "outputs": [
        {
          "output_type": "execute_result",
          "data": {
            "text/plain": [
              "array([[-0.672],\n",
              "       [ 1.22 ],\n",
              "       [-1.07 ],\n",
              "       [-0.262],\n",
              "       [-0.74 ],\n",
              "       [-0.046],\n",
              "       [ 0.912],\n",
              "       [-0.283],\n",
              "       [-1.183],\n",
              "       [ 0.721]], dtype=float32)"
            ]
          },
          "metadata": {
            "tags": []
          },
          "execution_count": 83
        }
      ]
    },
    {
      "cell_type": "markdown",
      "metadata": {
        "id": "YsNIQdS6mbPR"
      },
      "source": [
        "When you call the model it's weight matrices will be built. Now you can see that the kernel (the m in y=mx+b) has a shape of (20,1)."
      ]
    },
    {
      "cell_type": "code",
      "metadata": {
        "id": "1M0SX5g4mXCB",
        "colab": {
          "base_uri": "https://localhost:8080/"
        },
        "outputId": "259a45f7-1283-4746-8bd6-03fdfb65f3e2"
      },
      "source": [
        "linear_model.layers[1].kernel"
      ],
      "execution_count": null,
      "outputs": [
        {
          "output_type": "execute_result",
          "data": {
            "text/plain": [
              "<tf.Variable 'dense_3/kernel:0' shape=(20, 1) dtype=float32, numpy=\n",
              "array([[ 0.495],\n",
              "       [ 0.027],\n",
              "       [ 0.279],\n",
              "       [-0.175],\n",
              "       [ 0.282],\n",
              "       [-0.165],\n",
              "       [-0.238],\n",
              "       [ 0.036],\n",
              "       [ 0.153],\n",
              "       [-0.095],\n",
              "       [-0.033],\n",
              "       [-0.175],\n",
              "       [-0.476],\n",
              "       [-0.291],\n",
              "       [-0.293],\n",
              "       [ 0.347],\n",
              "       [-0.107],\n",
              "       [ 0.418],\n",
              "       [ 0.315],\n",
              "       [-0.273]], dtype=float32)>"
            ]
          },
          "metadata": {
            "tags": []
          },
          "execution_count": 84
        }
      ]
    },
    {
      "cell_type": "markdown",
      "metadata": {
        "id": "FBdpBra0m0CS"
      },
      "source": [
        "Use the same compile and fit calls as for the single input horsepower model:"
      ]
    },
    {
      "cell_type": "code",
      "metadata": {
        "id": "IHS4BozInCm6"
      },
      "source": [
        "linear_model.compile(\n",
        "    optimizer=tf.optimizers.Adam(learning_rate=0.1),\n",
        "    loss='mean_absolute_error')"
      ],
      "execution_count": null,
      "outputs": []
    },
    {
      "cell_type": "code",
      "metadata": {
        "id": "qZWPBzjSnGE5",
        "colab": {
          "base_uri": "https://localhost:8080/"
        },
        "outputId": "02799385-1fd0-4708-874a-738d5b01a405"
      },
      "source": [
        "%%time\n",
        "history = linear_model.fit(\n",
        "    train_features, train_labels, \n",
        "    epochs=100,\n",
        "    # suppress logging\n",
        "    verbose=0,\n",
        "    # Calculate validation results on 20% of the training data\n",
        "    validation_split = 0.2)"
      ],
      "execution_count": null,
      "outputs": [
        {
          "output_type": "stream",
          "text": [
            "CPU times: user 33.9 s, sys: 3.25 s, total: 37.1 s\n",
            "Wall time: 27.3 s\n"
          ],
          "name": "stdout"
        }
      ]
    },
    {
      "cell_type": "markdown",
      "metadata": {
        "id": "uo_Lr07jnWhj"
      },
      "source": [
        "Using all the inputs achieves a much lower training and validation error than the temp_c model:"
      ]
    },
    {
      "cell_type": "code",
      "metadata": {
        "id": "bjsV9kr3nZqc",
        "colab": {
          "base_uri": "https://localhost:8080/",
          "height": 279
        },
        "outputId": "0cad7390-83a2-4372-ee28-9fbcc7e40353"
      },
      "source": [
        "plot_loss(history)"
      ],
      "execution_count": null,
      "outputs": [
        {
          "output_type": "display_data",
          "data": {
            "image/png": "[encoded data removed]",
            "text/plain": [
              "<Figure size 432x288 with 1 Axes>"
            ]
          },
          "metadata": {
            "tags": [],
            "needs_background": "light"
          }
        }
      ]
    },
    {
      "cell_type": "markdown",
      "metadata": {
        "id": "bqJ-H8trnee4"
      },
      "source": [
        "Collect the results on the test set, for later:"
      ]
    },
    {
      "cell_type": "code",
      "metadata": {
        "id": "53c_gLL7ngze"
      },
      "source": [
        "test_results['linear_model'] = linear_model.evaluate(\n",
        "    test_features, test_labels, verbose=0)"
      ],
      "execution_count": null,
      "outputs": []
    },
    {
      "cell_type": "markdown",
      "metadata": {
        "id": "06iIS3QXnmbe"
      },
      "source": [
        "### A DNN regression"
      ]
    },
    {
      "cell_type": "markdown",
      "metadata": {
        "id": "GXqYhUf4nwNJ"
      },
      "source": [
        "The previous section implemented linear models for single and multiple inputs.\n",
        "\n",
        "This section implements single-input and multiple-input DNN models. The code is basically the same except the model is expanded to include some \"hidden\" non-linear layers. The name \"hidden\" here just means not directly connected to the inputs or outputs.\n",
        "\n",
        "These models will contain a few more layers than the linear model:\n",
        "\n",
        "The normalization layer.\n",
        "Two hidden, nonlinear, Dense layers using the relu nonlinearity.\n",
        "A linear single-output layer.\n",
        "Both will use the same training procedure so the compile method is included in the build_and_compile_model function below."
      ]
    },
    {
      "cell_type": "code",
      "metadata": {
        "id": "AyeGP_9UoH7a"
      },
      "source": [
        "def build_and_compile_model(norm):\n",
        "  model = keras.Sequential([\n",
        "      norm,\n",
        "      layers.Dense(64, activation='relu'),\n",
        "      layers.Dense(64, activation='relu'),\n",
        "      layers.Dense(1)\n",
        "  ])\n",
        "\n",
        "  model.compile(loss='mean_absolute_error',\n",
        "                optimizer=tf.keras.optimizers.Adam(0.001))\n",
        "  return model"
      ],
      "execution_count": null,
      "outputs": []
    },
    {
      "cell_type": "markdown",
      "metadata": {
        "id": "zIcaIodrqFEW"
      },
      "source": [
        "#### One Variable"
      ]
    },
    {
      "cell_type": "markdown",
      "metadata": {
        "id": "_h8YM4cvoSyB"
      },
      "source": [
        "Start with a DNN model for a single input: \"temp_c\""
      ]
    },
    {
      "cell_type": "code",
      "metadata": {
        "id": "_NvihxeOoWxP"
      },
      "source": [
        "dnn_temp_c_model = build_and_compile_model(temp_c_normalizer)"
      ],
      "execution_count": null,
      "outputs": []
    },
    {
      "cell_type": "markdown",
      "metadata": {
        "id": "v5S79Dw7ogbI"
      },
      "source": [
        "This model has quite a few more trainable parameters than the linear models."
      ]
    },
    {
      "cell_type": "code",
      "metadata": {
        "id": "c_3EqdtioiOj",
        "colab": {
          "base_uri": "https://localhost:8080/"
        },
        "outputId": "fb83f298-8b48-44bf-c7b5-041d7604fa33"
      },
      "source": [
        "dnn_temp_c_model.summary()"
      ],
      "execution_count": null,
      "outputs": [
        {
          "output_type": "stream",
          "text": [
            "Model: \"sequential_4\"\n",
            "_________________________________________________________________\n",
            "Layer (type)                 Output Shape              Param #   \n",
            "=================================================================\n",
            "normalization_2 (Normalizati (None, 1)                 3         \n",
            "_________________________________________________________________\n",
            "dense_4 (Dense)              (None, 64)                128       \n",
            "_________________________________________________________________\n",
            "dense_5 (Dense)              (None, 64)                4160      \n",
            "_________________________________________________________________\n",
            "dense_6 (Dense)              (None, 1)                 65        \n",
            "=================================================================\n",
            "Total params: 4,356\n",
            "Trainable params: 4,353\n",
            "Non-trainable params: 3\n",
            "_________________________________________________________________\n"
          ],
          "name": "stdout"
        }
      ]
    },
    {
      "cell_type": "markdown",
      "metadata": {
        "id": "A6yJHjcNooC_"
      },
      "source": [
        "Train the model:"
      ]
    },
    {
      "cell_type": "code",
      "metadata": {
        "id": "EomRZdARoqdu",
        "colab": {
          "base_uri": "https://localhost:8080/"
        },
        "outputId": "4abbe3b9-801c-45d6-d82c-f44370d8423f"
      },
      "source": [
        "%%time\n",
        "history = dnn_temp_c_model.fit(\n",
        "    train_features['temp_c'], train_labels,\n",
        "    validation_split=0.2,\n",
        "    verbose=0, epochs=100)"
      ],
      "execution_count": null,
      "outputs": [
        {
          "output_type": "stream",
          "text": [
            "CPU times: user 44.2 s, sys: 4.05 s, total: 48.3 s\n",
            "Wall time: 34.1 s\n"
          ],
          "name": "stdout"
        }
      ]
    },
    {
      "cell_type": "code",
      "metadata": {
        "id": "gCRIF1vno3Te"
      },
      "source": [
        "This model does slightly better than the linear-temp_c model."
      ],
      "execution_count": null,
      "outputs": []
    },
    {
      "cell_type": "code",
      "metadata": {
        "id": "RdxZDhl1pCdM",
        "colab": {
          "base_uri": "https://localhost:8080/",
          "height": 279
        },
        "outputId": "95b77774-db7e-4a5a-8e55-ff581e452c11"
      },
      "source": [
        "plot_loss(history)"
      ],
      "execution_count": null,
      "outputs": [
        {
          "output_type": "display_data",
          "data": {
            "image/png": "[encoded data removed]",
            "text/plain": [
              "<Figure size 432x288 with 1 Axes>"
            ]
          },
          "metadata": {
            "tags": [],
            "needs_background": "light"
          }
        }
      ]
    },
    {
      "cell_type": "markdown",
      "metadata": {
        "id": "9ZY7KFE7pKbl"
      },
      "source": [
        "If you plot the predictions as a function of temp_c, you'll see how this model takes advantage of the nonlinearity provided by the hidden layers:"
      ]
    },
    {
      "cell_type": "code",
      "metadata": {
        "id": "_r-yFWYspRWk"
      },
      "source": [
        "x = tf.linspace(0.0, 250, 251)\n",
        "y = dnn_temp_c_model.predict(x)"
      ],
      "execution_count": null,
      "outputs": []
    },
    {
      "cell_type": "code",
      "metadata": {
        "id": "kQR4VPIypmk_",
        "colab": {
          "base_uri": "https://localhost:8080/",
          "height": 280
        },
        "outputId": "732bf613-ff6b-403b-cfe9-e41bec0e20de"
      },
      "source": [
        "plot_temp_c(x, y)"
      ],
      "execution_count": null,
      "outputs": [
        {
          "output_type": "display_data",
          "data": {
            "image/png": "[encoded data removed]",
            "text/plain": [
              "<Figure size 432x288 with 1 Axes>"
            ]
          },
          "metadata": {
            "tags": [],
            "needs_background": "light"
          }
        }
      ]
    },
    {
      "cell_type": "markdown",
      "metadata": {
        "id": "EqxWvcgfp35r"
      },
      "source": [
        "Collect the results on the test set, for later:"
      ]
    },
    {
      "cell_type": "code",
      "metadata": {
        "id": "uMj08v8-p6b6"
      },
      "source": [
        "test_results['dnn_temp_c_model'] = dnn_temp_c_model.evaluate(\n",
        "    test_features['temp_c'], test_labels,\n",
        "    verbose=0)"
      ],
      "execution_count": null,
      "outputs": []
    },
    {
      "cell_type": "markdown",
      "metadata": {
        "id": "EzDvmCNIoM4p"
      },
      "source": [
        "#### Full Model"
      ]
    },
    {
      "cell_type": "markdown",
      "metadata": {
        "id": "Zkk4tLkkqNj5"
      },
      "source": [
        "If you repeat this process using all the inputs it slightly improves the performance on the validation dataset."
      ]
    },
    {
      "cell_type": "code",
      "metadata": {
        "id": "V9eSIpLDqRw1",
        "colab": {
          "base_uri": "https://localhost:8080/"
        },
        "outputId": "1eece8b3-e284-467b-b66f-19b003505856"
      },
      "source": [
        "dnn_model = build_and_compile_model(normalizer)\n",
        "dnn_model.summary()"
      ],
      "execution_count": null,
      "outputs": [
        {
          "output_type": "stream",
          "text": [
            "Model: \"sequential_5\"\n",
            "_________________________________________________________________\n",
            "Layer (type)                 Output Shape              Param #   \n",
            "=================================================================\n",
            "normalization_3 (Normalizati (None, 20)                41        \n",
            "_________________________________________________________________\n",
            "dense_7 (Dense)              (None, 64)                1344      \n",
            "_________________________________________________________________\n",
            "dense_8 (Dense)              (None, 64)                4160      \n",
            "_________________________________________________________________\n",
            "dense_9 (Dense)              (None, 1)                 65        \n",
            "=================================================================\n",
            "Total params: 5,610\n",
            "Trainable params: 5,569\n",
            "Non-trainable params: 41\n",
            "_________________________________________________________________\n"
          ],
          "name": "stdout"
        }
      ]
    },
    {
      "cell_type": "code",
      "metadata": {
        "id": "7V73E9WEqVQn",
        "colab": {
          "base_uri": "https://localhost:8080/"
        },
        "outputId": "4978641d-4107-4e22-81dc-abeb1a5ed919"
      },
      "source": [
        "%%time\n",
        "history = dnn_model.fit(\n",
        "    train_features, train_labels,\n",
        "    validation_split=0.2,\n",
        "    verbose=0, epochs=100)"
      ],
      "execution_count": null,
      "outputs": [
        {
          "output_type": "stream",
          "text": [
            "CPU times: user 47.6 s, sys: 4.54 s, total: 52.2 s\n",
            "Wall time: 36.2 s\n"
          ],
          "name": "stdout"
        }
      ]
    },
    {
      "cell_type": "code",
      "metadata": {
        "id": "_wK6V8VwqZKF",
        "colab": {
          "base_uri": "https://localhost:8080/",
          "height": 279
        },
        "outputId": "8eec88b3-be00-455c-d119-5e3d623656a2"
      },
      "source": [
        "plot_loss(history)"
      ],
      "execution_count": null,
      "outputs": [
        {
          "output_type": "display_data",
          "data": {
            "image/png": "[encoded data removed]",
            "text/plain": [
              "<Figure size 432x288 with 1 Axes>"
            ]
          },
          "metadata": {
            "tags": [],
            "needs_background": "light"
          }
        }
      ]
    },
    {
      "cell_type": "markdown",
      "metadata": {
        "id": "rHB7neC4qcHV"
      },
      "source": [
        "Collect the results on the test set:"
      ]
    },
    {
      "cell_type": "code",
      "metadata": {
        "id": "anrY0thKqeuf"
      },
      "source": [
        "test_results['dnn_model'] = dnn_model.evaluate(test_features, test_labels, verbose=0)"
      ],
      "execution_count": null,
      "outputs": []
    },
    {
      "cell_type": "markdown",
      "metadata": {
        "id": "9axLZOcRqx6A"
      },
      "source": [
        "### Performance"
      ]
    },
    {
      "cell_type": "markdown",
      "metadata": {
        "id": "652h4yiHq3X6"
      },
      "source": [
        "Now that all the models are trained check the test-set performance and see how they did:"
      ]
    },
    {
      "cell_type": "code",
      "metadata": {
        "id": "HkaEdP67q6oI",
        "colab": {
          "base_uri": "https://localhost:8080/",
          "height": 164
        },
        "outputId": "1f4c1736-0623-47d9-cbb7-045a4e4ee7fe"
      },
      "source": [
        "pd.DataFrame(test_results, index=['Mean absolute error [MPG]']).T"
      ],
      "execution_count": null,
      "outputs": [
        {
          "output_type": "execute_result",
          "data": {
            "text/html": [
              "<div>\n",
              "<style scoped>\n",
              "    .dataframe tbody tr th:only-of-type {\n",
              "        vertical-align: middle;\n",
              "    }\n",
              "\n",
              "    .dataframe tbody tr th {\n",
              "        vertical-align: top;\n",
              "    }\n",
              "\n",
              "    .dataframe thead th {\n",
              "        text-align: right;\n",
              "    }\n",
              "</style>\n",
              "<table border=\"1\" class=\"dataframe\">\n",
              "  <thead>\n",
              "    <tr style=\"text-align: right;\">\n",
              "      <th></th>\n",
              "      <th>Mean absolute error [MPG]</th>\n",
              "    </tr>\n",
              "  </thead>\n",
              "  <tbody>\n",
              "    <tr>\n",
              "      <th>temp_c_model</th>\n",
              "      <td>120.819336</td>\n",
              "    </tr>\n",
              "    <tr>\n",
              "      <th>linear_model</th>\n",
              "      <td>0.105470</td>\n",
              "    </tr>\n",
              "    <tr>\n",
              "      <th>dnn_temp_c_model</th>\n",
              "      <td>120.599739</td>\n",
              "    </tr>\n",
              "    <tr>\n",
              "      <th>dnn_model</th>\n",
              "      <td>0.802374</td>\n",
              "    </tr>\n",
              "  </tbody>\n",
              "</table>\n",
              "</div>"
            ],
            "text/plain": [
              "                  Mean absolute error [MPG]\n",
              "temp_c_model                     120.819336\n",
              "linear_model                       0.105470\n",
              "dnn_temp_c_model                 120.599739\n",
              "dnn_model                          0.802374"
            ]
          },
          "metadata": {
            "tags": []
          },
          "execution_count": 103
        }
      ]
    },
    {
      "cell_type": "markdown",
      "metadata": {
        "id": "zRtopsPCrCpq"
      },
      "source": [
        "These results match the validation error seen during training."
      ]
    },
    {
      "cell_type": "markdown",
      "metadata": {
        "id": "xug37-1GrDmM"
      },
      "source": [
        "#### Make predictions"
      ]
    },
    {
      "cell_type": "markdown",
      "metadata": {
        "id": "t1TAcC9_rKeE"
      },
      "source": [
        "Finally, predict have a look at the errors made by the model when making predictions on the test set:"
      ]
    },
    {
      "cell_type": "code",
      "metadata": {
        "id": "O-d4kR8_r3nA",
        "colab": {
          "base_uri": "https://localhost:8080/",
          "height": 718
        },
        "outputId": "7486dd4e-b248-4021-b450-5380a2835366"
      },
      "source": [
        "test_predictions = dnn_model.predict(test_features).flatten()\n",
        "\n",
        "plt.figure(figsize=(16, 12))\n",
        "\n",
        "a = plt.axes(aspect='equal')\n",
        "plt.scatter(test_labels, test_predictions)\n",
        "plt.xlabel('True Values [target]')\n",
        "plt.ylabel('Predictions [target]')\n",
        "lims = [0, 50]\n",
        "plt.xlim(lims)\n",
        "plt.ylim(lims)\n",
        "_ = plt.plot(lims, lims)"
      ],
      "execution_count": null,
      "outputs": [
        {
          "output_type": "display_data",
          "data": {
            "image/png": "[encoded data removed]",
            "text/plain": [
              "<Figure size 1152x864 with 1 Axes>"
            ]
          },
          "metadata": {
            "tags": [],
            "needs_background": "light"
          }
        }
      ]
    },
    {
      "cell_type": "markdown",
      "metadata": {
        "id": "R3ibcoM8sitt"
      },
      "source": [
        "It looks like the model predicts reasonably well.\n",
        "\n",
        "Now take a look at the error distribution:"
      ]
    },
    {
      "cell_type": "code",
      "metadata": {
        "id": "aX9Jjl5EspPv",
        "colab": {
          "base_uri": "https://localhost:8080/",
          "height": 279
        },
        "outputId": "e804defa-a11b-48f2-e01f-32462210fd1e"
      },
      "source": [
        "error = test_predictions - test_labels\n",
        "plt.hist(error, bins=25)\n",
        "plt.xlabel('Prediction Error [MPG]')\n",
        "_ = plt.ylabel('Count')"
      ],
      "execution_count": null,
      "outputs": [
        {
          "output_type": "display_data",
          "data": {
            "image/png": "[encoded data removed]",
            "text/plain": [
              "<Figure size 432x288 with 1 Axes>"
            ]
          },
          "metadata": {
            "tags": [],
            "needs_background": "light"
          }
        }
      ]
    },
    {
      "cell_type": "markdown",
      "metadata": {
        "id": "GBasUA3is3PU"
      },
      "source": [
        "If you're happy with the model save it for later use:"
      ]
    },
    {
      "cell_type": "code",
      "metadata": {
        "id": "IvwqPH0hs1ur",
        "colab": {
          "base_uri": "https://localhost:8080/"
        },
        "outputId": "018e23b1-d637-484c-e49c-df30d37a1ff1"
      },
      "source": [
        "dnn_model.save('dnn_model')"
      ],
      "execution_count": null,
      "outputs": [
        {
          "output_type": "stream",
          "text": [
            "WARNING:tensorflow:From /usr/local/lib/python3.6/dist-packages/tensorflow/python/training/tracking/tracking.py:111: Model.state_updates (from tensorflow.python.keras.engine.training) is deprecated and will be removed in a future version.\n",
            "Instructions for updating:\n",
            "This property should not be used in TensorFlow 2.0, as updates are applied automatically.\n",
            "WARNING:tensorflow:From /usr/local/lib/python3.6/dist-packages/tensorflow/python/training/tracking/tracking.py:111: Layer.updates (from tensorflow.python.keras.engine.base_layer) is deprecated and will be removed in a future version.\n",
            "Instructions for updating:\n",
            "This property should not be used in TensorFlow 2.0, as updates are applied automatically.\n",
            "INFO:tensorflow:Assets written to: dnn_model/assets\n"
          ],
          "name": "stdout"
        }
      ]
    },
    {
      "cell_type": "markdown",
      "metadata": {
        "id": "Hkys8JpAJSgg"
      },
      "source": [
        "# **Questions**:"
      ]
    },
    {
      "cell_type": "markdown",
      "metadata": {
        "id": "NkpxXOV0Jisf"
      },
      "source": [
        "\n",
        "\n",
        "*   Why get_dummies doesn't work on month column?\n",
        "\n"
      ]
    },
    {
      "cell_type": "code",
      "metadata": {
        "id": "qw_bduKqJpKT",
        "colab": {
          "base_uri": "https://localhost:8080/",
          "height": 672
        },
        "outputId": "443f7399-791c-421c-a963-adeed95240d9"
      },
      "source": [
        "useful_bikes['month_encoded'] = pd.get_dummies(useful_bikes.month, prefix='', prefix_sep='', drop_first=True)"
      ],
      "execution_count": null,
      "outputs": [
        {
          "output_type": "error",
          "ename": "ValueError",
          "evalue": "ignored",
          "traceback": [
            "\u001b[0;31m---------------------------------------------------------------------------\u001b[0m",
            "\u001b[0;31mKeyError\u001b[0m                                  Traceback (most recent call last)",
            "\u001b[0;32m/usr/local/lib/python3.6/dist-packages/pandas/core/indexes/base.py\u001b[0m in \u001b[0;36mget_loc\u001b[0;34m(self, key, method, tolerance)\u001b[0m\n\u001b[1;32m   2894\u001b[0m             \u001b[0;32mtry\u001b[0m\u001b[0;34m:\u001b[0m\u001b[0;34m\u001b[0m\u001b[0;34m\u001b[0m\u001b[0m\n\u001b[0;32m-> 2895\u001b[0;31m                 \u001b[0;32mreturn\u001b[0m \u001b[0mself\u001b[0m\u001b[0;34m.\u001b[0m\u001b[0m_engine\u001b[0m\u001b[0;34m.\u001b[0m\u001b[0mget_loc\u001b[0m\u001b[0;34m(\u001b[0m\u001b[0mcasted_key\u001b[0m\u001b[0;34m)\u001b[0m\u001b[0;34m\u001b[0m\u001b[0;34m\u001b[0m\u001b[0m\n\u001b[0m\u001b[1;32m   2896\u001b[0m             \u001b[0;32mexcept\u001b[0m \u001b[0mKeyError\u001b[0m \u001b[0;32mas\u001b[0m \u001b[0merr\u001b[0m\u001b[0;34m:\u001b[0m\u001b[0;34m\u001b[0m\u001b[0;34m\u001b[0m\u001b[0m\n",
            "\u001b[0;32mpandas/_libs/index.pyx\u001b[0m in \u001b[0;36mpandas._libs.index.IndexEngine.get_loc\u001b[0;34m()\u001b[0m\n",
            "\u001b[0;32mpandas/_libs/index.pyx\u001b[0m in \u001b[0;36mpandas._libs.index.IndexEngine.get_loc\u001b[0;34m()\u001b[0m\n",
            "\u001b[0;32mpandas/_libs/hashtable_class_helper.pxi\u001b[0m in \u001b[0;36mpandas._libs.hashtable.PyObjectHashTable.get_item\u001b[0;34m()\u001b[0m\n",
            "\u001b[0;32mpandas/_libs/hashtable_class_helper.pxi\u001b[0m in \u001b[0;36mpandas._libs.hashtable.PyObjectHashTable.get_item\u001b[0;34m()\u001b[0m\n",
            "\u001b[0;31mKeyError\u001b[0m: 'month_encoded'",
            "\nThe above exception was the direct cause of the following exception:\n",
            "\u001b[0;31mKeyError\u001b[0m                                  Traceback (most recent call last)",
            "\u001b[0;32m/usr/local/lib/python3.6/dist-packages/pandas/core/generic.py\u001b[0m in \u001b[0;36m_set_item\u001b[0;34m(self, key, value)\u001b[0m\n\u001b[1;32m   3573\u001b[0m         \u001b[0;32mtry\u001b[0m\u001b[0;34m:\u001b[0m\u001b[0;34m\u001b[0m\u001b[0;34m\u001b[0m\u001b[0m\n\u001b[0;32m-> 3574\u001b[0;31m             \u001b[0mloc\u001b[0m \u001b[0;34m=\u001b[0m \u001b[0mself\u001b[0m\u001b[0;34m.\u001b[0m\u001b[0m_info_axis\u001b[0m\u001b[0;34m.\u001b[0m\u001b[0mget_loc\u001b[0m\u001b[0;34m(\u001b[0m\u001b[0mkey\u001b[0m\u001b[0;34m)\u001b[0m\u001b[0;34m\u001b[0m\u001b[0;34m\u001b[0m\u001b[0m\n\u001b[0m\u001b[1;32m   3575\u001b[0m         \u001b[0;32mexcept\u001b[0m \u001b[0mKeyError\u001b[0m\u001b[0;34m:\u001b[0m\u001b[0;34m\u001b[0m\u001b[0;34m\u001b[0m\u001b[0m\n",
            "\u001b[0;32m/usr/local/lib/python3.6/dist-packages/pandas/core/indexes/base.py\u001b[0m in \u001b[0;36mget_loc\u001b[0;34m(self, key, method, tolerance)\u001b[0m\n\u001b[1;32m   2896\u001b[0m             \u001b[0;32mexcept\u001b[0m \u001b[0mKeyError\u001b[0m \u001b[0;32mas\u001b[0m \u001b[0merr\u001b[0m\u001b[0;34m:\u001b[0m\u001b[0;34m\u001b[0m\u001b[0;34m\u001b[0m\u001b[0m\n\u001b[0;32m-> 2897\u001b[0;31m                 \u001b[0;32mraise\u001b[0m \u001b[0mKeyError\u001b[0m\u001b[0;34m(\u001b[0m\u001b[0mkey\u001b[0m\u001b[0;34m)\u001b[0m \u001b[0;32mfrom\u001b[0m \u001b[0merr\u001b[0m\u001b[0;34m\u001b[0m\u001b[0;34m\u001b[0m\u001b[0m\n\u001b[0m\u001b[1;32m   2898\u001b[0m \u001b[0;34m\u001b[0m\u001b[0m\n",
            "\u001b[0;31mKeyError\u001b[0m: 'month_encoded'",
            "\nDuring handling of the above exception, another exception occurred:\n",
            "\u001b[0;31mValueError\u001b[0m                                Traceback (most recent call last)",
            "\u001b[0;32m<ipython-input-297-789a19f19ae5>\u001b[0m in \u001b[0;36m<module>\u001b[0;34m()\u001b[0m\n\u001b[0;32m----> 1\u001b[0;31m \u001b[0museful_bikes\u001b[0m\u001b[0;34m[\u001b[0m\u001b[0;34m'month_encoded'\u001b[0m\u001b[0;34m]\u001b[0m \u001b[0;34m=\u001b[0m \u001b[0mpd\u001b[0m\u001b[0;34m.\u001b[0m\u001b[0mget_dummies\u001b[0m\u001b[0;34m(\u001b[0m\u001b[0museful_bikes\u001b[0m\u001b[0;34m.\u001b[0m\u001b[0mmonth\u001b[0m\u001b[0;34m,\u001b[0m \u001b[0mprefix\u001b[0m\u001b[0;34m=\u001b[0m\u001b[0;34m''\u001b[0m\u001b[0;34m,\u001b[0m \u001b[0mprefix_sep\u001b[0m\u001b[0;34m=\u001b[0m\u001b[0;34m''\u001b[0m\u001b[0;34m,\u001b[0m \u001b[0mdrop_first\u001b[0m\u001b[0;34m=\u001b[0m\u001b[0;32mTrue\u001b[0m\u001b[0;34m)\u001b[0m\u001b[0;34m\u001b[0m\u001b[0;34m\u001b[0m\u001b[0m\n\u001b[0m",
            "\u001b[0;32m/usr/local/lib/python3.6/dist-packages/pandas/core/frame.py\u001b[0m in \u001b[0;36m__setitem__\u001b[0;34m(self, key, value)\u001b[0m\n\u001b[1;32m   3042\u001b[0m         \u001b[0;32melse\u001b[0m\u001b[0;34m:\u001b[0m\u001b[0;34m\u001b[0m\u001b[0;34m\u001b[0m\u001b[0m\n\u001b[1;32m   3043\u001b[0m             \u001b[0;31m# set column\u001b[0m\u001b[0;34m\u001b[0m\u001b[0;34m\u001b[0m\u001b[0;34m\u001b[0m\u001b[0m\n\u001b[0;32m-> 3044\u001b[0;31m             \u001b[0mself\u001b[0m\u001b[0;34m.\u001b[0m\u001b[0m_set_item\u001b[0m\u001b[0;34m(\u001b[0m\u001b[0mkey\u001b[0m\u001b[0;34m,\u001b[0m \u001b[0mvalue\u001b[0m\u001b[0;34m)\u001b[0m\u001b[0;34m\u001b[0m\u001b[0;34m\u001b[0m\u001b[0m\n\u001b[0m\u001b[1;32m   3045\u001b[0m \u001b[0;34m\u001b[0m\u001b[0m\n\u001b[1;32m   3046\u001b[0m     \u001b[0;32mdef\u001b[0m \u001b[0m_setitem_slice\u001b[0m\u001b[0;34m(\u001b[0m\u001b[0mself\u001b[0m\u001b[0;34m,\u001b[0m \u001b[0mkey\u001b[0m\u001b[0;34m:\u001b[0m \u001b[0mslice\u001b[0m\u001b[0;34m,\u001b[0m \u001b[0mvalue\u001b[0m\u001b[0;34m)\u001b[0m\u001b[0;34m:\u001b[0m\u001b[0;34m\u001b[0m\u001b[0;34m\u001b[0m\u001b[0m\n",
            "\u001b[0;32m/usr/local/lib/python3.6/dist-packages/pandas/core/frame.py\u001b[0m in \u001b[0;36m_set_item\u001b[0;34m(self, key, value)\u001b[0m\n\u001b[1;32m   3119\u001b[0m         \u001b[0mself\u001b[0m\u001b[0;34m.\u001b[0m\u001b[0m_ensure_valid_index\u001b[0m\u001b[0;34m(\u001b[0m\u001b[0mvalue\u001b[0m\u001b[0;34m)\u001b[0m\u001b[0;34m\u001b[0m\u001b[0;34m\u001b[0m\u001b[0m\n\u001b[1;32m   3120\u001b[0m         \u001b[0mvalue\u001b[0m \u001b[0;34m=\u001b[0m \u001b[0mself\u001b[0m\u001b[0;34m.\u001b[0m\u001b[0m_sanitize_column\u001b[0m\u001b[0;34m(\u001b[0m\u001b[0mkey\u001b[0m\u001b[0;34m,\u001b[0m \u001b[0mvalue\u001b[0m\u001b[0;34m)\u001b[0m\u001b[0;34m\u001b[0m\u001b[0;34m\u001b[0m\u001b[0m\n\u001b[0;32m-> 3121\u001b[0;31m         \u001b[0mNDFrame\u001b[0m\u001b[0;34m.\u001b[0m\u001b[0m_set_item\u001b[0m\u001b[0;34m(\u001b[0m\u001b[0mself\u001b[0m\u001b[0;34m,\u001b[0m \u001b[0mkey\u001b[0m\u001b[0;34m,\u001b[0m \u001b[0mvalue\u001b[0m\u001b[0;34m)\u001b[0m\u001b[0;34m\u001b[0m\u001b[0;34m\u001b[0m\u001b[0m\n\u001b[0m\u001b[1;32m   3122\u001b[0m \u001b[0;34m\u001b[0m\u001b[0m\n\u001b[1;32m   3123\u001b[0m         \u001b[0;31m# check if we are modifying a copy\u001b[0m\u001b[0;34m\u001b[0m\u001b[0;34m\u001b[0m\u001b[0;34m\u001b[0m\u001b[0m\n",
            "\u001b[0;32m/usr/local/lib/python3.6/dist-packages/pandas/core/generic.py\u001b[0m in \u001b[0;36m_set_item\u001b[0;34m(self, key, value)\u001b[0m\n\u001b[1;32m   3575\u001b[0m         \u001b[0;32mexcept\u001b[0m \u001b[0mKeyError\u001b[0m\u001b[0;34m:\u001b[0m\u001b[0;34m\u001b[0m\u001b[0;34m\u001b[0m\u001b[0m\n\u001b[1;32m   3576\u001b[0m             \u001b[0;31m# This item wasn't present, just insert at end\u001b[0m\u001b[0;34m\u001b[0m\u001b[0;34m\u001b[0m\u001b[0;34m\u001b[0m\u001b[0m\n\u001b[0;32m-> 3577\u001b[0;31m             \u001b[0mself\u001b[0m\u001b[0;34m.\u001b[0m\u001b[0m_mgr\u001b[0m\u001b[0;34m.\u001b[0m\u001b[0minsert\u001b[0m\u001b[0;34m(\u001b[0m\u001b[0mlen\u001b[0m\u001b[0;34m(\u001b[0m\u001b[0mself\u001b[0m\u001b[0;34m.\u001b[0m\u001b[0m_info_axis\u001b[0m\u001b[0;34m)\u001b[0m\u001b[0;34m,\u001b[0m \u001b[0mkey\u001b[0m\u001b[0;34m,\u001b[0m \u001b[0mvalue\u001b[0m\u001b[0;34m)\u001b[0m\u001b[0;34m\u001b[0m\u001b[0;34m\u001b[0m\u001b[0m\n\u001b[0m\u001b[1;32m   3578\u001b[0m             \u001b[0;32mreturn\u001b[0m\u001b[0;34m\u001b[0m\u001b[0;34m\u001b[0m\u001b[0m\n\u001b[1;32m   3579\u001b[0m \u001b[0;34m\u001b[0m\u001b[0m\n",
            "\u001b[0;32m/usr/local/lib/python3.6/dist-packages/pandas/core/internals/managers.py\u001b[0m in \u001b[0;36minsert\u001b[0;34m(self, loc, item, value, allow_duplicates)\u001b[0m\n\u001b[1;32m   1187\u001b[0m             \u001b[0mvalue\u001b[0m \u001b[0;34m=\u001b[0m \u001b[0m_safe_reshape\u001b[0m\u001b[0;34m(\u001b[0m\u001b[0mvalue\u001b[0m\u001b[0;34m,\u001b[0m \u001b[0;34m(\u001b[0m\u001b[0;36m1\u001b[0m\u001b[0;34m,\u001b[0m\u001b[0;34m)\u001b[0m \u001b[0;34m+\u001b[0m \u001b[0mvalue\u001b[0m\u001b[0;34m.\u001b[0m\u001b[0mshape\u001b[0m\u001b[0;34m)\u001b[0m\u001b[0;34m\u001b[0m\u001b[0;34m\u001b[0m\u001b[0m\n\u001b[1;32m   1188\u001b[0m \u001b[0;34m\u001b[0m\u001b[0m\n\u001b[0;32m-> 1189\u001b[0;31m         \u001b[0mblock\u001b[0m \u001b[0;34m=\u001b[0m \u001b[0mmake_block\u001b[0m\u001b[0;34m(\u001b[0m\u001b[0mvalues\u001b[0m\u001b[0;34m=\u001b[0m\u001b[0mvalue\u001b[0m\u001b[0;34m,\u001b[0m \u001b[0mndim\u001b[0m\u001b[0;34m=\u001b[0m\u001b[0mself\u001b[0m\u001b[0;34m.\u001b[0m\u001b[0mndim\u001b[0m\u001b[0;34m,\u001b[0m \u001b[0mplacement\u001b[0m\u001b[0;34m=\u001b[0m\u001b[0mslice\u001b[0m\u001b[0;34m(\u001b[0m\u001b[0mloc\u001b[0m\u001b[0;34m,\u001b[0m \u001b[0mloc\u001b[0m \u001b[0;34m+\u001b[0m \u001b[0;36m1\u001b[0m\u001b[0;34m)\u001b[0m\u001b[0;34m)\u001b[0m\u001b[0;34m\u001b[0m\u001b[0;34m\u001b[0m\u001b[0m\n\u001b[0m\u001b[1;32m   1190\u001b[0m \u001b[0;34m\u001b[0m\u001b[0m\n\u001b[1;32m   1191\u001b[0m         \u001b[0;32mfor\u001b[0m \u001b[0mblkno\u001b[0m\u001b[0;34m,\u001b[0m \u001b[0mcount\u001b[0m \u001b[0;32min\u001b[0m \u001b[0m_fast_count_smallints\u001b[0m\u001b[0;34m(\u001b[0m\u001b[0mself\u001b[0m\u001b[0;34m.\u001b[0m\u001b[0mblknos\u001b[0m\u001b[0;34m[\u001b[0m\u001b[0mloc\u001b[0m\u001b[0;34m:\u001b[0m\u001b[0;34m]\u001b[0m\u001b[0;34m)\u001b[0m\u001b[0;34m:\u001b[0m\u001b[0;34m\u001b[0m\u001b[0;34m\u001b[0m\u001b[0m\n",
            "\u001b[0;32m/usr/local/lib/python3.6/dist-packages/pandas/core/internals/blocks.py\u001b[0m in \u001b[0;36mmake_block\u001b[0;34m(values, placement, klass, ndim, dtype)\u001b[0m\n\u001b[1;32m   2720\u001b[0m         \u001b[0mvalues\u001b[0m \u001b[0;34m=\u001b[0m \u001b[0mDatetimeArray\u001b[0m\u001b[0;34m.\u001b[0m\u001b[0m_simple_new\u001b[0m\u001b[0;34m(\u001b[0m\u001b[0mvalues\u001b[0m\u001b[0;34m,\u001b[0m \u001b[0mdtype\u001b[0m\u001b[0;34m=\u001b[0m\u001b[0mdtype\u001b[0m\u001b[0;34m)\u001b[0m\u001b[0;34m\u001b[0m\u001b[0;34m\u001b[0m\u001b[0m\n\u001b[1;32m   2721\u001b[0m \u001b[0;34m\u001b[0m\u001b[0m\n\u001b[0;32m-> 2722\u001b[0;31m     \u001b[0;32mreturn\u001b[0m \u001b[0mklass\u001b[0m\u001b[0;34m(\u001b[0m\u001b[0mvalues\u001b[0m\u001b[0;34m,\u001b[0m \u001b[0mndim\u001b[0m\u001b[0;34m=\u001b[0m\u001b[0mndim\u001b[0m\u001b[0;34m,\u001b[0m \u001b[0mplacement\u001b[0m\u001b[0;34m=\u001b[0m\u001b[0mplacement\u001b[0m\u001b[0;34m)\u001b[0m\u001b[0;34m\u001b[0m\u001b[0;34m\u001b[0m\u001b[0m\n\u001b[0m\u001b[1;32m   2723\u001b[0m \u001b[0;34m\u001b[0m\u001b[0m\n\u001b[1;32m   2724\u001b[0m \u001b[0;34m\u001b[0m\u001b[0m\n",
            "\u001b[0;32m/usr/local/lib/python3.6/dist-packages/pandas/core/internals/blocks.py\u001b[0m in \u001b[0;36m__init__\u001b[0;34m(self, values, placement, ndim)\u001b[0m\n\u001b[1;32m    129\u001b[0m         \u001b[0;32mif\u001b[0m \u001b[0mself\u001b[0m\u001b[0;34m.\u001b[0m\u001b[0m_validate_ndim\u001b[0m \u001b[0;32mand\u001b[0m \u001b[0mself\u001b[0m\u001b[0;34m.\u001b[0m\u001b[0mndim\u001b[0m \u001b[0;32mand\u001b[0m \u001b[0mlen\u001b[0m\u001b[0;34m(\u001b[0m\u001b[0mself\u001b[0m\u001b[0;34m.\u001b[0m\u001b[0mmgr_locs\u001b[0m\u001b[0;34m)\u001b[0m \u001b[0;34m!=\u001b[0m \u001b[0mlen\u001b[0m\u001b[0;34m(\u001b[0m\u001b[0mself\u001b[0m\u001b[0;34m.\u001b[0m\u001b[0mvalues\u001b[0m\u001b[0;34m)\u001b[0m\u001b[0;34m:\u001b[0m\u001b[0;34m\u001b[0m\u001b[0;34m\u001b[0m\u001b[0m\n\u001b[1;32m    130\u001b[0m             raise ValueError(\n\u001b[0;32m--> 131\u001b[0;31m                 \u001b[0;34mf\"Wrong number of items passed {len(self.values)}, \"\u001b[0m\u001b[0;34m\u001b[0m\u001b[0;34m\u001b[0m\u001b[0m\n\u001b[0m\u001b[1;32m    132\u001b[0m                 \u001b[0;34mf\"placement implies {len(self.mgr_locs)}\"\u001b[0m\u001b[0;34m\u001b[0m\u001b[0;34m\u001b[0m\u001b[0m\n\u001b[1;32m    133\u001b[0m             )\n",
            "\u001b[0;31mValueError\u001b[0m: Wrong number of items passed 11, placement implies 1"
          ]
        }
      ]
    },
    {
      "cell_type": "markdown",
      "metadata": {
        "id": "ytObJ8jaJvrX"
      },
      "source": [
        "\n",
        "\n",
        "*   Do we need to get dummies for all, year, month, day of week? Or only for vales that are not written as numbers?\n",
        "\n"
      ]
    },
    {
      "cell_type": "markdown",
      "metadata": {
        "id": "4XcXOQHyLr0E"
      },
      "source": [
        "\n",
        "\n",
        "*   What do \n",
        "\n",
        "    \\- casual: count of casual users \n",
        "\n",
        "    \\- registered: count of registered users \n",
        "\n",
        "columns represent? Is that the number of bicycle rentals for a given day?\n",
        "\n",
        "\n",
        "Yes\n"
      ]
    },
    {
      "cell_type": "markdown",
      "metadata": {
        "id": "Se_R9ReIpYa7"
      },
      "source": [
        "\n",
        "\n",
        "*   What does this line of code mean x = tf.linspace(0.0, 250, 251), why 250 and 251?\n",
        "\n"
      ]
    },
    {
      "cell_type": "markdown",
      "metadata": {
        "id": "y5D1fktQstqj"
      },
      "source": [
        "*  What do lims do?\n",
        "\n",
        "\n",
        "test_predictions = dnn_model.predict(test_features).flatten()\n",
        "\n",
        "plt.figure(figsize=(16, 12))\n",
        "\n",
        "a = plt.axes(aspect='equal')\n",
        "plt.scatter(test_labels, test_predictions)\n",
        "plt.xlabel('True Values [target]')\n",
        "plt.ylabel('Predictions [target]')\n",
        "lims = [0, 50]\n",
        "plt.xlim(lims)\n",
        "plt.ylim(lims)\n",
        "_ = plt.plot(lims, lims)"
      ]
    },
    {
      "cell_type": "markdown",
      "metadata": {
        "id": "ndReLveYtBgH"
      },
      "source": [
        "* Does the error need to be normally distributed?"
      ]
    }
  ]
}