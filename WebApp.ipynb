{
  "nbformat": 4,
  "nbformat_minor": 0,
  "metadata": {
    "colab": {
      "name": "WebApp.ipynb",
      "provenance": [],
      "include_colab_link": true
    },
    "kernelspec": {
      "name": "python3",
      "display_name": "Python 3"
    }
  },
  "cells": [
    {
      "cell_type": "markdown",
      "metadata": {
        "id": "view-in-github",
        "colab_type": "text"
      },
      "source": [
        "<a href=\"https://colab.research.google.com/github/CommanderWedgeAntilles/CS450/blob/master/WebApp.ipynb\" target=\"_parent\"><img src=\"https://colab.research.google.com/assets/colab-badge.svg\" alt=\"Open In Colab\"/></a>"
      ]
    },
    {
      "cell_type": "code",
      "metadata": {
        "id": "SsNXrUPzvfOm"
      },
      "source": [
        "import tensorflow as tf\r\n",
        "model = tf.keras.models.load_model('my_model.hdf5')\r\n",
        "\r\n",
        "\r\n",
        "import streamlit as st\r\n",
        "st.write(\"\"\"\r\n",
        "         # German Street Road Sign Prediction\r\n",
        "         \"\"\"\r\n",
        "         )\r\n",
        "st.write(\"This is a simple image classification web app to classify the road signs\")\r\n",
        "file = st.file_uploader(\"Please upload an image file\", type=[\"jpg\", \"png\"])\r\n",
        "\r\n",
        "\r\n",
        "import cv2\r\n",
        "from PIL import Image, ImageOps\r\n",
        "import numpy as np\r\n",
        "def import_and_predict(image_data, model):\r\n",
        "    \r\n",
        "        size = (100,100)    \r\n",
        "        image = ImageOps.fit(image_data, size, Image.ANTIALIAS)\r\n",
        "        image = np.asarray(image)\r\n",
        "        img = cv2.cvtColor(image, cv2.COLOR_BGR2RGB)\r\n",
        "        img_resize = (cv2.resize(img, dsize=(100, 100),    interpolation=cv2.INTER_CUBIC))/255.\r\n",
        "        \r\n",
        "        img_reshape = img_resize[np.newaxis,...]\r\n",
        "    \r\n",
        "        prediction = model.predict(img_reshape)\r\n",
        "        \r\n",
        "        return prediction\r\n",
        "if file is None:\r\n",
        "    st.text(\"Please upload an image file\")\r\n",
        "else:\r\n",
        "    image = Image.open(file)\r\n",
        "    st.image(image, use_column_width=True)\r\n",
        "    prediction = import_and_predict(image, model)\r\n",
        "    \r\n",
        "\r\n",
        "\r\n",
        "    score = tf.nn.softmax(prediction) \r\n",
        "    st.write(\"The sign corresponds to\", np.argmax(prediction), \"ClassId.\")\r\n",
        "\r\n",
        "    st.write(\"Confidence:\",  round(100 * np.max(score), 1), \"%\")\r\n"
      ],
      "execution_count": null,
      "outputs": []
    }
  ]
}