{
  "nbformat": 4,
  "nbformat_minor": 0,
  "metadata": {
    "colab": {
      "name": "Untitled0.ipynb",
      "provenance": [],
      "authorship_tag": "ABX9TyOi0d2YzzFOI20RONvgB4Pv",
      "include_colab_link": true
    },
    "kernelspec": {
      "name": "python3",
      "display_name": "Python 3"
    }
  },
  "cells": [
    {
      "cell_type": "markdown",
      "metadata": {
        "id": "view-in-github",
        "colab_type": "text"
      },
      "source": [
        "<a href=\"https://colab.research.google.com/github/CommanderWedgeAntilles/CS450/blob/master/Week01.ipynb\" target=\"_parent\"><img src=\"https://colab.research.google.com/assets/colab-badge.svg\" alt=\"Open In Colab\"/></a>"
      ]
    },
    {
      "cell_type": "code",
      "metadata": {
        "id": "Y2Dn0Crerag6",
        "colab_type": "code",
        "colab": {}
      },
      "source": [
        "\n",
        "#load the data\n",
        "import pandas as pd\n",
        "url = \"https://byui-cs.github.io/cs450-course/week01/iris.data\"\n",
        "data = pd.read_csv(url)\n",
        "\n",
        "#Randomly sort dara frame\n",
        "data.sample(frac=1)\n",
        "\n",
        "#index\n",
        "\n",
        "#to numpy"
      ],
      "execution_count": 0,
      "outputs": []
    },
    {
      "cell_type": "code",
      "metadata": {
        "id": "H-VCaS2i0a55",
        "colab_type": "code",
        "colab": {}
      },
      "source": [
        "#Split data in 2 training and test\n",
        "import numpy as np\n",
        "from sklearn.model_selection import train_test_split\n",
        "\n"
      ],
      "execution_count": 0,
      "outputs": []
    },
    {
      "cell_type": "code",
      "metadata": {
        "id": "gF5DAK0Q5Q7j",
        "colab_type": "code",
        "colab": {}
      },
      "source": [
        "#class\n",
        "class HardCodedClassifier:\n",
        "\n",
        "  #Train the Classifier\n",
        "  def fit(self, data, targets):\n",
        "    self.data = data\n",
        "    self.targets = targets\n",
        "  \n",
        "  #test the Classifiers\n",
        "  def predict(self, data):\n",
        "    self.data = \"Iris-setosa\"\n",
        "  \n",
        "  #assess the Classifier's Performance\n",
        "  def accuracy(newData,oldData)\n",
        "    int val\n",
        "    for i in oldData:\n",
        "      if newData[i] == oldData[i]:\n",
        "        val++\n",
        "    \n",
        "    accurate = val/30\n",
        "    return accurate\n",
        "    \n",
        "    \n",
        "\n"
      ],
      "execution_count": 0,
      "outputs": []
    },
    {
      "cell_type": "code",
      "metadata": {
        "id": "3qlgaZoA15GK",
        "colab_type": "code",
        "colab": {}
      },
      "source": [
        "#Train the Classifier"
      ],
      "execution_count": 0,
      "outputs": []
    },
    {
      "cell_type": "code",
      "metadata": {
        "id": "CQKcxNc518ud",
        "colab_type": "code",
        "colab": {}
      },
      "source": [
        "#Test the Classifier"
      ],
      "execution_count": 0,
      "outputs": []
    },
    {
      "cell_type": "code",
      "metadata": {
        "id": "OYfgpD6o2FHt",
        "colab_type": "code",
        "colab": {}
      },
      "source": [
        "#Assess the Classifier's Performance"
      ],
      "execution_count": 0,
      "outputs": []
    }
  ]
}