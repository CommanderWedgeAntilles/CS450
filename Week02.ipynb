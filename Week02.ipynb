{
  "nbformat": 4,
  "nbformat_minor": 0,
  "metadata": {
    "colab": {
      "name": "Untitled0.ipynb",
      "provenance": [],
      "collapsed_sections": [],
      "authorship_tag": "ABX9TyNpbJc/GPvdteLcA3y+ndn4",
      "include_colab_link": true
    },
    "kernelspec": {
      "name": "python3",
      "display_name": "Python 3"
    }
  },
  "cells": [
    {
      "cell_type": "markdown",
      "metadata": {
        "id": "view-in-github",
        "colab_type": "text"
      },
      "source": [
        "<a href=\"https://colab.research.google.com/github/CommanderWedgeAntilles/CS450/blob/master/Week02.ipynb\" target=\"_parent\"><img src=\"https://colab.research.google.com/assets/colab-badge.svg\" alt=\"Open In Colab\"/></a>"
      ]
    },
    {
      "cell_type": "code",
      "metadata": {
        "id": "Y2Dn0Crerag6",
        "colab_type": "code",
        "colab": {}
      },
      "source": [
        "\n",
        "#load the data\n",
        "import pandas as pd\n",
        "import math\n",
        "import numpy as np\n",
        "from sklearn.model_selection import train_test_split\n",
        "\n",
        "url = \"https://byui-cs.github.io/cs450-course/week01/iris.data\"\n",
        "headers = ['sepal_length', 'sepal_width', 'petal_length', 'petal_width', 'species']\n",
        "data = pd.read_csv(url, names = headers)\n",
        "print(data.columns)\n",
        "\n",
        "\n",
        "#Randomly sort dara frame\n",
        "data.sample(frac=1)\n",
        "\n",
        "#index\n",
        "feature = data['sepal_length', 'sepal_width', 'petal_length', 'petal_width']\n",
        "target = data[\"species\"]\n",
        "print ('Features Frame:\\n--------\\n', features)\n",
        "print ('Targets Frame:\\n--------\\n', targets)\n",
        "\n",
        "\n",
        "#to numpy\n",
        "\n",
        "fArray = features.to_numpy()\n",
        "tArray = targets.to_numpy()\n",
        "\n",
        "print('array', fArray)"
      ],
      "execution_count": 0,
      "outputs": []
    },
    {
      "cell_type": "code",
      "metadata": {
        "id": "H-VCaS2i0a55",
        "colab_type": "code",
        "colab": {}
      },
      "source": [
        "#Split data in 2 training and test\n",
        "import numpy as np\n",
        "from sklearn.model_selection import train_test_split\n",
        "\n",
        "f_train, f_test = train_test_split(fArray, test_size:0.3, train_size:0.7, shuffle=False)\n",
        "t_train, t_test = train_test_split(tArray, test_size:0.3, train_size:0.7, shuffle=False)\n",
        "\n",
        "print('F Train', f_train)\n",
        "print('F Test', f_test)\n",
        "print('T Train', t_train)\n",
        "print('T test', t_test)\n"
      ],
      "execution_count": 0,
      "outputs": []
    },
    {
      "cell_type": "code",
      "metadata": {
        "id": "gF5DAK0Q5Q7j",
        "colab_type": "code",
        "colab": {}
      },
      "source": [
        "#class\n",
        "class HardCodedClassifier:\n",
        "\n",
        "  #Train the Classifier\n",
        "  def fit(self, data, targets):\n",
        "    self.data = data\n",
        "    self.targets = targets\n",
        "\n",
        "  #Euclidesn Distance\n",
        "  def calc_distance(self, x1,x2):\n",
        "    #sqrt((PW2-PW1)^2+(PH2-PH1)^2+(SW2-SW1)^2+(SH2-SH1)^2)\n",
        "    PW = (x2.PW - x1.PW)**2\n",
        "    PH = (x2.PH - x1.PH)**2\n",
        "    SW = (x2.SW - x1.SW)**2\n",
        "    SH = (x2.SH - x1.SH)**2\n",
        "    eDist = math.sprt(PW+PH+SW+SH)\n",
        "    return eDist\n",
        "\n",
        "    \n",
        "\n",
        "\n",
        "  \n",
        "  #test the Classifiers\n",
        "  def predict(self, data, k):\n",
        "    self.k = math.sqrt(data.size())\n",
        "    for i in data:\n",
        "      dist = calc_distance(self, data[i], data[i+1])\n",
        "      i += 2\n",
        "\n",
        "  \n",
        "  #assess the Classifier's Performance\n",
        "  def accuracy(newData,oldData)\n",
        "    int val\n",
        "    for i in oldData:\n",
        "      if newData[i] == oldData[i]:\n",
        "        val++\n",
        "    \n",
        "    accurate = val/30\n",
        "    return accurate\n",
        "    \n",
        "    \n",
        "\n"
      ],
      "execution_count": 0,
      "outputs": []
    },
    {
      "cell_type": "code",
      "metadata": {
        "id": "3qlgaZoA15GK",
        "colab_type": "code",
        "colab": {}
      },
      "source": [
        "#Train the Classifier"
      ],
      "execution_count": 0,
      "outputs": []
    },
    {
      "cell_type": "code",
      "metadata": {
        "id": "CQKcxNc518ud",
        "colab_type": "code",
        "colab": {}
      },
      "source": [
        "#Test the Classifier"
      ],
      "execution_count": 0,
      "outputs": []
    },
    {
      "cell_type": "code",
      "metadata": {
        "id": "OYfgpD6o2FHt",
        "colab_type": "code",
        "colab": {}
      },
      "source": [
        "#Assess the Classifier's Performance"
      ],
      "execution_count": 0,
      "outputs": []
    }
  ]
}