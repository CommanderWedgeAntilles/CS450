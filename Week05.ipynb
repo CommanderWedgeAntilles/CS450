{
  "nbformat": 4,
  "nbformat_minor": 0,
  "metadata": {
    "colab": {
      "name": "Untitled1.ipynb",
      "provenance": [],
      "authorship_tag": "ABX9TyP2zUiZrESzS9JhD9KmJhSh",
      "include_colab_link": true
    },
    "kernelspec": {
      "name": "python3",
      "display_name": "Python 3"
    }
  },
  "cells": [
    {
      "cell_type": "markdown",
      "metadata": {
        "id": "view-in-github",
        "colab_type": "text"
      },
      "source": [
        "<a href=\"https://colab.research.google.com/github/CommanderWedgeAntilles/CS450/blob/master/Week05.ipynb\" target=\"_parent\"><img src=\"https://colab.research.google.com/assets/colab-badge.svg\" alt=\"Open In Colab\"/></a>"
      ]
    },
    {
      "cell_type": "code",
      "metadata": {
        "id": "W52mab0-0BVx"
      },
      "source": [
        "import pandas as pd\n",
        "\n",
        "hr = pd.read_csv('https://raw.githubusercontent.com/byui-cse/cse450-course/master/data/hr.csv')\n",
        "\n",
        "#diverseAttributes: Sex, DOB, RaceDesc, EmpID, HispanicLatino, and CitizenDesc. \n",
        "#diverseSpread: RecruitmentSource, Department\n",
        "#uniqueID EmpID\n",
        "hr."
      ],
      "execution_count": null,
      "outputs": []
    }
  ]
}