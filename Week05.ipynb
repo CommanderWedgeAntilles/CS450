{
  "nbformat": 4,
  "nbformat_minor": 0,
  "metadata": {
    "colab": {
      "name": "Week05.ipynb",
      "provenance": [],
      "collapsed_sections": [],
      "authorship_tag": "ABX9TyNNOKUtwT/SQ+SAQUDRd04K",
      "include_colab_link": true
    },
    "kernelspec": {
      "name": "python3",
      "display_name": "Python 3"
    }
  },
  "cells": [
    {
      "cell_type": "markdown",
      "metadata": {
        "id": "view-in-github",
        "colab_type": "text"
      },
      "source": [
        "<a href=\"https://colab.research.google.com/github/CommanderWedgeAntilles/CS450/blob/master/Week05.ipynb\" target=\"_parent\"><img src=\"https://colab.research.google.com/assets/colab-badge.svg\" alt=\"Open In Colab\"/></a>"
      ]
    },
    {
      "cell_type": "code",
      "metadata": {
        "id": "W52mab0-0BVx",
        "outputId": "c164638a-4968-4876-fda7-3764d0306723",
        "colab": {
          "base_uri": "https://localhost:8080/",
          "height": 343
        }
      },
      "source": [
        "import pandas as pd\n",
        "\n",
        "hr = pd.read_csv('https://raw.githubusercontent.com/byui-cse/cse450-course/master/data/hr.csv')\n",
        "\n",
        "#diverseAttributes: Sex, DOB(sample_str[-2]), RaceDesc, HispanicLatino, and CitizenDesc. \n",
        "#diverseSpread:  Department\n",
        "#uniqueID EmpID\n",
        "hr.head()"
      ],
      "execution_count": 6,
      "outputs": [
        {
          "output_type": "execute_result",
          "data": {
            "text/html": [
              "<div>\n",
              "<style scoped>\n",
              "    .dataframe tbody tr th:only-of-type {\n",
              "        vertical-align: middle;\n",
              "    }\n",
              "\n",
              "    .dataframe tbody tr th {\n",
              "        vertical-align: top;\n",
              "    }\n",
              "\n",
              "    .dataframe thead th {\n",
              "        text-align: right;\n",
              "    }\n",
              "</style>\n",
              "<table border=\"1\" class=\"dataframe\">\n",
              "  <thead>\n",
              "    <tr style=\"text-align: right;\">\n",
              "      <th></th>\n",
              "      <th>Employee_Name</th>\n",
              "      <th>EmpID</th>\n",
              "      <th>PayRate</th>\n",
              "      <th>Position</th>\n",
              "      <th>State</th>\n",
              "      <th>Zip</th>\n",
              "      <th>DOB</th>\n",
              "      <th>Sex</th>\n",
              "      <th>MaritalDesc</th>\n",
              "      <th>Dependents</th>\n",
              "      <th>CitizenDesc</th>\n",
              "      <th>HispanicLatino</th>\n",
              "      <th>RaceDesc</th>\n",
              "      <th>DateofHire</th>\n",
              "      <th>DateofTermination</th>\n",
              "      <th>TermReason</th>\n",
              "      <th>EmploymentStatus</th>\n",
              "      <th>Department</th>\n",
              "      <th>ManagerName</th>\n",
              "      <th>RecruitmentSource</th>\n",
              "      <th>PerformanceScore</th>\n",
              "      <th>EngagementSurvey</th>\n",
              "      <th>EmpSatisfaction</th>\n",
              "      <th>EmpSatisfaction2</th>\n",
              "      <th>SpecialProjectsCount</th>\n",
              "      <th>LastPerformanceReview_Date</th>\n",
              "      <th>DaysLateLast30</th>\n",
              "      <th>AbsencesLast30</th>\n",
              "    </tr>\n",
              "  </thead>\n",
              "  <tbody>\n",
              "    <tr>\n",
              "      <th>0</th>\n",
              "      <td>Brown, Mia</td>\n",
              "      <td>1103024456</td>\n",
              "      <td>59280.0</td>\n",
              "      <td>Accountant I</td>\n",
              "      <td>MA</td>\n",
              "      <td>1450</td>\n",
              "      <td>11/24/87</td>\n",
              "      <td>F</td>\n",
              "      <td>Married</td>\n",
              "      <td>0</td>\n",
              "      <td>US Citizen</td>\n",
              "      <td>No</td>\n",
              "      <td>Black or African American</td>\n",
              "      <td>10/27/08</td>\n",
              "      <td>NaN</td>\n",
              "      <td>N/A - still employed</td>\n",
              "      <td>Active</td>\n",
              "      <td>Admin Offices</td>\n",
              "      <td>Brandon R. LeBlanc</td>\n",
              "      <td>Diversity Job Fair</td>\n",
              "      <td>Fully Meets</td>\n",
              "      <td>4.08</td>\n",
              "      <td>2</td>\n",
              "      <td>93</td>\n",
              "      <td>9</td>\n",
              "      <td>1/15/19</td>\n",
              "      <td>0.0</td>\n",
              "      <td>1</td>\n",
              "    </tr>\n",
              "    <tr>\n",
              "      <th>1</th>\n",
              "      <td>LaRotonda, William</td>\n",
              "      <td>1106026572</td>\n",
              "      <td>47840.0</td>\n",
              "      <td>Accountant I</td>\n",
              "      <td>MA</td>\n",
              "      <td>1460</td>\n",
              "      <td>4/26/84</td>\n",
              "      <td>M</td>\n",
              "      <td>Divorced</td>\n",
              "      <td>4</td>\n",
              "      <td>US Citizen</td>\n",
              "      <td>No</td>\n",
              "      <td>Black or African American</td>\n",
              "      <td>1/6/14</td>\n",
              "      <td>NaN</td>\n",
              "      <td>N/A - still employed</td>\n",
              "      <td>Active</td>\n",
              "      <td>Admin Offices</td>\n",
              "      <td>Brandon R. LeBlanc</td>\n",
              "      <td>Website Banner Ads</td>\n",
              "      <td>Fully Meets</td>\n",
              "      <td>10.00</td>\n",
              "      <td>4</td>\n",
              "      <td>75</td>\n",
              "      <td>7</td>\n",
              "      <td>1/17/19</td>\n",
              "      <td>0.0</td>\n",
              "      <td>2</td>\n",
              "    </tr>\n",
              "    <tr>\n",
              "      <th>2</th>\n",
              "      <td>Steans, Tyrone</td>\n",
              "      <td>1302053333</td>\n",
              "      <td>60320.0</td>\n",
              "      <td>Accountant I</td>\n",
              "      <td>MA</td>\n",
              "      <td>2703</td>\n",
              "      <td>9/1/86</td>\n",
              "      <td>M</td>\n",
              "      <td>Single</td>\n",
              "      <td>2</td>\n",
              "      <td>US Citizen</td>\n",
              "      <td>No</td>\n",
              "      <td>White</td>\n",
              "      <td>9/29/14</td>\n",
              "      <td>NaN</td>\n",
              "      <td>N/A - still employed</td>\n",
              "      <td>Active</td>\n",
              "      <td>Admin Offices</td>\n",
              "      <td>Brandon R. LeBlanc</td>\n",
              "      <td>Internet Search</td>\n",
              "      <td>Fully Meets</td>\n",
              "      <td>7.80</td>\n",
              "      <td>5</td>\n",
              "      <td>60</td>\n",
              "      <td>6</td>\n",
              "      <td>1/18/19</td>\n",
              "      <td>0.0</td>\n",
              "      <td>7</td>\n",
              "    </tr>\n",
              "    <tr>\n",
              "      <th>3</th>\n",
              "      <td>Howard, Estelle</td>\n",
              "      <td>1211050782</td>\n",
              "      <td>44720.0</td>\n",
              "      <td>Administrative Assistant</td>\n",
              "      <td>MA</td>\n",
              "      <td>2170</td>\n",
              "      <td>9/16/85</td>\n",
              "      <td>F</td>\n",
              "      <td>Married</td>\n",
              "      <td>3</td>\n",
              "      <td>US Citizen</td>\n",
              "      <td>No</td>\n",
              "      <td>White</td>\n",
              "      <td>2/16/15</td>\n",
              "      <td>4/15/15</td>\n",
              "      <td>NaN</td>\n",
              "      <td>Terminated for Cause</td>\n",
              "      <td>Admin Offices</td>\n",
              "      <td>Brandon R. LeBlanc</td>\n",
              "      <td>Pay Per Click - Google</td>\n",
              "      <td>Fully Meets</td>\n",
              "      <td>6.48</td>\n",
              "      <td>3</td>\n",
              "      <td>83</td>\n",
              "      <td>0</td>\n",
              "      <td>NaN</td>\n",
              "      <td>NaN</td>\n",
              "      <td>2</td>\n",
              "    </tr>\n",
              "    <tr>\n",
              "      <th>4</th>\n",
              "      <td>Singh, Nan</td>\n",
              "      <td>1307059817</td>\n",
              "      <td>34444.8</td>\n",
              "      <td>Administrative Assistant</td>\n",
              "      <td>MA</td>\n",
              "      <td>2330</td>\n",
              "      <td>5/19/88</td>\n",
              "      <td>F</td>\n",
              "      <td>Single</td>\n",
              "      <td>4</td>\n",
              "      <td>US Citizen</td>\n",
              "      <td>No</td>\n",
              "      <td>White</td>\n",
              "      <td>5/1/15</td>\n",
              "      <td>NaN</td>\n",
              "      <td>N/A - still employed</td>\n",
              "      <td>Active</td>\n",
              "      <td>Admin Offices</td>\n",
              "      <td>Brandon R. LeBlanc</td>\n",
              "      <td>Website Banner Ads</td>\n",
              "      <td>Fully Meets</td>\n",
              "      <td>10.00</td>\n",
              "      <td>3</td>\n",
              "      <td>36</td>\n",
              "      <td>3</td>\n",
              "      <td>1/15/19</td>\n",
              "      <td>0.0</td>\n",
              "      <td>2</td>\n",
              "    </tr>\n",
              "  </tbody>\n",
              "</table>\n",
              "</div>"
            ],
            "text/plain": [
              "          Employee_Name       EmpID  ...  DaysLateLast30 AbsencesLast30\n",
              "0            Brown, Mia  1103024456  ...             0.0              1\n",
              "1  LaRotonda, William    1106026572  ...             0.0              2\n",
              "2      Steans, Tyrone    1302053333  ...             0.0              7\n",
              "3       Howard, Estelle  1211050782  ...             NaN              2\n",
              "4           Singh, Nan   1307059817  ...             0.0              2\n",
              "\n",
              "[5 rows x 28 columns]"
            ]
          },
          "metadata": {
            "tags": []
          },
          "execution_count": 6
        }
      ]
    },
    {
      "cell_type": "code",
      "metadata": {
        "id": "BfaTqnPgBOiC",
        "outputId": "bdf29914-e32c-4733-9e15-a271ec38d61d",
        "colab": {
          "base_uri": "https://localhost:8080/",
          "height": 136
        }
      },
      "source": [
        "hr.Department.value_counts()"
      ],
      "execution_count": 51,
      "outputs": [
        {
          "output_type": "execute_result",
          "data": {
            "text/plain": [
              "Production              208\n",
              "IT/IS                    50\n",
              "Sales                    31\n",
              "Software Engineering     10\n",
              "Admin Offices            10\n",
              "Executive Office          1\n",
              "Name: Department, dtype: int64"
            ]
          },
          "metadata": {
            "tags": []
          },
          "execution_count": 51
        }
      ]
    },
    {
      "cell_type": "code",
      "metadata": {
        "id": "UCQZvLldBGff",
        "outputId": "78c0a68f-6f0a-46eb-d48a-605e7861b9e6",
        "colab": {
          "base_uri": "https://localhost:8080/",
          "height": 711
        }
      },
      "source": [
        "production = hr[ hr['Department'] == 'Production       ']\n",
        "production"
      ],
      "execution_count": 58,
      "outputs": [
        {
          "output_type": "execute_result",
          "data": {
            "text/html": [
              "<div>\n",
              "<style scoped>\n",
              "    .dataframe tbody tr th:only-of-type {\n",
              "        vertical-align: middle;\n",
              "    }\n",
              "\n",
              "    .dataframe tbody tr th {\n",
              "        vertical-align: top;\n",
              "    }\n",
              "\n",
              "    .dataframe thead th {\n",
              "        text-align: right;\n",
              "    }\n",
              "</style>\n",
              "<table border=\"1\" class=\"dataframe\">\n",
              "  <thead>\n",
              "    <tr style=\"text-align: right;\">\n",
              "      <th></th>\n",
              "      <th>Employee_Name</th>\n",
              "      <th>EmpID</th>\n",
              "      <th>PayRate</th>\n",
              "      <th>Position</th>\n",
              "      <th>State</th>\n",
              "      <th>Zip</th>\n",
              "      <th>DOB</th>\n",
              "      <th>Sex</th>\n",
              "      <th>MaritalDesc</th>\n",
              "      <th>Dependents</th>\n",
              "      <th>CitizenDesc</th>\n",
              "      <th>HispanicLatino</th>\n",
              "      <th>RaceDesc</th>\n",
              "      <th>DateofHire</th>\n",
              "      <th>DateofTermination</th>\n",
              "      <th>TermReason</th>\n",
              "      <th>EmploymentStatus</th>\n",
              "      <th>Department</th>\n",
              "      <th>ManagerName</th>\n",
              "      <th>RecruitmentSource</th>\n",
              "      <th>PerformanceScore</th>\n",
              "      <th>EngagementSurvey</th>\n",
              "      <th>EmpSatisfaction</th>\n",
              "      <th>EmpSatisfaction2</th>\n",
              "      <th>SpecialProjectsCount</th>\n",
              "      <th>LastPerformanceReview_Date</th>\n",
              "      <th>DaysLateLast30</th>\n",
              "      <th>AbsencesLast30</th>\n",
              "      <th>DOBconv</th>\n",
              "      <th>Today</th>\n",
              "      <th>Age</th>\n",
              "    </tr>\n",
              "  </thead>\n",
              "  <tbody>\n",
              "    <tr>\n",
              "      <th>53</th>\n",
              "      <td>Bramante, Elisa</td>\n",
              "      <td>1006020066</td>\n",
              "      <td>124800.0</td>\n",
              "      <td>Director of Operations</td>\n",
              "      <td>MA</td>\n",
              "      <td>2030</td>\n",
              "      <td>3/19/83</td>\n",
              "      <td>F</td>\n",
              "      <td>Single</td>\n",
              "      <td>2</td>\n",
              "      <td>US Citizen</td>\n",
              "      <td>No</td>\n",
              "      <td>Black or African American</td>\n",
              "      <td>1/5/09</td>\n",
              "      <td>NaN</td>\n",
              "      <td>N/A - still employed</td>\n",
              "      <td>Active</td>\n",
              "      <td>Production</td>\n",
              "      <td>Janet King</td>\n",
              "      <td>Other</td>\n",
              "      <td>Exceeds</td>\n",
              "      <td>6.04</td>\n",
              "      <td>5</td>\n",
              "      <td>85</td>\n",
              "      <td>8</td>\n",
              "      <td>2/4/19</td>\n",
              "      <td>0.0</td>\n",
              "      <td>7</td>\n",
              "      <td>1983-03-19</td>\n",
              "      <td>2020-10-09</td>\n",
              "      <td>37.561346</td>\n",
              "    </tr>\n",
              "    <tr>\n",
              "      <th>74</th>\n",
              "      <td>Albert, Michael</td>\n",
              "      <td>1501072311</td>\n",
              "      <td>113360.0</td>\n",
              "      <td>Production Manager</td>\n",
              "      <td>MA</td>\n",
              "      <td>2169</td>\n",
              "      <td>10/10/68</td>\n",
              "      <td>M</td>\n",
              "      <td>Divorced</td>\n",
              "      <td>5</td>\n",
              "      <td>US Citizen</td>\n",
              "      <td>No</td>\n",
              "      <td>White</td>\n",
              "      <td>8/1/11</td>\n",
              "      <td>NaN</td>\n",
              "      <td>N/A - still employed</td>\n",
              "      <td>Active</td>\n",
              "      <td>Production</td>\n",
              "      <td>Janet King</td>\n",
              "      <td>Employee Referral</td>\n",
              "      <td>Fully Meets</td>\n",
              "      <td>7.86</td>\n",
              "      <td>3</td>\n",
              "      <td>100</td>\n",
              "      <td>10</td>\n",
              "      <td>2/27/19</td>\n",
              "      <td>0.0</td>\n",
              "      <td>5</td>\n",
              "      <td>2068-10-10</td>\n",
              "      <td>2020-10-09</td>\n",
              "      <td>-48.003724</td>\n",
              "    </tr>\n",
              "    <tr>\n",
              "      <th>75</th>\n",
              "      <td>Bozzi, Charles</td>\n",
              "      <td>1303054580</td>\n",
              "      <td>105040.0</td>\n",
              "      <td>Production Manager</td>\n",
              "      <td>MA</td>\n",
              "      <td>1901</td>\n",
              "      <td>3/10/70</td>\n",
              "      <td>M</td>\n",
              "      <td>Single</td>\n",
              "      <td>3</td>\n",
              "      <td>US Citizen</td>\n",
              "      <td>No</td>\n",
              "      <td>Asian</td>\n",
              "      <td>9/30/13</td>\n",
              "      <td>8/7/14</td>\n",
              "      <td>retiring</td>\n",
              "      <td>Voluntarily Terminated</td>\n",
              "      <td>Production</td>\n",
              "      <td>Janet King</td>\n",
              "      <td>Billboard</td>\n",
              "      <td>Fully Meets</td>\n",
              "      <td>6.78</td>\n",
              "      <td>3</td>\n",
              "      <td>72</td>\n",
              "      <td>7</td>\n",
              "      <td>NaN</td>\n",
              "      <td>NaN</td>\n",
              "      <td>7</td>\n",
              "      <td>1970-03-10</td>\n",
              "      <td>2020-10-09</td>\n",
              "      <td>50.585570</td>\n",
              "    </tr>\n",
              "    <tr>\n",
              "      <th>76</th>\n",
              "      <td>Butler, Webster  L</td>\n",
              "      <td>1110029990</td>\n",
              "      <td>114400.0</td>\n",
              "      <td>Production Manager</td>\n",
              "      <td>MA</td>\n",
              "      <td>2169</td>\n",
              "      <td>8/9/83</td>\n",
              "      <td>M</td>\n",
              "      <td>Single</td>\n",
              "      <td>1</td>\n",
              "      <td>US Citizen</td>\n",
              "      <td>No</td>\n",
              "      <td>White</td>\n",
              "      <td>1/28/16</td>\n",
              "      <td>NaN</td>\n",
              "      <td>N/A - still employed</td>\n",
              "      <td>Active</td>\n",
              "      <td>Production</td>\n",
              "      <td>Janet King</td>\n",
              "      <td>Pay Per Click - Google</td>\n",
              "      <td>Exceeds</td>\n",
              "      <td>10.00</td>\n",
              "      <td>3</td>\n",
              "      <td>39</td>\n",
              "      <td>3</td>\n",
              "      <td>2/22/19</td>\n",
              "      <td>0.0</td>\n",
              "      <td>3</td>\n",
              "      <td>1983-08-09</td>\n",
              "      <td>2020-10-09</td>\n",
              "      <td>37.169826</td>\n",
              "    </tr>\n",
              "    <tr>\n",
              "      <th>77</th>\n",
              "      <td>Dunn, Amy</td>\n",
              "      <td>1409070147</td>\n",
              "      <td>106080.0</td>\n",
              "      <td>Production Manager</td>\n",
              "      <td>MA</td>\n",
              "      <td>1731</td>\n",
              "      <td>11/28/73</td>\n",
              "      <td>F</td>\n",
              "      <td>Single</td>\n",
              "      <td>1</td>\n",
              "      <td>US Citizen</td>\n",
              "      <td>No</td>\n",
              "      <td>White</td>\n",
              "      <td>9/18/14</td>\n",
              "      <td>NaN</td>\n",
              "      <td>N/A - still employed</td>\n",
              "      <td>Active</td>\n",
              "      <td>Production</td>\n",
              "      <td>Janet King</td>\n",
              "      <td>Search Engine - Google Bing Yahoo</td>\n",
              "      <td>Fully Meets</td>\n",
              "      <td>9.04</td>\n",
              "      <td>4</td>\n",
              "      <td>23</td>\n",
              "      <td>2</td>\n",
              "      <td>1/15/19</td>\n",
              "      <td>0.0</td>\n",
              "      <td>6</td>\n",
              "      <td>1973-11-28</td>\n",
              "      <td>2020-10-09</td>\n",
              "      <td>46.864754</td>\n",
              "    </tr>\n",
              "    <tr>\n",
              "      <th>...</th>\n",
              "      <td>...</td>\n",
              "      <td>...</td>\n",
              "      <td>...</td>\n",
              "      <td>...</td>\n",
              "      <td>...</td>\n",
              "      <td>...</td>\n",
              "      <td>...</td>\n",
              "      <td>...</td>\n",
              "      <td>...</td>\n",
              "      <td>...</td>\n",
              "      <td>...</td>\n",
              "      <td>...</td>\n",
              "      <td>...</td>\n",
              "      <td>...</td>\n",
              "      <td>...</td>\n",
              "      <td>...</td>\n",
              "      <td>...</td>\n",
              "      <td>...</td>\n",
              "      <td>...</td>\n",
              "      <td>...</td>\n",
              "      <td>...</td>\n",
              "      <td>...</td>\n",
              "      <td>...</td>\n",
              "      <td>...</td>\n",
              "      <td>...</td>\n",
              "      <td>...</td>\n",
              "      <td>...</td>\n",
              "      <td>...</td>\n",
              "      <td>...</td>\n",
              "      <td>...</td>\n",
              "      <td>...</td>\n",
              "    </tr>\n",
              "    <tr>\n",
              "      <th>276</th>\n",
              "      <td>Fancett, Nicole</td>\n",
              "      <td>1402065085</td>\n",
              "      <td>24.0</td>\n",
              "      <td>Production Technician II</td>\n",
              "      <td>MA</td>\n",
              "      <td>2324</td>\n",
              "      <td>9/27/87</td>\n",
              "      <td>F</td>\n",
              "      <td>?</td>\n",
              "      <td>3</td>\n",
              "      <td>US Citizen</td>\n",
              "      <td>No</td>\n",
              "      <td>Black or African American</td>\n",
              "      <td>2/17/14</td>\n",
              "      <td>NaN</td>\n",
              "      <td>N/A - still employed</td>\n",
              "      <td>Active</td>\n",
              "      <td>Production</td>\n",
              "      <td>Webster Butler</td>\n",
              "      <td>Newspager/Magazine</td>\n",
              "      <td>Fully Meets</td>\n",
              "      <td>8.00</td>\n",
              "      <td>4</td>\n",
              "      <td>27</td>\n",
              "      <td>2</td>\n",
              "      <td>1/7/19</td>\n",
              "      <td>0.0</td>\n",
              "      <td>2</td>\n",
              "      <td>1987-09-27</td>\n",
              "      <td>2020-10-09</td>\n",
              "      <td>33.035586</td>\n",
              "    </tr>\n",
              "    <tr>\n",
              "      <th>277</th>\n",
              "      <td>Hutter, Rosalie</td>\n",
              "      <td>1103024924</td>\n",
              "      <td>28.0</td>\n",
              "      <td>Production Technician II</td>\n",
              "      <td>MA</td>\n",
              "      <td>2351</td>\n",
              "      <td>5/7/92</td>\n",
              "      <td>F</td>\n",
              "      <td>Separated</td>\n",
              "      <td>1</td>\n",
              "      <td>US Citizen</td>\n",
              "      <td>No</td>\n",
              "      <td>White</td>\n",
              "      <td>6/5/15</td>\n",
              "      <td>NaN</td>\n",
              "      <td>N/A - Has not started yet</td>\n",
              "      <td>Future Start</td>\n",
              "      <td>Production</td>\n",
              "      <td>Webster Butler</td>\n",
              "      <td>Other</td>\n",
              "      <td>Fully Meets</td>\n",
              "      <td>5.26</td>\n",
              "      <td>3</td>\n",
              "      <td>70</td>\n",
              "      <td>7</td>\n",
              "      <td>2/14/19</td>\n",
              "      <td>0.0</td>\n",
              "      <td>1</td>\n",
              "      <td>1992-05-07</td>\n",
              "      <td>2020-10-09</td>\n",
              "      <td>28.424951</td>\n",
              "    </tr>\n",
              "    <tr>\n",
              "      <th>278</th>\n",
              "      <td>Manchester, Robyn</td>\n",
              "      <td>1110029623</td>\n",
              "      <td>23.0</td>\n",
              "      <td>Production Technician II</td>\n",
              "      <td>MA</td>\n",
              "      <td>2324</td>\n",
              "      <td>8/25/76</td>\n",
              "      <td>F</td>\n",
              "      <td>Married</td>\n",
              "      <td>0</td>\n",
              "      <td>US Citizen</td>\n",
              "      <td>No</td>\n",
              "      <td>White</td>\n",
              "      <td>5/11/16</td>\n",
              "      <td>NaN</td>\n",
              "      <td>N/A - Has not started yet</td>\n",
              "      <td>Future Start</td>\n",
              "      <td>Production</td>\n",
              "      <td>Webster Butler</td>\n",
              "      <td>Vendor Referral</td>\n",
              "      <td>Fully Meets</td>\n",
              "      <td>10.00</td>\n",
              "      <td>3</td>\n",
              "      <td>61</td>\n",
              "      <td>6</td>\n",
              "      <td>1/21/19</td>\n",
              "      <td>0.0</td>\n",
              "      <td>1</td>\n",
              "      <td>1976-08-25</td>\n",
              "      <td>2020-10-09</td>\n",
              "      <td>44.124109</td>\n",
              "    </tr>\n",
              "    <tr>\n",
              "      <th>279</th>\n",
              "      <td>Oliver, Brooke</td>\n",
              "      <td>1001856521</td>\n",
              "      <td>25.0</td>\n",
              "      <td>Production Technician II</td>\n",
              "      <td>MA</td>\n",
              "      <td>2492</td>\n",
              "      <td>2/11/52</td>\n",
              "      <td>F</td>\n",
              "      <td>Married</td>\n",
              "      <td>1</td>\n",
              "      <td>US Citizen</td>\n",
              "      <td>No</td>\n",
              "      <td>Asian</td>\n",
              "      <td>5/14/12</td>\n",
              "      <td>8/19/13</td>\n",
              "      <td>unhappy</td>\n",
              "      <td>Voluntarily Terminated</td>\n",
              "      <td>Production</td>\n",
              "      <td>Webster Butler</td>\n",
              "      <td>Newspager/Magazine</td>\n",
              "      <td>Fully Meets</td>\n",
              "      <td>10.00</td>\n",
              "      <td>3</td>\n",
              "      <td>91</td>\n",
              "      <td>9</td>\n",
              "      <td>NaN</td>\n",
              "      <td>NaN</td>\n",
              "      <td>2</td>\n",
              "      <td>2052-02-11</td>\n",
              "      <td>2020-10-09</td>\n",
              "      <td>-31.340822</td>\n",
              "    </tr>\n",
              "    <tr>\n",
              "      <th>280</th>\n",
              "      <td>Thibaud, Kenneth</td>\n",
              "      <td>1011022777</td>\n",
              "      <td>23.0</td>\n",
              "      <td>Production Technician II</td>\n",
              "      <td>MA</td>\n",
              "      <td>2472</td>\n",
              "      <td>9/16/75</td>\n",
              "      <td>M</td>\n",
              "      <td>Widowed</td>\n",
              "      <td>4</td>\n",
              "      <td>US Citizen</td>\n",
              "      <td>No</td>\n",
              "      <td>White</td>\n",
              "      <td>6/25/07</td>\n",
              "      <td>8/30/10</td>\n",
              "      <td>military</td>\n",
              "      <td>Voluntarily Terminated</td>\n",
              "      <td>Production</td>\n",
              "      <td>Webster Butler</td>\n",
              "      <td>Pay Per Click - Google</td>\n",
              "      <td>Fully Meets</td>\n",
              "      <td>2.74</td>\n",
              "      <td>4</td>\n",
              "      <td>28</td>\n",
              "      <td>2</td>\n",
              "      <td>NaN</td>\n",
              "      <td>NaN</td>\n",
              "      <td>6</td>\n",
              "      <td>1975-09-16</td>\n",
              "      <td>2020-10-09</td>\n",
              "      <td>45.065949</td>\n",
              "    </tr>\n",
              "  </tbody>\n",
              "</table>\n",
              "<p>208 rows × 31 columns</p>\n",
              "</div>"
            ],
            "text/plain": [
              "          Employee_Name       EmpID   PayRate  ...    DOBconv      Today        Age\n",
              "53      Bramante, Elisa  1006020066  124800.0  ... 1983-03-19 2020-10-09  37.561346\n",
              "74    Albert, Michael    1501072311  113360.0  ... 2068-10-10 2020-10-09 -48.003724\n",
              "75       Bozzi, Charles  1303054580  105040.0  ... 1970-03-10 2020-10-09  50.585570\n",
              "76   Butler, Webster  L  1110029990  114400.0  ... 1983-08-09 2020-10-09  37.169826\n",
              "77          Dunn, Amy    1409070147  106080.0  ... 1973-11-28 2020-10-09  46.864754\n",
              "..                  ...         ...       ...  ...        ...        ...        ...\n",
              "276     Fancett, Nicole  1402065085      24.0  ... 1987-09-27 2020-10-09  33.035586\n",
              "277     Hutter, Rosalie  1103024924      28.0  ... 1992-05-07 2020-10-09  28.424951\n",
              "278   Manchester, Robyn  1110029623      23.0  ... 1976-08-25 2020-10-09  44.124109\n",
              "279     Oliver, Brooke   1001856521      25.0  ... 2052-02-11 2020-10-09 -31.340822\n",
              "280    Thibaud, Kenneth  1011022777      23.0  ... 1975-09-16 2020-10-09  45.065949\n",
              "\n",
              "[208 rows x 31 columns]"
            ]
          },
          "metadata": {
            "tags": []
          },
          "execution_count": 58
        }
      ]
    },
    {
      "cell_type": "code",
      "metadata": {
        "id": "QgpRBifLETmx"
      },
      "source": [
        "#seperate by department\n",
        "itis = hr[ hr['Department'] == 'IT/IS']\n",
        "sales = hr[ hr['Department'] == 'Sales']\n",
        "se = hr[ hr['Department'] == 'Software Engineering']\n",
        "admin = hr[ hr['Department'] == 'Admin Offices']\n",
        "executive = hr[ hr['Department'] == 'Executive Office']\n",
        "production = hr[ hr['Department'] == 'Production       ']\n"
      ],
      "execution_count": 59,
      "outputs": []
    },
    {
      "cell_type": "code",
      "metadata": {
        "id": "Bo4MryxP0IsE",
        "outputId": "9219900a-8534-432c-dc38-03feaeec31c3",
        "colab": {
          "base_uri": "https://localhost:8080/",
          "height": 68
        }
      },
      "source": [
        "#no data exists in the production department for some reason\n",
        "production.loc[:,\"RaceDesc\"].value_counts()\n",
        "production.loc[:,\"Sex\"].value_counts()"
      ],
      "execution_count": 60,
      "outputs": [
        {
          "output_type": "execute_result",
          "data": {
            "text/plain": [
              "F     127\n",
              "M      81\n",
              "Name: Sex, dtype: int64"
            ]
          },
          "metadata": {
            "tags": []
          },
          "execution_count": 60
        }
      ]
    },
    {
      "cell_type": "code",
      "metadata": {
        "id": "jFiEf1FHIvyc",
        "outputId": "59bde6f1-9aef-42c2-dbef-b7caed711755",
        "colab": {
          "base_uri": "https://localhost:8080/",
          "height": 68
        }
      },
      "source": [
        "sales.loc[:,\"RaceDesc\"].mode()\n",
        "\n",
        "#White\n",
        "sales.loc[:,\"RaceDesc\"].value_counts()\n",
        "sales.loc[:,\"Sex\"].value_counts()\n"
      ],
      "execution_count": 48,
      "outputs": [
        {
          "output_type": "execute_result",
          "data": {
            "text/plain": [
              "M     16\n",
              "F     15\n",
              "Name: Sex, dtype: int64"
            ]
          },
          "metadata": {
            "tags": []
          },
          "execution_count": 48
        }
      ]
    },
    {
      "cell_type": "code",
      "metadata": {
        "id": "871RGjflNoS9",
        "outputId": "c8b86c64-40f7-4f2d-f557-504e3df574c0",
        "colab": {
          "base_uri": "https://localhost:8080/",
          "height": 136
        }
      },
      "source": [
        "hr.loc[:, \"Department\"].value_counts()"
      ],
      "execution_count": null,
      "outputs": [
        {
          "output_type": "execute_result",
          "data": {
            "text/plain": [
              "Production              208\n",
              "IT/IS                    50\n",
              "Sales                    31\n",
              "Software Engineering     10\n",
              "Admin Offices            10\n",
              "Executive Office          1\n",
              "Name: Department, dtype: int64"
            ]
          },
          "metadata": {
            "tags": []
          },
          "execution_count": 37
        }
      ]
    },
    {
      "cell_type": "code",
      "metadata": {
        "id": "R_zUlVHZW5-V",
        "outputId": "33506209-8ce3-44f0-8b27-a3368150ae91",
        "colab": {
          "base_uri": "https://localhost:8080/",
          "height": 68
        }
      },
      "source": [
        "itis.loc[:,\"RaceDesc\"].value_counts()\n",
        "itis.loc[:,\"Sex\"].value_counts()"
      ],
      "execution_count": 49,
      "outputs": [
        {
          "output_type": "execute_result",
          "data": {
            "text/plain": [
              "M     28\n",
              "F     22\n",
              "Name: Sex, dtype: int64"
            ]
          },
          "metadata": {
            "tags": []
          },
          "execution_count": 49
        }
      ]
    },
    {
      "cell_type": "code",
      "metadata": {
        "id": "ZHGq-Wi7XElQ",
        "outputId": "e5539117-5160-4251-f258-2b080bf93771",
        "colab": {
          "base_uri": "https://localhost:8080/",
          "height": 68
        }
      },
      "source": [
        "se.loc[:,\"RaceDesc\"].value_counts()\n",
        "se.loc[:,\"Sex\"].value_counts()"
      ],
      "execution_count": 10,
      "outputs": [
        {
          "output_type": "execute_result",
          "data": {
            "text/plain": [
              "F     6\n",
              "M     4\n",
              "Name: Sex, dtype: int64"
            ]
          },
          "metadata": {
            "tags": []
          },
          "execution_count": 10
        }
      ]
    },
    {
      "cell_type": "code",
      "metadata": {
        "id": "q349Ex01Xxod",
        "outputId": "666b2e16-1f83-42e3-b609-651c2a0c381f",
        "colab": {
          "base_uri": "https://localhost:8080/",
          "height": 68
        }
      },
      "source": [
        "admin.loc[:,\"RaceDesc\"].value_counts()\n",
        "admin.loc[:,\"Sex\"].value_counts()"
      ],
      "execution_count": 11,
      "outputs": [
        {
          "output_type": "execute_result",
          "data": {
            "text/plain": [
              "F     6\n",
              "M     4\n",
              "Name: Sex, dtype: int64"
            ]
          },
          "metadata": {
            "tags": []
          },
          "execution_count": 11
        }
      ]
    },
    {
      "cell_type": "code",
      "metadata": {
        "id": "AsST67BkX0rp",
        "outputId": "2fe644c5-bd8c-4db2-ce51-9611613b1d37",
        "colab": {
          "base_uri": "https://localhost:8080/",
          "height": 51
        }
      },
      "source": [
        "executive.loc[:,\"RaceDesc\"].value_counts()\n",
        "executive.loc[:,\"Sex\"].value_counts()"
      ],
      "execution_count": 12,
      "outputs": [
        {
          "output_type": "execute_result",
          "data": {
            "text/plain": [
              "F    1\n",
              "Name: Sex, dtype: int64"
            ]
          },
          "metadata": {
            "tags": []
          },
          "execution_count": 12
        }
      ]
    },
    {
      "cell_type": "markdown",
      "metadata": {
        "id": "iQX8bOzGaEHR"
      },
      "source": [
        "[Simpson's Diversity Index](https://www.statisticshowto.com/simpsons-diversity-index/)\n",
        "\n",
        "D = 1 - (sum(n(n-1)))/(N(N-1))\n",
        "\n",
        "100 80 5 5 10\n",
        "---\n",
        "\n",
        "\n",
        "n = number of individuals of **each** race/ gender/ age\n",
        "\n",
        "---\n",
        "\n",
        "\n",
        "N = total number of individuals of **all** races/ genders/ age\n",
        "\n",
        "This is what we will use to determine Diversity on a Department level basis and for the Company overall.\n",
        "\n",
        "\n",
        "---\n",
        "\n",
        "High scores(close to 1) show high diversity\n",
        "\n",
        "\n",
        "---\n",
        "Low scores(close to 0) show low diversity\n",
        "\n"
      ]
    },
    {
      "cell_type": "code",
      "metadata": {
        "id": "SNji_864diRV"
      },
      "source": [
        "def Diversity (x,X):\n",
        "  frac = x/X\n",
        "  return 1 - frac"
      ],
      "execution_count": 70,
      "outputs": []
    },
    {
      "cell_type": "code",
      "metadata": {
        "id": "3ZnhdxEZgyQJ"
      },
      "source": [
        "def n(rge):\n",
        "    n = 0\n",
        "    for x in rge:\n",
        "      n += ((x-1)*x)\n",
        "    print(n)\n",
        "    return n\n"
      ],
      "execution_count": 71,
      "outputs": []
    },
    {
      "cell_type": "code",
      "metadata": {
        "id": "Ay21hbSohnJk"
      },
      "source": [
        "def N(val):\n",
        "  return((val-1)*val)"
      ],
      "execution_count": 72,
      "outputs": []
    },
    {
      "cell_type": "code",
      "metadata": {
        "id": "bBFDcFtCh-P2"
      },
      "source": [
        "def calc(x,y):\n",
        "    ni = n(x)\n",
        "    Ni = N(y)\n",
        "    SDI = Diversity(ni,Ni)\n",
        "    return SDI\n"
      ],
      "execution_count": 73,
      "outputs": []
    },
    {
      "cell_type": "code",
      "metadata": {
        "id": "3DX_ZjczbuOD",
        "outputId": "26790cd1-04b6-4b02-e70d-7122d3bad669",
        "colab": {
          "base_uri": "https://localhost:8080/",
          "height": 68
        }
      },
      "source": [
        "production.loc[:,\"RaceDesc\"].value_counts()\n",
        "production.loc[:,\"Sex\"].value_counts()"
      ],
      "execution_count": 101,
      "outputs": [
        {
          "output_type": "execute_result",
          "data": {
            "text/plain": [
              "F     127\n",
              "M      81\n",
              "Name: Sex, dtype: int64"
            ]
          },
          "metadata": {
            "tags": []
          },
          "execution_count": 101
        }
      ]
    },
    {
      "cell_type": "code",
      "metadata": {
        "id": "DFRBuBzObeQ-",
        "outputId": "42826eef-788a-4108-e508-f5fcdd2a1a22",
        "colab": {
          "base_uri": "https://localhost:8080/",
          "height": 85
        }
      },
      "source": [
        "productionRacialD = calc([138,32,22,10,3,3],208)\n",
        "productionSexD = calc([127,81],208)\n",
        "print(productionRacialD)\n",
        "print(productionSexD)"
      ],
      "execution_count": 106,
      "outputs": [
        {
          "output_type": "stream",
          "text": [
            "20462\n",
            "22482\n",
            "0.5247584541062802\n",
            "0.4778428093645485\n"
          ],
          "name": "stdout"
        }
      ]
    },
    {
      "cell_type": "markdown",
      "metadata": {
        "id": "UJAHR22JD7xB"
      },
      "source": [
        "1-(((28-1)28)+((22-1)22))/((50-1)50) = SDI = 0.692\n",
        "1- (756)"
      ]
    },
    {
      "cell_type": "code",
      "metadata": {
        "id": "cI-zNrdGjC1E",
        "outputId": "8b285846-f614-40c8-c18b-2d5ef0859d81",
        "colab": {
          "base_uri": "https://localhost:8080/",
          "height": 85
        }
      },
      "source": [
        "itisRacialD = calc([30,10,7,2,1],50)\n",
        "itisSexD = calc([28,22],50)\n",
        "print(itisRacialD)\n",
        "print(itisSexD)"
      ],
      "execution_count": 107,
      "outputs": [
        {
          "output_type": "stream",
          "text": [
            "1004\n",
            "1218\n",
            "0.590204081632653\n",
            "0.5028571428571429\n"
          ],
          "name": "stdout"
        }
      ]
    },
    {
      "cell_type": "code",
      "metadata": {
        "id": "oRbJpcjH6yYG",
        "outputId": "e4bfc1ac-76a3-4352-db3f-3941d9567acd",
        "colab": {
          "base_uri": "https://localhost:8080/",
          "height": 85
        }
      },
      "source": [
        "seRacialD = calc([5,3,2],10)\n",
        "seSexD = calc([4,6],10)\n",
        "print(seRacialD)\n",
        "print(seSexD)"
      ],
      "execution_count": 109,
      "outputs": [
        {
          "output_type": "stream",
          "text": [
            "28\n",
            "42\n",
            "0.6888888888888889\n",
            "0.5333333333333333\n"
          ],
          "name": "stdout"
        }
      ]
    },
    {
      "cell_type": "code",
      "metadata": {
        "id": "ci1Jq2Lt7Vyj",
        "outputId": "9a9b0018-0d5e-45f2-82ba-54e3323f54c5",
        "colab": {
          "base_uri": "https://localhost:8080/",
          "height": 85
        }
      },
      "source": [
        "adminRacialD = calc([5,3,2],10)\n",
        "adminSexD = calc([4,6],10)\n",
        "print(adminRacialD)\n",
        "print(adminSexD)"
      ],
      "execution_count": 110,
      "outputs": [
        {
          "output_type": "stream",
          "text": [
            "28\n",
            "42\n",
            "0.6888888888888889\n",
            "0.5333333333333333\n"
          ],
          "name": "stdout"
        }
      ]
    },
    {
      "cell_type": "code",
      "metadata": {
        "id": "uca6VhQg7eCV",
        "outputId": "daac1643-db64-4e76-b1a9-aa7fde7e6699",
        "colab": {
          "base_uri": "https://localhost:8080/",
          "height": 85
        }
      },
      "source": [
        "salesRacialD = calc([14,9,6,1,1],31)\n",
        "salesSexD = calc([16,15],31)\n",
        "print(salesRacialD)\n",
        "print(salesSexD)\n",
        "#barplot"
      ],
      "execution_count": 111,
      "outputs": [
        {
          "output_type": "stream",
          "text": [
            "284\n",
            "450\n",
            "0.6946236559139785\n",
            "0.5161290322580645\n"
          ],
          "name": "stdout"
        }
      ]
    },
    {
      "cell_type": "code",
      "metadata": {
        "id": "ES4CKLKA78Uo",
        "outputId": "03ca10ab-bbba-48f3-d673-a07c69461452",
        "colab": {
          "base_uri": "https://localhost:8080/",
          "height": 51
        }
      },
      "source": [
        "hr.loc[:, \"RaceDesc\"].value_counts()\n",
        "companySexD = calc([193,57,34,18,4,4],310)\n",
        "print(companyRacialD)"
      ],
      "execution_count": 99,
      "outputs": [
        {
          "output_type": "stream",
          "text": [
            "41700\n",
            "0.5646727215784528\n"
          ],
          "name": "stdout"
        }
      ]
    },
    {
      "cell_type": "code",
      "metadata": {
        "id": "8xUqNJA_KsNt",
        "outputId": "1f98a36d-91a0-4a26-b7ae-a49e1149c573",
        "colab": {
          "base_uri": "https://localhost:8080/",
          "height": 51
        }
      },
      "source": [
        "hr.loc[:, \"Sex\"].value_counts()\n",
        "companySexD = calc([133,177],310)\n",
        "print(companySexD)"
      ],
      "execution_count": 93,
      "outputs": [
        {
          "output_type": "stream",
          "text": [
            "48708\n",
            "0.4915126839962418\n"
          ],
          "name": "stdout"
        }
      ]
    },
    {
      "cell_type": "code",
      "metadata": {
        "id": "XefKdUuY8slX",
        "outputId": "548b01ef-2c4b-4f4d-fec0-48c1ce2a5376",
        "colab": {
          "base_uri": "https://localhost:8080/",
          "height": 343
        }
      },
      "source": [
        "import numpy as np\n",
        "\n",
        "hr[\"DOBconv\"] = pd.to_datetime(hr['DOB'])\n",
        "hr[\"Today\"] = \"10/9/2020\"\n",
        "hr[\"Today\"] = pd.to_datetime(hr['Today'])\n",
        "hr[\"Age\"] = hr[\"Today\"]-hr[\"DOBconv\"]\n",
        "hr[\"Age\"] = hr[\"Age\"]/np.timedelta64(1,'Y')\n",
        "hr.head()"
      ],
      "execution_count": 43,
      "outputs": [
        {
          "output_type": "execute_result",
          "data": {
            "text/html": [
              "<div>\n",
              "<style scoped>\n",
              "    .dataframe tbody tr th:only-of-type {\n",
              "        vertical-align: middle;\n",
              "    }\n",
              "\n",
              "    .dataframe tbody tr th {\n",
              "        vertical-align: top;\n",
              "    }\n",
              "\n",
              "    .dataframe thead th {\n",
              "        text-align: right;\n",
              "    }\n",
              "</style>\n",
              "<table border=\"1\" class=\"dataframe\">\n",
              "  <thead>\n",
              "    <tr style=\"text-align: right;\">\n",
              "      <th></th>\n",
              "      <th>Employee_Name</th>\n",
              "      <th>EmpID</th>\n",
              "      <th>PayRate</th>\n",
              "      <th>Position</th>\n",
              "      <th>State</th>\n",
              "      <th>Zip</th>\n",
              "      <th>DOB</th>\n",
              "      <th>Sex</th>\n",
              "      <th>MaritalDesc</th>\n",
              "      <th>Dependents</th>\n",
              "      <th>CitizenDesc</th>\n",
              "      <th>HispanicLatino</th>\n",
              "      <th>RaceDesc</th>\n",
              "      <th>DateofHire</th>\n",
              "      <th>DateofTermination</th>\n",
              "      <th>TermReason</th>\n",
              "      <th>EmploymentStatus</th>\n",
              "      <th>Department</th>\n",
              "      <th>ManagerName</th>\n",
              "      <th>RecruitmentSource</th>\n",
              "      <th>PerformanceScore</th>\n",
              "      <th>EngagementSurvey</th>\n",
              "      <th>EmpSatisfaction</th>\n",
              "      <th>EmpSatisfaction2</th>\n",
              "      <th>SpecialProjectsCount</th>\n",
              "      <th>LastPerformanceReview_Date</th>\n",
              "      <th>DaysLateLast30</th>\n",
              "      <th>AbsencesLast30</th>\n",
              "      <th>DOBconv</th>\n",
              "      <th>Today</th>\n",
              "      <th>Age</th>\n",
              "    </tr>\n",
              "  </thead>\n",
              "  <tbody>\n",
              "    <tr>\n",
              "      <th>0</th>\n",
              "      <td>Brown, Mia</td>\n",
              "      <td>1103024456</td>\n",
              "      <td>59280.0</td>\n",
              "      <td>Accountant I</td>\n",
              "      <td>MA</td>\n",
              "      <td>1450</td>\n",
              "      <td>11/24/87</td>\n",
              "      <td>F</td>\n",
              "      <td>Married</td>\n",
              "      <td>0</td>\n",
              "      <td>US Citizen</td>\n",
              "      <td>No</td>\n",
              "      <td>Black or African American</td>\n",
              "      <td>10/27/08</td>\n",
              "      <td>NaN</td>\n",
              "      <td>N/A - still employed</td>\n",
              "      <td>Active</td>\n",
              "      <td>Admin Offices</td>\n",
              "      <td>Brandon R. LeBlanc</td>\n",
              "      <td>Diversity Job Fair</td>\n",
              "      <td>Fully Meets</td>\n",
              "      <td>4.08</td>\n",
              "      <td>2</td>\n",
              "      <td>93</td>\n",
              "      <td>9</td>\n",
              "      <td>1/15/19</td>\n",
              "      <td>0.0</td>\n",
              "      <td>1</td>\n",
              "      <td>1987-11-24</td>\n",
              "      <td>2020-10-09</td>\n",
              "      <td>32.876787</td>\n",
              "    </tr>\n",
              "    <tr>\n",
              "      <th>1</th>\n",
              "      <td>LaRotonda, William</td>\n",
              "      <td>1106026572</td>\n",
              "      <td>47840.0</td>\n",
              "      <td>Accountant I</td>\n",
              "      <td>MA</td>\n",
              "      <td>1460</td>\n",
              "      <td>4/26/84</td>\n",
              "      <td>M</td>\n",
              "      <td>Divorced</td>\n",
              "      <td>4</td>\n",
              "      <td>US Citizen</td>\n",
              "      <td>No</td>\n",
              "      <td>Black or African American</td>\n",
              "      <td>1/6/14</td>\n",
              "      <td>NaN</td>\n",
              "      <td>N/A - still employed</td>\n",
              "      <td>Active</td>\n",
              "      <td>Admin Offices</td>\n",
              "      <td>Brandon R. LeBlanc</td>\n",
              "      <td>Website Banner Ads</td>\n",
              "      <td>Fully Meets</td>\n",
              "      <td>10.00</td>\n",
              "      <td>4</td>\n",
              "      <td>75</td>\n",
              "      <td>7</td>\n",
              "      <td>1/17/19</td>\n",
              "      <td>0.0</td>\n",
              "      <td>2</td>\n",
              "      <td>1984-04-26</td>\n",
              "      <td>2020-10-09</td>\n",
              "      <td>36.455232</td>\n",
              "    </tr>\n",
              "    <tr>\n",
              "      <th>2</th>\n",
              "      <td>Steans, Tyrone</td>\n",
              "      <td>1302053333</td>\n",
              "      <td>60320.0</td>\n",
              "      <td>Accountant I</td>\n",
              "      <td>MA</td>\n",
              "      <td>2703</td>\n",
              "      <td>9/1/86</td>\n",
              "      <td>M</td>\n",
              "      <td>Single</td>\n",
              "      <td>2</td>\n",
              "      <td>US Citizen</td>\n",
              "      <td>No</td>\n",
              "      <td>White</td>\n",
              "      <td>9/29/14</td>\n",
              "      <td>NaN</td>\n",
              "      <td>N/A - still employed</td>\n",
              "      <td>Active</td>\n",
              "      <td>Admin Offices</td>\n",
              "      <td>Brandon R. LeBlanc</td>\n",
              "      <td>Internet Search</td>\n",
              "      <td>Fully Meets</td>\n",
              "      <td>7.80</td>\n",
              "      <td>5</td>\n",
              "      <td>60</td>\n",
              "      <td>6</td>\n",
              "      <td>1/18/19</td>\n",
              "      <td>0.0</td>\n",
              "      <td>7</td>\n",
              "      <td>1986-09-01</td>\n",
              "      <td>2020-10-09</td>\n",
              "      <td>34.106108</td>\n",
              "    </tr>\n",
              "    <tr>\n",
              "      <th>3</th>\n",
              "      <td>Howard, Estelle</td>\n",
              "      <td>1211050782</td>\n",
              "      <td>44720.0</td>\n",
              "      <td>Administrative Assistant</td>\n",
              "      <td>MA</td>\n",
              "      <td>2170</td>\n",
              "      <td>9/16/85</td>\n",
              "      <td>F</td>\n",
              "      <td>Married</td>\n",
              "      <td>3</td>\n",
              "      <td>US Citizen</td>\n",
              "      <td>No</td>\n",
              "      <td>White</td>\n",
              "      <td>2/16/15</td>\n",
              "      <td>4/15/15</td>\n",
              "      <td>NaN</td>\n",
              "      <td>Terminated for Cause</td>\n",
              "      <td>Admin Offices</td>\n",
              "      <td>Brandon R. LeBlanc</td>\n",
              "      <td>Pay Per Click - Google</td>\n",
              "      <td>Fully Meets</td>\n",
              "      <td>6.48</td>\n",
              "      <td>3</td>\n",
              "      <td>83</td>\n",
              "      <td>0</td>\n",
              "      <td>NaN</td>\n",
              "      <td>NaN</td>\n",
              "      <td>2</td>\n",
              "      <td>1985-09-16</td>\n",
              "      <td>2020-10-09</td>\n",
              "      <td>35.064375</td>\n",
              "    </tr>\n",
              "    <tr>\n",
              "      <th>4</th>\n",
              "      <td>Singh, Nan</td>\n",
              "      <td>1307059817</td>\n",
              "      <td>34444.8</td>\n",
              "      <td>Administrative Assistant</td>\n",
              "      <td>MA</td>\n",
              "      <td>2330</td>\n",
              "      <td>5/19/88</td>\n",
              "      <td>F</td>\n",
              "      <td>Single</td>\n",
              "      <td>4</td>\n",
              "      <td>US Citizen</td>\n",
              "      <td>No</td>\n",
              "      <td>White</td>\n",
              "      <td>5/1/15</td>\n",
              "      <td>NaN</td>\n",
              "      <td>N/A - still employed</td>\n",
              "      <td>Active</td>\n",
              "      <td>Admin Offices</td>\n",
              "      <td>Brandon R. LeBlanc</td>\n",
              "      <td>Website Banner Ads</td>\n",
              "      <td>Fully Meets</td>\n",
              "      <td>10.00</td>\n",
              "      <td>3</td>\n",
              "      <td>36</td>\n",
              "      <td>3</td>\n",
              "      <td>1/15/19</td>\n",
              "      <td>0.0</td>\n",
              "      <td>2</td>\n",
              "      <td>1988-05-19</td>\n",
              "      <td>2020-10-09</td>\n",
              "      <td>32.392178</td>\n",
              "    </tr>\n",
              "  </tbody>\n",
              "</table>\n",
              "</div>"
            ],
            "text/plain": [
              "          Employee_Name       EmpID  PayRate  ...    DOBconv      Today        Age\n",
              "0            Brown, Mia  1103024456  59280.0  ... 1987-11-24 2020-10-09  32.876787\n",
              "1  LaRotonda, William    1106026572  47840.0  ... 1984-04-26 2020-10-09  36.455232\n",
              "2      Steans, Tyrone    1302053333  60320.0  ... 1986-09-01 2020-10-09  34.106108\n",
              "3       Howard, Estelle  1211050782  44720.0  ... 1985-09-16 2020-10-09  35.064375\n",
              "4           Singh, Nan   1307059817  34444.8  ... 1988-05-19 2020-10-09  32.392178\n",
              "\n",
              "[5 rows x 31 columns]"
            ]
          },
          "metadata": {
            "tags": []
          },
          "execution_count": 43
        }
      ]
    },
    {
      "cell_type": "code",
      "metadata": {
        "id": "EMHx2NFS2iZ3"
      },
      "source": [
        "import numpy as np\n",
        "def getAge(dataSet):\n",
        "  dataSet[\"DOBconv\"] = pd.to_datetime(dataSet['DOB'])\n",
        "  dataSet[\"Today\"] = \"10/9/2020\"\n",
        "  dataSet[\"Today\"] = pd.to_datetime(dataSet['Today'])\n",
        "  dataSet[\"Age\"] = dataSet[\"Today\"]-hr[\"DOBconv\"]\n",
        "  dataSet[\"Age\"] = dataSet[\"Age\"]/np.timedelta64(1,'Y')\n",
        "  dataSet[\"Age\"] = dataSet[\"DOB\"]\n",
        "  return dataSet\n",
        "\n",
        " \n",
        "\n"
      ],
      "execution_count": 94,
      "outputs": []
    },
    {
      "cell_type": "code",
      "metadata": {
        "id": "WlYjwfcAAAXX",
        "outputId": "6929100a-cb7e-4a3e-f13b-dfa788d981f9",
        "colab": {
          "base_uri": "https://localhost:8080/",
          "height": 425
        }
      },
      "source": [
        "\n",
        "hr.loc[:, \"RecruitmentSource\"].value_counts()"
      ],
      "execution_count": 84,
      "outputs": [
        {
          "output_type": "execute_result",
          "data": {
            "text/plain": [
              "Employee Referral                         31\n",
              "Diversity Job Fair                        29\n",
              "Search Engine - Google Bing Yahoo         25\n",
              "Monster.com                               24\n",
              "Pay Per Click - Google                    21\n",
              "Professional Society                      20\n",
              "Newspager/Magazine                        18\n",
              "MBTA ads                                  17\n",
              "Billboard                                 16\n",
              "Vendor Referral                           15\n",
              "Glassdoor                                 14\n",
              "Word of Mouth                             13\n",
              "Website Banner Ads                        13\n",
              "On-campus Recruiting                      12\n",
              "Social Networks - Facebook Twitter etc    11\n",
              "Other                                      9\n",
              "Indeed                                     8\n",
              "Internet Search                            6\n",
              "Information Session                        4\n",
              "Pay Per Click                              1\n",
              "On-line Web application                    1\n",
              "Careerbuilder                              1\n",
              "Company Intranet - Partner                 1\n",
              "Name: RecruitmentSource, dtype: int64"
            ]
          },
          "metadata": {
            "tags": []
          },
          "execution_count": 84
        }
      ]
    },
    {
      "cell_type": "code",
      "metadata": {
        "id": "WEcUadFCINTB",
        "outputId": "d218c997-e7b2-4a67-d93e-fd32cea5fe91",
        "colab": {
          "base_uri": "https://localhost:8080/",
          "height": 136
        }
      },
      "source": [
        "hr.loc[:, \"RaceDesc\"].value_counts()\n"
      ],
      "execution_count": 85,
      "outputs": [
        {
          "output_type": "execute_result",
          "data": {
            "text/plain": [
              "White                               193\n",
              "Black or African American            57\n",
              "Asian                                34\n",
              "Two or more races                    18\n",
              "Hispanic                              4\n",
              "American Indian or Alaska Native      4\n",
              "Name: RaceDesc, dtype: int64"
            ]
          },
          "metadata": {
            "tags": []
          },
          "execution_count": 85
        }
      ]
    },
    {
      "cell_type": "markdown",
      "metadata": {
        "id": "1qSoi2XmPpQS"
      },
      "source": [
        "to be merged:\n",
        "\n",
        "\n",
        "---\n",
        "\n",
        "\n",
        "on-line web application, Indeed, Glassdoor, Monster.com, Careerbuilder\n",
        "\n",
        "\n",
        "---\n",
        "\n",
        "pay per click, pay per click - google, Internet Search, Search Engine - GBY,\n",
        "\n",
        "\n",
        "---\n",
        "\n",
        "Employee Referral, Company Intranet, Vender Referral, Word of Mouth\n",
        "\n",
        "\n",
        "---\n",
        "Newspaper/Magazine, Billboard, MTBA ads\n",
        "\n",
        "\n",
        "---\n",
        "\n",
        "\n",
        "social networking, website banner ads,\n",
        "\n",
        "\n",
        "---\n",
        "Information session, on-campus recruiting\n",
        "\n"
      ]
    },
    {
      "cell_type": "code",
      "metadata": {
        "id": "Xg-c1SZ9HRx5"
      },
      "source": [
        "emre = hr[ hr['RecruitmentSource'] == 'Employee Referral']\n",
        "div = hr[ hr['RecruitmentSource'] == 'Diversity Job Fair'] #\n",
        "seGBY = hr[ hr['RecruitmentSource'] == 'Search Engine - Google Bing Yahoo']\n",
        "monster = hr[ hr['RecruitmentSource'] == 'Monster.com']\n",
        "ppcG = hr[ hr['RecruitmentSource'] == 'Pay Per Click - Google']\n",
        "ps = hr[ hr['RecruitmentSource'] == 'Professional Society'] #\n",
        "nm = hr[ hr['RecruitmentSource'] == 'Newspager/Magazine']\n",
        "mbta = hr[ hr['RecruitmentSource'] == 'MBTA ads']\n",
        "bill = hr[ hr['RecruitmentSource'] == 'Billboard']\n",
        "vr = hr[ hr['RecruitmentSource'] == 'Vendor Referral']\n",
        "glass = hr[ hr['RecruitmentSource'] == 'Glassdoor']\n",
        "wom = hr[ hr['RecruitmentSource'] == 'Word of Mouth']\n",
        "wba = hr[ hr['RecruitmentSource'] == 'Website Banner Ads']\n",
        "ocr = hr[ hr['RecruitmentSource'] == 'On-campus Recruiting']\n",
        "sn = hr[ hr['RecruitmentSource'] == 'Social Networks - Facebook Twitter etc ']\n",
        "other  = hr[ hr['RecruitmentSource'] == 'Other'] #\n",
        "indeed = hr[ hr['RecruitmentSource'] == 'Indeed']\n",
        "seo = hr[ hr['RecruitmentSource'] == 'Internet Search']\n",
        "info = hr[ hr['RecruitmentSource'] == 'Information Session']\n",
        "ppc = hr[ hr['RecruitmentSource'] == 'Pay Per Click']\n",
        "owa = hr[ hr['RecruitmentSource'] == 'On-line Web application']\n",
        "cb = hr[ hr['RecruitmentSource'] == 'Careerbuilder']\n",
        "cip = hr[ hr['RecruitmentSource'] == 'Company Intranet - Partner']"
      ],
      "execution_count": 95,
      "outputs": []
    },
    {
      "cell_type": "code",
      "metadata": {
        "id": "FS8tpv4_Tvni"
      },
      "source": [
        "apps = pd.concat([owa,indeed,glass,monster,cb])\n",
        "search = pd.concat([seGBY,ppcG,ppc,seo])\n",
        "referral = pd.concat([emre,cip,vr,wom])\n",
        "pysAd = pd.concat([nm,bill,mbta])\n",
        "webAd = pd.concat([sn,wba])\n",
        "student= pd.concat([info,ocr])\n",
        "#div\n",
        "#ps\n",
        "#other"
      ],
      "execution_count": 97,
      "outputs": []
    },
    {
      "cell_type": "markdown",
      "metadata": {
        "id": "WFBz0J3iO-Z0"
      },
      "source": [
        ""
      ]
    },
    {
      "cell_type": "code",
      "metadata": {
        "id": "r2U-YS5pPkvn",
        "outputId": "5a7a6a44-c887-438f-a3ea-ae45ba85209d",
        "colab": {
          "base_uri": "https://localhost:8080/",
          "height": 85
        }
      },
      "source": [
        "apps.loc[:,\"RaceDesc\"].value_counts()\n",
        "apps.loc[:,\"Sex\"].value_counts()\n",
        "\n",
        "appsRacialD = calc([30,10,8,0,0,0],48)\n",
        "appsSexD = calc([18,30],48)\n",
        "print(appsRacialD)\n",
        "print(appsSexD)"
      ],
      "execution_count": 118,
      "outputs": [
        {
          "output_type": "stream",
          "text": [
            "1016\n",
            "1176\n",
            "0.549645390070922\n",
            "0.4787234042553191\n"
          ],
          "name": "stdout"
        }
      ]
    },
    {
      "cell_type": "code",
      "metadata": {
        "id": "VSqrGZmWZAak",
        "outputId": "f09f0162-a323-425f-c16b-6c922a55e403",
        "colab": {
          "base_uri": "https://localhost:8080/",
          "height": 85
        }
      },
      "source": [
        "search.loc[:,\"RaceDesc\"].value_counts()\n",
        "search.loc[:,\"Sex\"].value_counts()\n",
        "\n",
        "searchRacialD = calc([38,5,6,2,1,1],53)\n",
        "searchSexD = calc([19,34],53)\n",
        "print(searchRacialD)\n",
        "print(searchSexD)"
      ],
      "execution_count": 148,
      "outputs": [
        {
          "output_type": "stream",
          "text": [
            "1458\n",
            "1464\n",
            "0.4709724238026125\n",
            "0.4687953555878084\n"
          ],
          "name": "stdout"
        }
      ]
    },
    {
      "cell_type": "code",
      "metadata": {
        "id": "BQS2k4i9ZRne",
        "outputId": "8db59769-7178-4cfa-fbc4-315e2985c1f5",
        "colab": {
          "base_uri": "https://localhost:8080/",
          "height": 85
        }
      },
      "source": [
        "referral.loc[:,\"RaceDesc\"].value_counts()\n",
        "referral.loc[:,\"Sex\"].value_counts()\n",
        "\n",
        "referralRacialD = calc([49,7,2,1,0,1],60)\n",
        "referralSexD = calc([31,29],60)\n",
        "print(referralRacialD)\n",
        "print(referralSexD)"
      ],
      "execution_count": 125,
      "outputs": [
        {
          "output_type": "stream",
          "text": [
            "2396\n",
            "1742\n",
            "0.3231638418079096\n",
            "0.507909604519774\n"
          ],
          "name": "stdout"
        }
      ]
    },
    {
      "cell_type": "code",
      "metadata": {
        "id": "AUd6UzP_AS3y",
        "outputId": "f4e7f3b3-bc99-4ee1-89da-7ab3fe99f8fa",
        "colab": {
          "base_uri": "https://localhost:8080/",
          "height": 68
        }
      },
      "source": [
        ""
      ],
      "execution_count": 147,
      "outputs": [
        {
          "output_type": "execute_result",
          "data": {
            "text/plain": [
              "F     32\n",
              "M     19\n",
              "Name: Sex, dtype: int64"
            ]
          },
          "metadata": {
            "tags": []
          },
          "execution_count": 147
        }
      ]
    },
    {
      "cell_type": "code",
      "metadata": {
        "id": "sg3oFSxvZhCO",
        "outputId": "de5763d0-00e9-4f5c-eb0d-3c5517c47cdc",
        "colab": {
          "base_uri": "https://localhost:8080/",
          "height": 85
        }
      },
      "source": [
        "pysAd.loc[:,\"RaceDesc\"].value_counts()\n",
        "pysAd.loc[:,\"Sex\"].value_counts()\n",
        "\n",
        "psyAdRacialD = calc([33,9,5,3,0,1],51)\n",
        "psyAdSexD = calc([19,32],51)\n",
        "print(psyAdRacialD)\n",
        "print(psyAdSexD)"
      ],
      "execution_count": 129,
      "outputs": [
        {
          "output_type": "stream",
          "text": [
            "1154\n",
            "1334\n",
            "0.5474509803921568\n",
            "0.47686274509803916\n"
          ],
          "name": "stdout"
        }
      ]
    },
    {
      "cell_type": "code",
      "metadata": {
        "id": "FLd08xXWZvbX",
        "outputId": "8a28fc47-8c8c-40e4-d6fa-294c8af851fe",
        "colab": {
          "base_uri": "https://localhost:8080/",
          "height": 85
        }
      },
      "source": [
        "webAd.loc[:,\"RaceDesc\"].value_counts()\n",
        "webAd.loc[:,\"Sex\"].value_counts()\n",
        "\n",
        "webAdRacialD = calc([7,4,1,1,0,0],13)\n",
        "webAdSexD = calc([7,6],13)\n",
        "print(webAdRacialD)\n",
        "print(webAdSexD)"
      ],
      "execution_count": 133,
      "outputs": [
        {
          "output_type": "stream",
          "text": [
            "54\n",
            "72\n",
            "0.6538461538461539\n",
            "0.5384615384615384\n"
          ],
          "name": "stdout"
        }
      ]
    },
    {
      "cell_type": "code",
      "metadata": {
        "id": "R2ptgBc4ZzkO",
        "outputId": "14dbd125-62cf-4d88-de16-1e63e598f645",
        "colab": {
          "base_uri": "https://localhost:8080/",
          "height": 85
        }
      },
      "source": [
        "student.loc[:,\"RaceDesc\"].value_counts()\n",
        "student.loc[:,\"Sex\"].value_counts()\n",
        "\n",
        "studentRacialD = calc([8,4,4,0,0,0],16)\n",
        "studentSexD = calc([9,7],16)\n",
        "print(studentRacialD)\n",
        "print(studentSexD)"
      ],
      "execution_count": 114,
      "outputs": [
        {
          "output_type": "stream",
          "text": [
            "80\n",
            "114\n",
            "0.6666666666666667\n",
            "0.525\n"
          ],
          "name": "stdout"
        }
      ]
    },
    {
      "cell_type": "code",
      "metadata": {
        "id": "amiIfe7MZ4LN",
        "outputId": "23066fb0-e9b9-4270-e7b0-07d3f6fdcc4c",
        "colab": {
          "base_uri": "https://localhost:8080/",
          "height": 85
        }
      },
      "source": [
        "div.loc[:,\"RaceDesc\"].value_counts()\n",
        "div.loc[:,\"Sex\"].value_counts()\n",
        "\n",
        "divRacialD = calc([1,12,5,3,1,0],29)\n",
        "divSexD = calc([14,15],29)\n",
        "print(divRacialD)\n",
        "print(divSexD)"
      ],
      "execution_count": 139,
      "outputs": [
        {
          "output_type": "stream",
          "text": [
            "158\n",
            "392\n",
            "0.8054187192118226\n",
            "0.5172413793103448\n"
          ],
          "name": "stdout"
        }
      ]
    },
    {
      "cell_type": "code",
      "metadata": {
        "id": "W9mJxcL6Z4VO",
        "outputId": "ba4c0c41-5762-4c77-85d0-92d967f53fea",
        "colab": {
          "base_uri": "https://localhost:8080/",
          "height": 85
        }
      },
      "source": [
        "ps.loc[:,\"RaceDesc\"].value_counts()\n",
        "ps.loc[:,\"Sex\"].value_counts()\n",
        "\n",
        "psRacialD = calc([13,4,1,2,0,0],20)\n",
        "psSexD = calc([10,10],20)\n",
        "print(psRacialD)\n",
        "print(psSexD)"
      ],
      "execution_count": 142,
      "outputs": [
        {
          "output_type": "stream",
          "text": [
            "170\n",
            "180\n",
            "0.5526315789473684\n",
            "0.5263157894736843\n"
          ],
          "name": "stdout"
        }
      ]
    },
    {
      "cell_type": "code",
      "metadata": {
        "id": "K7G_WYaHfFkL",
        "outputId": "46aa835b-917b-4344-83a3-04472cd8ddf0",
        "colab": {
          "base_uri": "https://localhost:8080/",
          "height": 102
        }
      },
      "source": [
        "other.loc[:,\"RaceDesc\"].value_counts()"
      ],
      "execution_count": 145,
      "outputs": [
        {
          "output_type": "execute_result",
          "data": {
            "text/plain": [
              "White                        6\n",
              "Black or African American    1\n",
              "Two or more races            1\n",
              "Asian                        1\n",
              "Name: RaceDesc, dtype: int64"
            ]
          },
          "metadata": {
            "tags": []
          },
          "execution_count": 145
        }
      ]
    },
    {
      "cell_type": "code",
      "metadata": {
        "id": "VKREN9uUZ4cn",
        "outputId": "09dbab0b-d2cd-40b3-a49d-844d2854a655",
        "colab": {
          "base_uri": "https://localhost:8080/",
          "height": 85
        }
      },
      "source": [
        "other.loc[:,\"RaceDesc\"].value_counts()\n",
        "other.loc[:,\"Sex\"].value_counts()\n",
        "\n",
        "otherRacialD = calc([6,1,1,1,0,0],9)\n",
        "otherSexD = calc([2,7],9)\n",
        "print(otherRacialD)\n",
        "print(otherSexD)"
      ],
      "execution_count": 146,
      "outputs": [
        {
          "output_type": "stream",
          "text": [
            "30\n",
            "44\n",
            "0.5833333333333333\n",
            "0.38888888888888884\n"
          ],
          "name": "stdout"
        }
      ]
    },
    {
      "cell_type": "code",
      "metadata": {
        "id": "hryLEB908NNu",
        "outputId": "bd43db64-5771-4776-aeee-3ee126390c2c",
        "colab": {
          "base_uri": "https://localhost:8080/",
          "height": 359
        }
      },
      "source": [
        "RecruitDiversity =pd.DataFrame({'Recruit Source':['Apps','Search','Referral','Physical Ads','Web Ads','Student','Diversity Fair','Professional Society','Other', 'Overall'], \n",
        "              'Racial Diversity':[0.550,0.471,0.323,0.547,0.654,0.667,0.805,0.553,0.583,0.565], \n",
        "              'Gender Diversity':[0.479,0.469,0.508,0.477,0.538,0.525,0.517,0.526,0.389,0.492], \n",
        "              'Racial Mode':['White','White','White','White','White','White','Black or African American','White','White','White'],\n",
        "              'Gender Mode':['F','F','M','F','M','M','F','E','F','F']}, \n",
        "             columns=['Recruit Source','Racial Diversity','Racial Mode','Gender Diversity','Gender Mode'])\n",
        "RecruitDiversity\n"
      ],
      "execution_count": 190,
      "outputs": [
        {
          "output_type": "execute_result",
          "data": {
            "text/html": [
              "<div>\n",
              "<style scoped>\n",
              "    .dataframe tbody tr th:only-of-type {\n",
              "        vertical-align: middle;\n",
              "    }\n",
              "\n",
              "    .dataframe tbody tr th {\n",
              "        vertical-align: top;\n",
              "    }\n",
              "\n",
              "    .dataframe thead th {\n",
              "        text-align: right;\n",
              "    }\n",
              "</style>\n",
              "<table border=\"1\" class=\"dataframe\">\n",
              "  <thead>\n",
              "    <tr style=\"text-align: right;\">\n",
              "      <th></th>\n",
              "      <th>Recruit Source</th>\n",
              "      <th>Racial Diversity</th>\n",
              "      <th>Racial Mode</th>\n",
              "      <th>Gender Diversity</th>\n",
              "      <th>Gender Mode</th>\n",
              "    </tr>\n",
              "  </thead>\n",
              "  <tbody>\n",
              "    <tr>\n",
              "      <th>0</th>\n",
              "      <td>Apps</td>\n",
              "      <td>0.550</td>\n",
              "      <td>White</td>\n",
              "      <td>0.479</td>\n",
              "      <td>F</td>\n",
              "    </tr>\n",
              "    <tr>\n",
              "      <th>1</th>\n",
              "      <td>Search</td>\n",
              "      <td>0.471</td>\n",
              "      <td>White</td>\n",
              "      <td>0.469</td>\n",
              "      <td>F</td>\n",
              "    </tr>\n",
              "    <tr>\n",
              "      <th>2</th>\n",
              "      <td>Referral</td>\n",
              "      <td>0.323</td>\n",
              "      <td>White</td>\n",
              "      <td>0.508</td>\n",
              "      <td>M</td>\n",
              "    </tr>\n",
              "    <tr>\n",
              "      <th>3</th>\n",
              "      <td>Physical Ads</td>\n",
              "      <td>0.547</td>\n",
              "      <td>White</td>\n",
              "      <td>0.477</td>\n",
              "      <td>F</td>\n",
              "    </tr>\n",
              "    <tr>\n",
              "      <th>4</th>\n",
              "      <td>Web Ads</td>\n",
              "      <td>0.654</td>\n",
              "      <td>White</td>\n",
              "      <td>0.538</td>\n",
              "      <td>M</td>\n",
              "    </tr>\n",
              "    <tr>\n",
              "      <th>5</th>\n",
              "      <td>Student</td>\n",
              "      <td>0.667</td>\n",
              "      <td>White</td>\n",
              "      <td>0.525</td>\n",
              "      <td>M</td>\n",
              "    </tr>\n",
              "    <tr>\n",
              "      <th>6</th>\n",
              "      <td>Diversity Fair</td>\n",
              "      <td>0.805</td>\n",
              "      <td>Black or African American</td>\n",
              "      <td>0.517</td>\n",
              "      <td>F</td>\n",
              "    </tr>\n",
              "    <tr>\n",
              "      <th>7</th>\n",
              "      <td>Professional Society</td>\n",
              "      <td>0.553</td>\n",
              "      <td>White</td>\n",
              "      <td>0.526</td>\n",
              "      <td>E</td>\n",
              "    </tr>\n",
              "    <tr>\n",
              "      <th>8</th>\n",
              "      <td>Other</td>\n",
              "      <td>0.583</td>\n",
              "      <td>White</td>\n",
              "      <td>0.389</td>\n",
              "      <td>F</td>\n",
              "    </tr>\n",
              "    <tr>\n",
              "      <th>9</th>\n",
              "      <td>Overall</td>\n",
              "      <td>0.565</td>\n",
              "      <td>White</td>\n",
              "      <td>0.492</td>\n",
              "      <td>F</td>\n",
              "    </tr>\n",
              "  </tbody>\n",
              "</table>\n",
              "</div>"
            ],
            "text/plain": [
              "         Recruit Source  Racial Diversity  ... Gender Diversity  Gender Mode\n",
              "0                  Apps             0.550  ...            0.479            F\n",
              "1                Search             0.471  ...            0.469            F\n",
              "2              Referral             0.323  ...            0.508            M\n",
              "3          Physical Ads             0.547  ...            0.477            F\n",
              "4               Web Ads             0.654  ...            0.538            M\n",
              "5               Student             0.667  ...            0.525            M\n",
              "6        Diversity Fair             0.805  ...            0.517            F\n",
              "7  Professional Society             0.553  ...            0.526            E\n",
              "8                 Other             0.583  ...            0.389            F\n",
              "9               Overall             0.565  ...            0.492            F\n",
              "\n",
              "[10 rows x 5 columns]"
            ]
          },
          "metadata": {
            "tags": []
          },
          "execution_count": 190
        }
      ]
    },
    {
      "cell_type": "code",
      "metadata": {
        "id": "stRdVy62CfXG",
        "outputId": "b5eeb302-448f-437e-ebf4-13cdfedd1628",
        "colab": {
          "base_uri": "https://localhost:8080/",
          "height": 378
        }
      },
      "source": [
        "import matplotlib.pyplot as plt\n",
        "x = RecruitDiversity['Racial Diversity']\n",
        "y = RecruitDiversity['Gender Diversity']\n",
        "plt.xlabel('Racial Diversity')\n",
        "plt.ylabel('Gender Diversity')\n",
        "plt.axvline(0.565, c=(0.5,0.5,0.5), ls='--')\n",
        "plt.axhline(0.492, c=(0.5,0.5,0.5), ls='--')\n",
        "plt.annotate(\"Diversity Fair\", xy=[0.805,0.517])\n",
        "plt.annotate(\"Referral\", xy=[0.323,0.508])\n",
        "plt.annotate(\"Current\", xy=[0.565,0.492])\n",
        "plt.annotate(\"Web Ads\", xy=[0.654,0.538])\n",
        "plt.annotate(\"College Recruitment\", xy=[0.667,0.525])\n",
        "plt.annotate(\"Professional Society\", xy=[0.553,0.526])\n",
        "plt.annotate(\"Diversity Fair\", xy=[0.805,0.517])\n",
        "plt.style.use('seaborn')\n",
        "plt.scatter(x,y, c=x, cmap='Spectral', edgecolor='k')"
      ],
      "execution_count": 207,
      "outputs": [
        {
          "output_type": "execute_result",
          "data": {
            "text/plain": [
              "<matplotlib.collections.PathCollection at 0x7f47be8dfa90>"
            ]
          },
          "metadata": {
            "tags": []
          },
          "execution_count": 207
        },
        {
          "output_type": "display_data",
          "data": {
            "image/png": "[encoded data removed]",
            "text/plain": [
              "<Figure size 576x396 with 1 Axes>"
            ]
          },
          "metadata": {
            "tags": []
          }
        }
      ]
    }
  ]
}